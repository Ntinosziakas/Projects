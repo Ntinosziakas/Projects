{
 "cells": [
  {
   "cell_type": "markdown",
   "id": "a607c644",
   "metadata": {},
   "source": [
    "# One-Sample T-Test"
   ]
  },
  {
   "cell_type": "code",
   "execution_count": 255,
   "id": "1bdb9df2",
   "metadata": {},
   "outputs": [],
   "source": [
    "import numpy as np\n",
    "import pandas as pd\n",
    "import scipy.stats as stats\n",
    "import matplotlib.pyplot as plt\n",
    "import math"
   ]
  },
  {
   "cell_type": "code",
   "execution_count": 281,
   "id": "8142ed60",
   "metadata": {},
   "outputs": [
    {
     "name": "stdout",
     "output_type": "stream",
     "text": [
      "Population Ages Mean = 37.0\n",
      "Athens Ages Mean = 34.12\n"
     ]
    }
   ],
   "source": [
    "np.random.seed(6)\n",
    "\n",
    "alpha = 0.05\n",
    "\n",
    "population_ages1 = stats.poisson.rvs(loc=18, mu=25, size=150000)\n",
    "population_ages2 = stats.poisson.rvs(loc=18, mu=10, size=100000)\n",
    "population_ages = np.concatenate((population_ages1, population_ages2))\n",
    "\n",
    "Athens_ages1 = stats.poisson.rvs(loc=18, mu=20, size=30)\n",
    "Athens_ages2 = stats.poisson.rvs(loc=18, mu=10, size=20)\n",
    "Athens_ages = np.concatenate((Athens_ages1, Athens_ages2))\n",
    "\n",
    "print(\"Population Ages Mean =\", np.round((population_ages.mean()),2 ))\n",
    "print(\"Athens Ages Mean =\" , np.round((Athens_ages.mean()),2 ))\n"
   ]
  },
  {
   "cell_type": "code",
   "execution_count": 282,
   "id": "8d3a3e3e",
   "metadata": {},
   "outputs": [
    {
     "name": "stdout",
     "output_type": "stream",
     "text": [
      "t_Statistic = -3.0532\n",
      "p-value = 0.0037\n"
     ]
    }
   ],
   "source": [
    "res=stats.ttest_1samp(a = Athens_ages,                   # Sample data\n",
    "                 popmean = population_ages.mean())    # Population mean\n",
    "print(\"t_Statistic =\",np.round((res.statistic),4))\n",
    "print(\"p-value =\",np.round((res.pvalue),4))"
   ]
  },
  {
   "cell_type": "code",
   "execution_count": 283,
   "id": "dcaf986b",
   "metadata": {},
   "outputs": [
    {
     "name": "stdout",
     "output_type": "stream",
     "text": [
      "0.025 quantile = -2.0096\n"
     ]
    }
   ],
   "source": [
    "quant1=np.round(stats.t.ppf(q=alpha/2,  # Quantile to check\n",
    "            df=len(Athens_ages)-1),4)  # Degrees of freedom\n",
    "print(alpha/2,\"quantile =\",quant1)"
   ]
  },
  {
   "cell_type": "code",
   "execution_count": 284,
   "id": "0a3a6013",
   "metadata": {},
   "outputs": [
    {
     "name": "stdout",
     "output_type": "stream",
     "text": [
      "0.975 quantile = 2.0096\n"
     ]
    }
   ],
   "source": [
    "quant2=np.round(stats.t.ppf(q=1-(alpha/2),  # Quantile to check\n",
    "            df=len(Athens_ages)-1),4)  # Degrees of freedom\n",
    "print(1-(alpha/2),\"quantile =\",quant2)"
   ]
  },
  {
   "cell_type": "code",
   "execution_count": 285,
   "id": "b24fad49",
   "metadata": {},
   "outputs": [
    {
     "name": "stdout",
     "output_type": "stream",
     "text": [
      "Two-Tailed Test: 0.003654\n",
      "One-Tailed Test: 0.001827\n"
     ]
    }
   ],
   "source": [
    "twotailed=stats.t.cdf(x= res.statistic,      # T-test statistic\n",
    "                           df= len(Athens_ages)-1) * 2   # Multiply by two for two tailed test\n",
    "\n",
    "onetail=stats.t.cdf(x= res.statistic,df= 49)\n",
    "\n",
    "print(\"Two-Tailed Test:\", np.round(twotailed,6))\n",
    "print(\"One-Tailed Test:\", np.round(onetail,6))"
   ]
  },
  {
   "cell_type": "code",
   "execution_count": 286,
   "id": "4adc5bfd",
   "metadata": {},
   "outputs": [
    {
     "name": "stdout",
     "output_type": "stream",
     "text": [
      "Lower Bound Confidence Interval = 32.24\n",
      "Upper Bound Confidence Interval = 36.0\n",
      "-----------------------------------------\n",
      "95.0 % CI : [32.24 36.  ]\n",
      "-----------------------------------------\n"
     ]
    }
   ],
   "source": [
    "sigma = minnesota_ages.std()/math.sqrt(50)  # Sample stdev/sample size\n",
    "\n",
    "inter=stats.t.interval(1-alpha,                     # Confidence level\n",
    "                 df = 49,                     # Degrees of freedom\n",
    "                 loc = minnesota_ages.mean(), # Sample mean\n",
    "                 scale= sigma)                # Standard dev estimate\n",
    "print(\"Lower Bound Confidence Interval =\",np.round(inter[0],2))\n",
    "print(\"Upper Bound Confidence Interval =\",np.round(inter[1],2))\n",
    "print(\"-----------------------------------------\")\n",
    "print((1-alpha)*100,\"% CI :\",np.round((inter),2))\n",
    "print(\"-----------------------------------------\")\n"
   ]
  },
  {
   "cell_type": "code",
   "execution_count": 300,
   "id": "c8dc4b53",
   "metadata": {},
   "outputs": [
    {
     "name": "stdout",
     "output_type": "stream",
     "text": [
      "-----------------------------------------\n",
      "Reject the null hypothesis\n",
      "-----------------------------------------\n",
      "t-Statistic = -3.0532 < -2.0096 = 2.5 % Quantile\n",
      "and\n",
      "p-Value = 0.0037 < 0.05 = α\n",
      "-----------------------------------------\n"
     ]
    }
   ],
   "source": [
    "if(res.statistic < quant1 or res.pvalue < alpha):\n",
    "    print(\"-----------------------------------------\")\n",
    "    print(\"Reject the null hypothesis\")\n",
    "    print(\"-----------------------------------------\")\n",
    "    print(\"t-Statistic =\",np.round((res.statistic),4), \"<\" , quant1 ,\"=\",(alpha/2)*100,\"% Quantile\")\n",
    "    print(\"and\")\n",
    "    print(\"p-Value =\",np.round((res.pvalue),4), \"<\" , alpha , \"= α\")\n",
    "    print(\"-----------------------------------------\")\n",
    "else:\n",
    "    print(\"-----------------------------------------\")\n",
    "    print(\"Do not reject the null hypothesis\")\n",
    "    print(\"-----------------------------------------\")\n",
    "    print(\"t-Statistic =\",np.round((res.statistic),4), \">\" ,quant1 ,\"=\",(alpha/2)*100,\"% Quantile\")\n",
    "    print(\"and\")\n",
    "    print(\"p-Value =\",np.round((res.pvalue),4), \">\" , alpha , \"= α\")\n",
    "    print(\"-----------------------------------------\")"
   ]
  }
 ],
 "metadata": {
  "kernelspec": {
   "display_name": "Python 3 (ipykernel)",
   "language": "python",
   "name": "python3"
  },
  "language_info": {
   "codemirror_mode": {
    "name": "ipython",
    "version": 3
   },
   "file_extension": ".py",
   "mimetype": "text/x-python",
   "name": "python",
   "nbconvert_exporter": "python",
   "pygments_lexer": "ipython3",
   "version": "3.9.12"
  }
 },
 "nbformat": 4,
 "nbformat_minor": 5
}
