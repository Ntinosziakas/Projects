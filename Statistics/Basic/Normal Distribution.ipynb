{
 "cells": [
  {
   "cell_type": "code",
   "execution_count": 3,
   "metadata": {},
   "outputs": [
    {
     "name": "stdout",
     "output_type": "stream",
     "text": [
      "----------------------------------------------------------------------------\n",
      "Descriptive Statistics\n",
      "---------------------------------------------------------------\n",
      "Mean =  497.24\n",
      "Variance =  84538.47\n",
      "Standard Deviation =  290.755\n",
      "Max =  999.46\n",
      "Min =  1.33\n",
      "Range =  998.13\n",
      "Median = 493.7\n",
      "The number of data which was more than the average : 496 = 0.496 = 49.6 %\n",
      "The number of data which was less than the average : 504 = 0.504 = 50.4 %\n",
      "----------------------------------------------------------------------------\n"
     ]
    },
    {
     "data": {
      "image/png": "[encoded data removed]",
      "text/plain": [
       "<Figure size 432x288 with 1 Axes>"
      ]
     },
     "metadata": {
      "needs_background": "light"
     },
     "output_type": "display_data"
    },
    {
     "data": {
      "image/png": "[encoded data removed]",
      "text/plain": [
       "<Figure size 432x288 with 1 Axes>"
      ]
     },
     "metadata": {
      "needs_background": "light"
     },
     "output_type": "display_data"
    },
    {
     "data": {
      "image/png": "[encoded data removed]",
      "text/plain": [
       "<Figure size 432x288 with 1 Axes>"
      ]
     },
     "metadata": {
      "needs_background": "light"
     },
     "output_type": "display_data"
    },
    {
     "data": {
      "image/png": "[encoded data removed]",
      "text/plain": [
       "<Figure size 432x288 with 1 Axes>"
      ]
     },
     "metadata": {
      "needs_background": "light"
     },
     "output_type": "display_data"
    }
   ],
   "source": [
    "import numpy as np\n",
    "import matplotlib.pyplot as plt\n",
    "from scipy.optimize import curve_fit\n",
    "import pandas as pd\n",
    "\n",
    "filedata = np.genfromtxt('Random Data.txt', delimiter=',')\n",
    "filedata = filedata.astype('float32')\n",
    "#print(np.round((filedata),4))\n",
    "print(\"----------------------------------------------------------------------------\")\n",
    "\n",
    "\n",
    "mean=np.round(np.average(filedata),2)\n",
    "var=np.round(np.var(filedata),4)\n",
    "sd=np.round(np.std(filedata),4)\n",
    "max=np.round(np.max(filedata),2)\n",
    "min=np.round(np.min(filedata),2)\n",
    "range = max - min\n",
    "med = np.median(filedata)\n",
    "print(\"Descriptive Statistics\")\n",
    "print(\"----------------------------------------------------------------------------\")\n",
    "\n",
    "print(\"Mean = \", mean)\n",
    "print(\"Variance = \", var)\n",
    "print(\"Standard Deviation = \", sd)\n",
    "print(\"Max = \", np.round(np.max(filedata),4))\n",
    "print(\"Min = \", np.round(np.min(filedata),4))\n",
    "print(\"Range = \", np.round(range,4))\n",
    "print(\"Median =\", np.round(med,2))\n",
    "\n",
    "filedata[filedata > np.average(filedata)]\n",
    "sum=np.count_nonzero(filedata)\n",
    "ba=np.count_nonzero(filedata > np.average(filedata))\n",
    "tba=ba/sum\n",
    "\n",
    "print(\"The number of data which was more than the average :\",np.count_nonzero(filedata > np.average(filedata)),\"=\",np.round(tba,4),\"=\",np.round(100*tba,2),\"%\")\n",
    "print(\"The number of data which was less than the average :\",np.count_nonzero(filedata < np.average(filedata)),\"=\",np.round(1-tba,4),\"=\",np.round(100*(1-tba),2),\"%\")\n",
    "print(\"----------------------------------------------------------------------------\")\n",
    "\n",
    "# Sort Data\n",
    "sfiledata=np.sort(filedata)\n",
    "\n",
    "# Plot Data\n",
    "plt.plot(sfiledata)\n",
    "plt.title(\"Line Plot\") \n",
    "plt.show()\n",
    "\n",
    "# Histogram\n",
    "plt.hist(sfiledata)\n",
    "plt.title(\"Histogram\")\n",
    "plt.show()\n",
    "\n",
    "# Boxplot\n",
    "plt.boxplot(sfiledata)\n",
    "plt.title(\"Boxplot\") \n",
    "plt.show()\n",
    "\n",
    "plt.bar(filedata, height=1+max, width=0.0088)\n",
    "plt.title(\"Bar Chart\") \n",
    "plt.show()\n",
    "\n",
    "\n",
    "\n"
   ]
  },
  {
   "cell_type": "markdown",
   "metadata": {},
   "source": [
    "## Transformation of Values into z-Values"
   ]
  },
  {
   "cell_type": "code",
   "execution_count": null,
   "metadata": {},
   "outputs": [],
   "source": [
    "z=(filedata-np.round(np.average(filedata),4)/np.round(np.std(filedata),4))"
   ]
  }
 ],
 "metadata": {
  "kernelspec": {
   "display_name": "Python 3 (ipykernel)",
   "language": "python",
   "name": "python3"
  },
  "language_info": {
   "codemirror_mode": {
    "name": "ipython",
    "version": 3
   },
   "file_extension": ".py",
   "mimetype": "text/x-python",
   "name": "python",
   "nbconvert_exporter": "python",
   "pygments_lexer": "ipython3",
   "version": "3.9.12"
  }
 },
 "nbformat": 4,
 "nbformat_minor": 4
}
