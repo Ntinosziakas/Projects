{
 "cells": [
  {
   "cell_type": "markdown",
   "id": "d94ee080",
   "metadata": {},
   "source": [
    "# One-Sample T-Test with imported data"
   ]
  },
  {
   "cell_type": "code",
   "execution_count": 23,
   "id": "693f7a0a",
   "metadata": {},
   "outputs": [],
   "source": [
    "import numpy as np\n",
    "import pandas as pd\n",
    "import scipy.stats as stats\n",
    "import matplotlib.pyplot as plt\n",
    "import math"
   ]
  },
  {
   "cell_type": "code",
   "execution_count": 53,
   "id": "b1d23f65",
   "metadata": {},
   "outputs": [
    {
     "name": "stdout",
     "output_type": "stream",
     "text": [
      "Population Mean = 24.5\n",
      "Sample Mean = 24.21\n"
     ]
    }
   ],
   "source": [
    "alpha = 0.05\n",
    "\n",
    "population = np.genfromtxt('Population.csv', delimiter=',')\n",
    "population = population.astype('int16')\n",
    "\n",
    "sample = np.genfromtxt('Sample.csv', delimiter=',')\n",
    "sample = sample.astype('int16')\n",
    "\n",
    "print(\"Population Mean =\", np.round((population.mean()),2 ))\n",
    "print(\"Sample Mean =\" , np.round((sample.mean()),2 ))\n"
   ]
  },
  {
   "cell_type": "code",
   "execution_count": 54,
   "id": "61330508",
   "metadata": {},
   "outputs": [
    {
     "name": "stdout",
     "output_type": "stream",
     "text": [
      "t_Statistic = -0.6136\n",
      "p-value = 0.5396\n"
     ]
    }
   ],
   "source": [
    "res=stats.ttest_1samp(a = sample,                   # Sample data\n",
    "                 popmean = population.mean())    # Population mean\n",
    "print(\"t_Statistic =\",np.round((res.statistic),4))\n",
    "print(\"p-value =\",np.round((res.pvalue),4))"
   ]
  },
  {
   "cell_type": "code",
   "execution_count": 55,
   "id": "e1cd2060",
   "metadata": {},
   "outputs": [
    {
     "name": "stdout",
     "output_type": "stream",
     "text": [
      "Test Hypothesis\n",
      "H0: 24.5 = 24.21\n",
      "H1: 24.5 =/= 24.21\n"
     ]
    }
   ],
   "source": [
    "print(\"Test Hypothesis\")\n",
    "print(\"H0:\",np.round((population.mean()),2 ),\"=\",np.round((sample.mean()),2 ))\n",
    "print(\"H1:\",np.round((population.mean()),2 ),\"=/=\",np.round((sample.mean()),2 ))"
   ]
  },
  {
   "cell_type": "code",
   "execution_count": 56,
   "id": "389b04f2",
   "metadata": {},
   "outputs": [
    {
     "name": "stdout",
     "output_type": "stream",
     "text": [
      "0.025 quantile = -1.9623\n"
     ]
    }
   ],
   "source": [
    "quant1=np.round(stats.t.ppf(q=alpha/2,  # Quantile to check\n",
    "            df=len(sample)-1),4)  # Degrees of freedom\n",
    "print(alpha/2,\"quantile =\",quant1)"
   ]
  },
  {
   "cell_type": "code",
   "execution_count": 57,
   "id": "35ba8c49",
   "metadata": {},
   "outputs": [
    {
     "name": "stdout",
     "output_type": "stream",
     "text": [
      "0.975 quantile = 1.9623\n"
     ]
    }
   ],
   "source": [
    "quant2=np.round(stats.t.ppf(q=1-(alpha/2),  # Quantile to check\n",
    "            df=len(sample)-1),4)  # Degrees of freedom\n",
    "print(1-(alpha/2),\"quantile =\",quant2)"
   ]
  },
  {
   "cell_type": "code",
   "execution_count": 58,
   "id": "3fb7e9ed",
   "metadata": {},
   "outputs": [
    {
     "name": "stdout",
     "output_type": "stream",
     "text": [
      "Two-Tailed Test: 0.539602\n",
      "One-Tailed Test: 0.27115\n"
     ]
    }
   ],
   "source": [
    "twotailed=stats.t.cdf(x= res.statistic,      # T-test statistic\n",
    "                           df= len(sample)-1) * 2   # Multiply by two for two tailed test\n",
    "\n",
    "onetail=stats.t.cdf(x= res.statistic,df= 49)\n",
    "\n",
    "print(\"Two-Tailed Test:\", np.round(twotailed,6))\n",
    "print(\"One-Tailed Test:\", np.round(onetail,6))"
   ]
  },
  {
   "cell_type": "code",
   "execution_count": 63,
   "id": "5d28ced9",
   "metadata": {},
   "outputs": [
    {
     "name": "stdout",
     "output_type": "stream",
     "text": [
      "Lower Bound Confidence Interval = 23.3\n",
      "Upper Bound Confidence Interval = 25.13\n",
      "-----------------------------------------\n",
      "95.0 % CI : [23.3  25.13]\n",
      "-----------------------------------------\n",
      "df= 1000\n",
      "σ(mean) = s/√n = 14.6944 / 31.6386 = 0.4644\n"
     ]
    }
   ],
   "source": [
    "sigma = sample.std()/math.sqrt(len(sample))  # Sample stdev/sample size\n",
    "\n",
    "inter=stats.t.interval(1-alpha,                     # Confidence level\n",
    "                 df = len(sample)-1,                     # Degrees of freedom\n",
    "                 loc = sample.mean(), # Sample mean\n",
    "                 scale= sigma)                # Standard dev estimate\n",
    "print(\"Lower Bound Confidence Interval =\",np.round(inter[0],2))\n",
    "print(\"Upper Bound Confidence Interval =\",np.round(inter[1],2))\n",
    "print(\"-----------------------------------------\")\n",
    "print((1-alpha)*100,\"% CI :\",np.round((inter),2))\n",
    "print(\"-----------------------------------------\")\n",
    "print(\"df=\",len(sample)-1)\n",
    "print(\"σ(mean) = s/√n =\",np.round(sample.std(),4),\"/\",np.round(math.sqrt(len(sample)),4),\"=\",np.round(sigma,4))"
   ]
  },
  {
   "cell_type": "code",
   "execution_count": 66,
   "id": "7dfe4af4",
   "metadata": {},
   "outputs": [
    {
     "name": "stdout",
     "output_type": "stream",
     "text": [
      "-----------------------------------------\n",
      "Do not reject the null hypothesis\n",
      "H0: 24.5 = 24.21\n",
      "-----------------------------------------\n",
      "-----------------------------------------\n",
      "t-Statistic = -0.6136 > -1.9623 = 2.5 % Quantile\n",
      "and\n",
      "p-Value = 0.5396 > 0.05 = α\n",
      "-----------------------------------------\n"
     ]
    }
   ],
   "source": [
    "if(res.statistic < quant1 or res.pvalue < alpha):\n",
    "    print(\"-----------------------------------------\")\n",
    "    print(\"Reject the null hypothesis\")\n",
    "    print(\"H0:\",np.round((population.mean()),2 ),\"=\",np.round((sample.mean()),2 ))\n",
    "    print(\"-----------------------------------------\")\n",
    "    print(\"-----------------------------------------\")\n",
    "    print(\"t-Statistic =\",np.round((res.statistic),4), \"<\" , quant1 ,\"=\",(alpha/2)*100,\"% Quantile\")\n",
    "    print(\"and\")\n",
    "    print(\"p-Value =\",np.round((res.pvalue),4), \"<\" , alpha , \"= α\")\n",
    "    print(\"-----------------------------------------\")\n",
    "else:\n",
    "    print(\"-----------------------------------------\")\n",
    "    print(\"Do not reject the null hypothesis\")\n",
    "    print(\"H0:\",np.round((population.mean()),2 ),\"=\",np.round((sample.mean()),2 ))\n",
    "    print(\"-----------------------------------------\")\n",
    "    print(\"-----------------------------------------\")\n",
    "    print(\"t-Statistic =\",np.round((res.statistic),4), \">\" ,quant1 ,\"=\",(alpha/2)*100,\"% Quantile\")\n",
    "    print(\"and\")\n",
    "    print(\"p-Value =\",np.round((res.pvalue),4), \">\" , alpha , \"= α\")\n",
    "    print(\"-----------------------------------------\")"
   ]
  },
  {
   "cell_type": "code",
   "execution_count": null,
   "id": "e4c8dc1b",
   "metadata": {},
   "outputs": [],
   "source": []
  },
  {
   "cell_type": "code",
   "execution_count": null,
   "id": "e5d7a6ab",
   "metadata": {},
   "outputs": [],
   "source": []
  }
 ],
 "metadata": {
  "kernelspec": {
   "display_name": "Python 3 (ipykernel)",
   "language": "python",
   "name": "python3"
  },
  "language_info": {
   "codemirror_mode": {
    "name": "ipython",
    "version": 3
   },
   "file_extension": ".py",
   "mimetype": "text/x-python",
   "name": "python",
   "nbconvert_exporter": "python",
   "pygments_lexer": "ipython3",
   "version": "3.9.12"
  }
 },
 "nbformat": 4,
 "nbformat_minor": 5
}
