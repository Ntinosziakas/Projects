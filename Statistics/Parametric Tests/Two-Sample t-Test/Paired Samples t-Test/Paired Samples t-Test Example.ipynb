{
 "cells": [
  {
   "cell_type": "markdown",
   "id": "d94ee080",
   "metadata": {},
   "source": [
    "# Two-Samples Independent T-Test"
   ]
  },
  {
   "cell_type": "code",
   "execution_count": 324,
   "id": "06a02871",
   "metadata": {},
   "outputs": [],
   "source": [
    "import numpy as np\n",
    "import pandas as pd\n",
    "import scipy.stats as stats\n",
    "import matplotlib.pyplot as plt\n",
    "import math as mt\n",
    "import seaborn as sns\n",
    "import statistics as st\n",
    "from math import sqrt "
   ]
  },
  {
   "cell_type": "markdown",
   "id": "9fa0be06",
   "metadata": {},
   "source": [
    "## The Story"
   ]
  },
  {
   "cell_type": "code",
   "execution_count": 325,
   "id": "ca11ff8d",
   "metadata": {},
   "outputs": [
    {
     "name": "stdout",
     "output_type": "stream",
     "text": [
      "You're interested to know if there is a increase in money over time\n"
     ]
    }
   ],
   "source": [
    "print(\"You're interested to know if there is a increase in money over time\")"
   ]
  },
  {
   "cell_type": "markdown",
   "id": "7f50021c",
   "metadata": {},
   "source": [
    "### Question"
   ]
  },
  {
   "cell_type": "code",
   "execution_count": 326,
   "id": "699aeb88",
   "metadata": {},
   "outputs": [
    {
     "name": "stdout",
     "output_type": "stream",
     "text": [
      "Is there an increase in Money over time?\n"
     ]
    }
   ],
   "source": [
    "print(\"Is there an increase in Money over time?\")"
   ]
  },
  {
   "cell_type": "markdown",
   "id": "4f91c634",
   "metadata": {},
   "source": [
    "### Answer"
   ]
  },
  {
   "cell_type": "code",
   "execution_count": 332,
   "id": "653c9fdc",
   "metadata": {},
   "outputs": [],
   "source": [
    "dt = pd.read_csv('Paired Samples t-Test.csv',dtype=float)\n",
    "\n",
    "t1 = dt['Before']\n",
    "t2 = dt['After']\n",
    "d=t2-t1\n"
   ]
  },
  {
   "cell_type": "markdown",
   "id": "f2741d1a",
   "metadata": {},
   "source": [
    "#### Descriptive Statistics"
   ]
  },
  {
   "cell_type": "code",
   "execution_count": 333,
   "id": "fbe971d3",
   "metadata": {},
   "outputs": [
    {
     "name": "stdout",
     "output_type": "stream",
     "text": [
      "Means per Category\n",
      "-----------------------------------------\n",
      "Before 401.26\n",
      "After 504.22\n",
      "-----------------------------------------\n",
      "Difference 102.96\n"
     ]
    }
   ],
   "source": [
    "print(\"Means per Category\")\n",
    "print(\"-----------------------------------------\")\n",
    "print(dt.columns[0],t1.mean())\n",
    "print(dt.columns[1],t2.mean())\n",
    "print(\"-----------------------------------------\")\n",
    "print(\"Difference\",d.mean())"
   ]
  },
  {
   "cell_type": "code",
   "execution_count": 334,
   "id": "35c56727",
   "metadata": {},
   "outputs": [
    {
     "name": "stdout",
     "output_type": "stream",
     "text": [
      "Sample Size per Category\n",
      "-----------------------------------------\n",
      "Before 50\n",
      "After 50\n",
      "-----------------------------------------\n",
      "Difference 50\n"
     ]
    }
   ],
   "source": [
    "print(\"Sample Size per Category\")\n",
    "print(\"-----------------------------------------\")\n",
    "n1=len(t1)\n",
    "n2=len(t2)\n",
    "n=len(d)\n",
    "print(dt.columns[0],n1)\n",
    "print(dt.columns[1],n2)\n",
    "print(\"-----------------------------------------\")\n",
    "print(\"Difference\",len(d))"
   ]
  },
  {
   "cell_type": "code",
   "execution_count": 335,
   "id": "6a946b37",
   "metadata": {},
   "outputs": [
    {
     "name": "stdout",
     "output_type": "stream",
     "text": [
      "Sum per Category\n",
      "-----------------------------------------\n",
      "Before 20063.0\n",
      "After 25211.0\n",
      "-----------------------------------------\n",
      "Difference 5148.0\n"
     ]
    }
   ],
   "source": [
    "print(\"Sum per Category\")\n",
    "print(\"-----------------------------------------\")\n",
    "print(dt.columns[0],t1.sum())\n",
    "print(dt.columns[1],t2.sum())\n",
    "print(\"-----------------------------------------\")\n",
    "print(\"Difference\",d.sum())\n",
    "dsum=d.sum()"
   ]
  },
  {
   "cell_type": "code",
   "execution_count": 336,
   "id": "fd0e2343",
   "metadata": {},
   "outputs": [
    {
     "name": "stdout",
     "output_type": "stream",
     "text": [
      "Median per Category\n",
      "-----------------------------------------\n",
      "Before 397.5\n",
      "After 492.0\n",
      "-----------------------------------------\n",
      "Difference 95.5\n"
     ]
    }
   ],
   "source": [
    "print(\"Median per Category\")\n",
    "print(\"-----------------------------------------\")\n",
    "print(dt.columns[0],t1.median())\n",
    "print(dt.columns[1],t2.median())\n",
    "print(\"-----------------------------------------\")\n",
    "print(\"Difference\",d.median())"
   ]
  },
  {
   "cell_type": "code",
   "execution_count": 337,
   "id": "c0cec15e",
   "metadata": {},
   "outputs": [
    {
     "name": "stdout",
     "output_type": "stream",
     "text": [
      "Min per Category\n",
      "-----------------------------------------\n",
      "Before 156.0\n",
      "After 333.0\n",
      "-----------------------------------------\n",
      "Difference -129.0\n"
     ]
    }
   ],
   "source": [
    "print(\"Min per Category\")\n",
    "print(\"-----------------------------------------\")\n",
    "print(dt.columns[0],t1.min())\n",
    "print(dt.columns[1],t2.min())\n",
    "print(\"-----------------------------------------\")\n",
    "print(\"Difference\",d.min())"
   ]
  },
  {
   "cell_type": "code",
   "execution_count": 338,
   "id": "9c14d801",
   "metadata": {},
   "outputs": [
    {
     "name": "stdout",
     "output_type": "stream",
     "text": [
      "Max per Category\n",
      "-----------------------------------------\n",
      "Before 607.0\n",
      "After 759.0\n",
      "-----------------------------------------\n",
      "Difference 454.0\n"
     ]
    }
   ],
   "source": [
    "print(\"Max per Category\")\n",
    "print(\"-----------------------------------------\")\n",
    "print(dt.columns[0],t1.max())\n",
    "print(dt.columns[1],t2.max())\n",
    "print(\"-----------------------------------------\")\n",
    "print(\"Difference\",d.max())"
   ]
  },
  {
   "cell_type": "code",
   "execution_count": 339,
   "id": "fd5827da",
   "metadata": {},
   "outputs": [
    {
     "name": "stdout",
     "output_type": "stream",
     "text": [
      "Range per Category\n",
      "-----------------------------------------\n",
      "Before 451.0\n",
      "After 426.0\n"
     ]
    }
   ],
   "source": [
    "print(\"Range per Category\")\n",
    "print(\"-----------------------------------------\")\n",
    "np.ptp(t1)\n",
    "\n",
    "print(dt.columns[0],np.ptp(t1))\n",
    "print(dt.columns[1],np.ptp(t2))\n"
   ]
  },
  {
   "cell_type": "code",
   "execution_count": 340,
   "id": "3ef8ca3d",
   "metadata": {},
   "outputs": [
    {
     "name": "stdout",
     "output_type": "stream",
     "text": [
      "-----------------------------------------\n",
      "|         Quantile per Category         |\n",
      "-----------------------------------------\n",
      "-----------------------------------------\n",
      "Before ||25th: 345.25 ||50th 397.5 ||75th 473.0 ||\n",
      "After ||25th: 431.0 ||50th 492.0 ||75th 570.75 ||\n",
      "-----------------------------------------\n",
      "*Notice that 50th quantile is equal to the median*\n"
     ]
    }
   ],
   "source": [
    "print(\"-----------------------------------------\")\n",
    "print(\"|         Quantile per Category         |\")\n",
    "print(\"-----------------------------------------\")\n",
    "print(\"-----------------------------------------\")\n",
    "qa25=np.quantile(t1,0.25)\n",
    "qa50=np.quantile(t1,0.5)\n",
    "qa75=np.quantile(t1,0.75)\n",
    "\n",
    "qb25=np.quantile(t2,0.25)\n",
    "qb50=np.quantile(t2,0.5)\n",
    "qb75=np.quantile(t2,0.75)\n",
    "\n",
    "print(dt.columns[0],\"||25th:\",qa25,\"||50th\",qa50,\"||75th\",qa75,\"||\")\n",
    "print(dt.columns[1],\"||25th:\",qb25,\"||50th\",qb50,\"||75th\",qb75,\"||\")\n",
    "\n",
    "print(\"-----------------------------------------\")\n",
    "print(\"*Notice that 50th quantile is equal to the median*\")"
   ]
  },
  {
   "cell_type": "code",
   "execution_count": 341,
   "id": "cca43cef",
   "metadata": {},
   "outputs": [
    {
     "name": "stdout",
     "output_type": "stream",
     "text": [
      "-----------------------------------------\n",
      "|        Percentile per Category        |\n",
      "-----------------------------------------\n",
      "-----------------------------------------\n",
      "Before ||25th: 162.7375 ||50th 169.475 ||75th 176.2125 ||\n",
      "After ||25th: 334.5925 ||50th 336.185 ||75th 337.7775 ||\n",
      "-----------------------------------------\n"
     ]
    }
   ],
   "source": [
    "print(\"-----------------------------------------\")\n",
    "print(\"|        Percentile per Category        |\")\n",
    "print(\"-----------------------------------------\")\n",
    "print(\"-----------------------------------------\")\n",
    "pa25=np.percentile(t1,0.25)\n",
    "pa50=np.percentile(t1,0.5)\n",
    "pa75=np.percentile(t1,0.75)\n",
    "\n",
    "pb25=np.percentile(t2,0.25)\n",
    "pb50=np.percentile(t2,0.5)\n",
    "pb75=np.percentile(t2,0.75)\n",
    "\n",
    "print(dt.columns[0],\"||25th:\",pa25,\"||50th\",pa50,\"||75th\",pa75,\"||\")\n",
    "print(dt.columns[1],\"||25th:\",pb25,\"||50th\",pb50,\"||75th\",pb75,\"||\")\n",
    "\n",
    "print(\"-----------------------------------------\")"
   ]
  },
  {
   "cell_type": "code",
   "execution_count": 342,
   "id": "092c6887",
   "metadata": {},
   "outputs": [
    {
     "name": "stdout",
     "output_type": "stream",
     "text": [
      "IQR per Category\n",
      "-----------------------------------------\n",
      "IQR - Before : 127.75\n",
      "IQR - After : 139.75\n",
      "-----------------------------------------\n",
      "IQR = Q3-Q1 = 473.0 - 345.25 = 127.75 For the Before\n",
      "Q3 = 75% quantile\n",
      "Q1 = 25% quantile\n"
     ]
    }
   ],
   "source": [
    "iqr1=stats.iqr(t1, axis=None, rng=(25, 75), scale=1.0, nan_policy='propagate', interpolation='linear', keepdims=False)\n",
    "iqr2=stats.iqr(t2, axis=None, rng=(25, 75), scale=1.0, nan_policy='propagate', interpolation='linear', keepdims=False)\n",
    "print(\"IQR per Category\")\n",
    "print(\"-----------------------------------------\")\n",
    "print(\"IQR -\",dt.columns[0],\":\",iqr1)\n",
    "print(\"IQR -\",dt.columns[1],\":\",iqr2)\n",
    "print(\"-----------------------------------------\")\n",
    "print(\"IQR = Q3-Q1 =\",qa75,\"-\",qa25,\"=\",qa75-qa25,\"For the\",dt.columns[0])\n",
    "print(\"Q3 = 75% quantile\")\n",
    "print(\"Q1 = 25% quantile\")"
   ]
  },
  {
   "cell_type": "code",
   "execution_count": 343,
   "id": "72a3fa26",
   "metadata": {},
   "outputs": [
    {
     "name": "stdout",
     "output_type": "stream",
     "text": [
      "Sum per Category\n",
      "-----------------------------------------\n",
      "Before 8461189.0\n",
      "After 13163359.0\n",
      "-----------------------------------------\n",
      "Difference 1403968.0\n"
     ]
    }
   ],
   "source": [
    "#Sum per Category^2 \n",
    "print(\"Sum per Category\")\n",
    "print(\"-----------------------------------------\")\n",
    "sum1=sum(t1**2)\n",
    "sum2=sum(t2**2)\n",
    "#dt*dt\n",
    "print(dt.columns[0],sum1)\n",
    "print(dt.columns[1],sum2)\n",
    "print(\"-----------------------------------------\")\n",
    "print(\"Difference\",sum(d*d))"
   ]
  },
  {
   "cell_type": "code",
   "execution_count": 344,
   "id": "0e6545e8",
   "metadata": {},
   "outputs": [
    {
     "name": "stdout",
     "output_type": "stream",
     "text": [
      "Sum per Category\n",
      "-----------------------------------------\n",
      "Before 402523969.0\n",
      "After 635594521.0\n",
      "-----------------------------------------\n",
      "Difference 26501904.0\n"
     ]
    }
   ],
   "source": [
    "#(Sum per Category)^2 \n",
    "print(\"Sum per Category\")\n",
    "print(\"-----------------------------------------\")\n",
    "sum11=sum(t1)**2\n",
    "sum22=sum(t2)**2\n",
    "print(dt.columns[0],sum11)\n",
    "print(dt.columns[1],sum22)\n",
    "print(\"-----------------------------------------\")\n",
    "print(\"Difference\",sum(d)*sum(d))"
   ]
  },
  {
   "cell_type": "code",
   "execution_count": 345,
   "id": "63564184",
   "metadata": {},
   "outputs": [
    {
     "name": "stdout",
     "output_type": "stream",
     "text": [
      "Variance per Category\n",
      "-----------------------------------------\n",
      "Before 8214.19\n",
      "After 9029.37\n",
      "-----------------------------------------\n",
      "Difference 17478.6\n"
     ]
    }
   ],
   "source": [
    "#Variance per Category\n",
    "print(\"Variance per Category\")\n",
    "print(\"-----------------------------------------\")\n",
    "var1=np.var(t1)\n",
    "var2=np.var(t2)\n",
    "print(dt.columns[0],np.round(var1,2))\n",
    "print(dt.columns[1],np.round(var2,2))\n",
    "print(\"-----------------------------------------\")\n",
    "print(\"Difference\",np.round(np.var(d),2))"
   ]
  },
  {
   "cell_type": "code",
   "execution_count": 346,
   "id": "304393c1",
   "metadata": {},
   "outputs": [
    {
     "name": "stdout",
     "output_type": "stream",
     "text": [
      "Standard Deviation per Category\n",
      "-----------------------------------------\n",
      "Before 90.63\n",
      "After 95.02\n",
      "-----------------------------------------\n",
      "Difference 132.21\n"
     ]
    }
   ],
   "source": [
    "#Standard Deviation per Category\n",
    "\n",
    "print(\"Standard Deviation per Category\")\n",
    "print(\"-----------------------------------------\")\n",
    "\n",
    "sd1=np.std(t1)\n",
    "sd2=np.std(t2)\n",
    "print(dt.columns[0],np.round(sd1,2))\n",
    "print(dt.columns[1],np.round(sd2,2))\n",
    "print(\"-----------------------------------------\")\n",
    "print(\"Difference\",np.round(np.std(d),2))"
   ]
  },
  {
   "cell_type": "code",
   "execution_count": 347,
   "id": "4a6e20df",
   "metadata": {},
   "outputs": [
    {
     "name": "stdout",
     "output_type": "stream",
     "text": [
      "===============================\n",
      "Pearson Correlation ρ: -0.0136\n",
      "===============================\n",
      "Conclusion:\n",
      "===============================\n",
      "There is a Slight but not so impactful Negative correlation between Before and After\n",
      "*******************************\n",
      "Spearman Correlation\n",
      "Spearmanρ: -0.0125\n",
      "p-value: 0.9314\n",
      "===============================\n",
      "Conclusion:\n",
      "===============================\n",
      "There is a Slight but not so impactful Negative correlation between Before and After\n",
      "===============================\n",
      "Note\n",
      "*******************************************************************************************************************************\n",
      "Pearson correlation coefficients measure the linear relationship between the variables while Spearman correlation coefficients measure only monotonic relationships, relationship in which the variables tend to move in the same(if it is possitive)/opposite (if it is negative) direction but not necessarily at a constant rate whereas the rate is constant in a linear relationship.\n",
      "*******************************************************************************************************************************\n"
     ]
    }
   ],
   "source": [
    "#Pearson Corellation\n",
    "print('===============================')\n",
    "rho=np.corrcoef(t1,t2)\n",
    "rho=np.round(rho.flat[1],4)\n",
    "print(\"Pearson Correlation ρ:\",rho)\n",
    "print('===============================')\n",
    "#print(\"0 <= ρ <= 1 <==> ρ ∈ [0,1]\")\n",
    "print(\"Conclusion:\")\n",
    "print('===============================')\n",
    "\n",
    "if rho < 0 :\n",
    "    if (rho < -0.75) :\n",
    "        print(\"There is a Strong Negative correlation between\",dt.columns[0],\"and\",dt.columns[1])\n",
    "    elif (rho < -0.50) :\n",
    "        print(\"There is a Moderate High Negative correlation between\",dt.columns[0],\"and\",dt.columns[1])\n",
    "    elif (rho < -0.25):\n",
    "        print(\"There is a Low Moderate Negative correlation between\",dt.columns[0],\"and\",dt.columns[1])\n",
    "    elif (rho < -0.05):\n",
    "        print(\"There is a Low Negative correlation between\",dt.columns[0],\"and\",dt.columns[1])\n",
    "    else :\n",
    "        print(\"There is a Slight but not so impactful Negative correlation between\",dt.columns[0],\"and\",dt.columns[1])\n",
    "elif rho > 0 :\n",
    "    if (rho > 0.75) :\n",
    "        print(\"There is a Strong Possitive correlation between\",dt.columns[0],\"and\",dt.columns[1])\n",
    "    elif (rho > 0.50) :\n",
    "        print(\"There is a Moderate High Possitive correlation between\",dt.columns[0],\"and\",dt.columns[1])\n",
    "    elif (rho > 0.25):\n",
    "        print(\"There is a Low Moderate Possitive correlation between\",dt.columns[0],\"and\",dt.columns[1])\n",
    "    elif (rho > 0.05):\n",
    "        print(\"There is a Low  Negative Possitive between\",dt.columns[0],\"and\",dt.columns[1])\n",
    "    else :\n",
    "        print(\"There is a Slight but not so impactful Possitive correlation between\",dt.columns[0],\"and\",dt.columns[1])\n",
    "else :\n",
    "    print(\"There is no correlation between\",dt.columns[0],\"and\",dt.columns[1])\n",
    "\n",
    "#Spearman Test\n",
    "print('*******************************')\n",
    "spearman=stats.spearmanr(t1, t2, axis=0, nan_policy='propagate', alternative='two-sided')\n",
    "\n",
    "print(\"Spearman Correlation\") \n",
    "print(\"Spearmanρ:\",np.round(spearman[0],4))\n",
    "print(\"p-value:\",np.round(spearman[1],4))\n",
    "\n",
    "print('===============================')\n",
    "spearman=np.round(spearman[0],4)\n",
    "rho=np.round(rho,4)\n",
    "\n",
    "print(\"Conclusion:\")\n",
    "print('===============================')\n",
    "if spearman < 0 :\n",
    "    if (spearman < -0.75) :\n",
    "        print(\"There is a Strong Negative correlation between\",dt.columns[0],\"and\",dt.columns[1])\n",
    "    elif (spearman < -0.50) :\n",
    "        print(\"There is a Moderate High Negative correlation between\",dt.columns[0],\"and\",dt.columns[1])\n",
    "    elif (spearman < -0.25):\n",
    "        print(\"There is a Low Moderate Negative correlation between\",dt.columns[0],\"and\",dt.columns[1])\n",
    "    elif (spearman < -0.05):\n",
    "        print(\"There is a Low Negative correlation between\",dt.columns[0],\"and\",dt.columns[1])\n",
    "    else :\n",
    "        print(\"There is a Slight but not so impactful Negative correlation between\",dt.columns[0],\"and\",dt.columns[1])\n",
    "elif spearman > 0 :\n",
    "    if (spearman > 0.75) :\n",
    "        print(\"There is a Strong Possitive correlation between\",dt.columns[0],\"and\",dt.columns[1])\n",
    "    elif (spearman > 0.50) :\n",
    "        print(\"There is a Moderate High Possitive correlation between\",dt.columns[0],\"and\",dt.columns[1])\n",
    "    elif (spearman > 0.25):\n",
    "        print(\"There is a Low Moderate Possitive correlation between\",dt.columns[0],\"and\",dt.columns[1])\n",
    "    elif (spearman > 0.05):\n",
    "        print(\"There is a Low  Negative Possitive between\",dt.columns[0],\"and\",dt.columns[1])\n",
    "    else :\n",
    "        print(\"There is a Slight but not so impactful Possitive correlation between\",dt.columns[0],\"and\",dt.columns[1])\n",
    "else :\n",
    "    print(\"There is no correlation between\",dt.columns[0],\"and\",dt.columns[1])\n",
    "\n",
    "print('===============================')\n",
    "\n",
    "print(\"Note\")\n",
    "print(\"*******************************************************************************************************************************\")\n",
    "print(\"Pearson correlation coefficients measure the linear relationship between the variables while Spearman correlation coefficients measure only monotonic relationships, relationship in which the variables tend to move in the same(if it is possitive)/opposite (if it is negative) direction but not necessarily at a constant rate whereas the rate is constant in a linear relationship.\")\n",
    "print(\"*******************************************************************************************************************************\")"
   ]
  },
  {
   "cell_type": "markdown",
   "id": "d6439222",
   "metadata": {},
   "source": [
    "#### Graphs"
   ]
  },
  {
   "cell_type": "code",
   "execution_count": 348,
   "id": "a7522328",
   "metadata": {},
   "outputs": [
    {
     "data": {
      "text/plain": [
       "[Text(0.5, 0, 'Categories'), Text(0, 0.5, 'Values')]"
      ]
     },
     "execution_count": 348,
     "metadata": {},
     "output_type": "execute_result"
    },
    {
     "data": {
      "image/png": "[encoded data removed]",
      "text/plain": [
       "<Figure size 432x288 with 1 Axes>"
      ]
     },
     "metadata": {
      "needs_background": "light"
     },
     "output_type": "display_data"
    }
   ],
   "source": [
    "# Boxplot\n",
    "sns.boxplot(x='variable', y='value', data=pd.melt(dt)).set(\n",
    "            xlabel='Categories', #define the variable's nature\n",
    "            ylabel='Values')"
   ]
  },
  {
   "cell_type": "code",
   "execution_count": 349,
   "id": "576e8b37",
   "metadata": {},
   "outputs": [
    {
     "name": "stdout",
     "output_type": "stream",
     "text": [
      "Regression Line: y = f(x) =  0.0115 Before + 20.8793\n"
     ]
    },
    {
     "data": {
      "text/plain": [
       "[<matplotlib.lines.Line2D at 0x28042961850>]"
      ]
     },
     "execution_count": 349,
     "metadata": {},
     "output_type": "execute_result"
    },
    {
     "data": {
      "image/png": "[encoded data removed]",
      "text/plain": [
       "<Figure size 432x288 with 1 Axes>"
      ]
     },
     "metadata": {
      "needs_background": "light"
     },
     "output_type": "display_data"
    }
   ],
   "source": [
    "plt.scatter(t1, lst, \n",
    "                          s=None, c=None, marker=None, cmap=None, \n",
    "                          vmin=None, vmax=None, alpha=None, \n",
    "                          linewidths=None, edgecolors=None) \n",
    "#obtain m (slope) and b(intercept) of linear regression line\n",
    "m, b = np.polyfit(t1, lst, 1)\n",
    "print(\"Regression Line: y = f(x) = \",np.round(m,4),\"Before +\",np.round(b,4))\n",
    "\n",
    "#add linear regression line to scatterplot \n",
    "plt.plot(t1, m*t1+b)"
   ]
  },
  {
   "cell_type": "code",
   "execution_count": 350,
   "id": "4ee9113a",
   "metadata": {},
   "outputs": [
    {
     "data": {
      "image/png": "[encoded data removed]",
      "text/plain": [
       "<Figure size 432x288 with 1 Axes>"
      ]
     },
     "metadata": {
      "needs_background": "light"
     },
     "output_type": "display_data"
    }
   ],
   "source": [
    "ax = sns.regplot(x=t1, y=lst, data=dt, color=\"g\")"
   ]
  },
  {
   "cell_type": "markdown",
   "id": "4b9defae",
   "metadata": {},
   "source": [
    "#### Testing Hypothesis"
   ]
  },
  {
   "cell_type": "code",
   "execution_count": 351,
   "id": "af6e5df5",
   "metadata": {},
   "outputs": [
    {
     "name": "stdout",
     "output_type": "stream",
     "text": [
      "===============================\n",
      "Test Hypothesis\n",
      "\n",
      "H0: μd ≤ 0\n",
      "H1: μd > 0\n",
      "μd = μTime2 - μTime1\n",
      "===============================\n",
      "Paired Samples Test\n",
      "Equal Variances Assumed\n",
      "===============================\n",
      "df =  49\n",
      "Sum(d) = 5148.0\n",
      "Mean(d) =  102.96\n",
      "Σd² = 1403968.0\n",
      "(Σd)² = 26501904.0\n",
      "\n",
      "SD(d) = 132.2067\n",
      "\n",
      "Unstandardized Effect =  102.96\n",
      "SE(d) =  18.57\n",
      "μd = 0\n",
      "===============================\n",
      "t-Critical Value\n",
      "\n",
      "Left-Tailed Test =  -1.6606\n",
      "Right-Tailed Test =  1.6606\n",
      "2-Tailed Test =  ± 1.9845\n",
      "===============================\n",
      "t( 49 ) =  5.4515 > Right-Tailed =  1.6606\n",
      "p-value =  2e-06\n",
      "===============================\n",
      "Lower Bound = 77.09\n",
      "Upper Bound = 128.83\n",
      "===============================\n",
      "95.0 % CI for the Mean Difference\n",
      "[ 66.19 , 139.73 ]\n",
      "===============================\n",
      "Type I Error =  0.05\n",
      "Type II Error = 2e-08\n",
      "There is a 2e-06 % chance of failing to detect the difference if the real mean difference is 0\n",
      "Power = 0.99999998\n",
      "The probability that the test correctly rejects the null hypothesis when the alternative hypothesis is true is 100.0 %\n"
     ]
    }
   ],
   "source": [
    "alpha =0.05\n",
    "\n",
    "print('===============================')\n",
    "print(\"Test Hypothesis\")\n",
    "print()\n",
    "print(\"H0: μd ≤ 0\")\n",
    "print(\"H1: μd > 0\")\n",
    "print(\"μd = μTime2 - μTime1\")\n",
    "print('===============================')\n",
    "print(\"Paired Samples Test\")\n",
    "print(\"Equal Variances Assumed\")\n",
    "print('===============================')\n",
    "\n",
    "dsum=d.sum()\n",
    "\n",
    "dmean=d.mean()\n",
    "sumdd=sum(d*d)\n",
    "sumd2=sum(d)*sum(d)\n",
    "\n",
    "dstd=np.std(d)\n",
    "dstd1=sqrt((var1/n1)+(var2/n2))\n",
    "\n",
    "testresult=stats.ttest_rel(t2,t1)\n",
    "\n",
    "tctiticall=stats.t.ppf(q=alpha,df=df)\n",
    "tctiticalr=stats.t.ppf(q=1-alpha,df=df)\n",
    "tctitical2=stats.t.ppf(q=1-(alpha/2),df=df)\n",
    "\n",
    "print(\"df = \",n1-1)\n",
    "print(\"Sum(d) =\",dsum)\n",
    "print(\"Mean(d) = \",dmean)\n",
    "print(\"Σd² =\",sumdd)\n",
    "print(\"(Σd)² =\",sumd2)\n",
    "print()\n",
    "print(\"SD(d) =\",np.round(dstd,4))\n",
    "print()\n",
    "print(\"Unstandardized Effect = \", np.round(dmean,4))\n",
    "print(\"SE(d) = \", np.round(dstd1,2))\n",
    "print(\"μd = 0\")\n",
    "\n",
    "print('===============================')\n",
    "print(\"t-Critical Value\")\n",
    "print()\n",
    "print(\"Left-Tailed Test = \", np.round(tctiticall,4))\n",
    "print(\"Right-Tailed Test = \", np.round(tctiticalr,4))\n",
    "print(\"2-Tailed Test = \", \"±\",np.round(tctitical2,4))\n",
    "print('===============================')\n",
    "print(\"t(\",n-1,\") = \",np.round(testresult[0],4),\"> Right-Tailed = \",np.round(tctiticalr,4))\n",
    "print(\"p-value = \",np.round(testresult[1],6))\n",
    "print('===============================')\n",
    "\n",
    "# CI\n",
    "if n1>30 and n2>30 :\n",
    "    upper_quantile = stats.norm.ppf(1-alpha/2) # Upper cutoff value\n",
    "    lower_quantile = stats.norm.ppf(alpha/2)   # Lower cutoff value\n",
    "    upper_quantile = round(upper_quantile,4)\n",
    "    lower_quantile = round(lower_quantile,4)\n",
    "    \n",
    "    xmean=(t2.mean()-t1.mean())\n",
    "    uq=upper_quantile\n",
    "    sp=sqrt( ( ( (n1 - 1) * var1 ) + ((n2 - 1) * var2 ) ) / (df+df-2) )\n",
    "    bias=sqrt((1/n1)+(1/n2))\n",
    "    ub=xmean+(uq*sp*bias)\n",
    "    ub=round(ub,2)\n",
    "    \n",
    "    xmean=(t2.mean()-t1.mean())\n",
    "    lq=lower_quantile\n",
    "    sp=sqrt( ( ( (n1 - 1) * var1 ) + ((n2 - 1) * var2 ) ) / (df+df-2) )\n",
    "    bias=sqrt((1/n1)+(1/n2))\n",
    "    lb=xmean-(uq*sp*bias)\n",
    "    lb=round(lb,2)\n",
    "    print(\"Lower Bound =\",lb)\n",
    "    print(\"Upper Bound =\",ub)\n",
    "    print('===============================')\n",
    "elif n1<30 or n2<30 :\n",
    "    upper_quantile = stats.t.ppf(1-alpha/2,df=n1+n2-2) # Upper cutoff value\n",
    "    lower_quantile = stats.t.ppf(alpha/2,df=n1+n2-2)   # Lower cutoff value\n",
    "    upper_quantile = round(upper_quantile,4)\n",
    "    lower_quantile = round(lower_quantile,4)\n",
    "    \n",
    "    xmean=(t2.mean()-t1.mean())\n",
    "    uq=upper_quantile\n",
    "    sp=sqrt( ( ( (n1 - 1) * var1 ) + ((n2 - 1) * var2 ) ) / (df+df-2) )\n",
    "    bias=sqrt((1/n1)+(1/n2))\n",
    "    ub=xmean+(uq*sp*bias)\n",
    "    ub=round(ub,2)\n",
    "    \n",
    "    xmean=(t2.mean()-t1.mean())\n",
    "    lq=lower_quantile\n",
    "    sp=sqrt( ( ( (n1 - 1) * var1 ) + ((n2 - 1) * var2 ) ) / (df+df-2) )\n",
    "    bias=sqrt((1/n1)+(1/n2))\n",
    "    lb=xmean-(uq*sp*bias)\n",
    "    lb=round(lb,2)\n",
    "    print('===============================')\n",
    "    print(\"Lower Bound =\",lb)\n",
    "    print(\"Upper Bound =\",ub)\n",
    "# Confidence Intervals\n",
    "if n1>30 and n2>30 :\n",
    "    meandif=t2.mean()-t1.mean()\n",
    "    meandif=np.round(meandif,2)\n",
    "    \n",
    "    std1=t1.std()\n",
    "    std2=t2.std()\n",
    "\n",
    "\n",
    "    std_N1N2 = sqrt((((n1 - 1)*(std1)**2 + (n2 - 1)*(std2)**2) / df))\n",
    "\n",
    "\n",
    "    MoE = stats.norm.ppf(0.975) * std_N1N2 * sqrt(1/n1 + 1/n2)\n",
    "    MoE\n",
    "\n",
    "    \n",
    "    print(100*(1-alpha),'% CI for the Mean Difference')\n",
    "    LB=meandif - MoE \n",
    "    LB=np.round(LB,2)\n",
    "    UB=meandif + MoE\n",
    "    UB=np.round(UB,2)\n",
    "\n",
    "    print(\"[\",LB,\",\", UB,\"]\")\n",
    "    print('===============================')\n",
    "    print(\"Type I Error = \",alpha)\n",
    "    #calculate beta\n",
    "    taf=(meandif)/sqrt((((std1**2)/n1)+((std2**2)/n2)))\n",
    "    beta=1-stats.norm.cdf(taf)\n",
    "    beta=np.round(beta,8)\n",
    "    print(\"Type II Error =\",beta)\n",
    "    print(\"There is a\", beta*100,\"% chance of failing to detect the difference if the real mean difference is 0\")\n",
    "    power=1-beta\n",
    "    print(\"Power =\",power)\n",
    "    print(\"The probability that the test correctly rejects the null hypothesis when the alternative hypothesis is true is\",np.round(power*100,4),\"%\")         \n",
    "\n",
    "else :    \n",
    "    meandif=t2.mean()-t1.mean()\n",
    "    meandif=np.round(meandif,2)\n",
    "    \n",
    "    std1=t1.std()\n",
    "    std2=t2.std()\n",
    "\n",
    "\n",
    "    std_N1N2 = sqrt((((n1 - 1)*(std1)**2 + (n2 - 1)*(std2)**2) / df))\n",
    "\n",
    "\n",
    "    from scipy.stats import t\n",
    "    MoE = t.ppf(0.975, df) * std_N1N2 * sqrt(1/n1 + 1/n2)\n",
    "    MoE\n",
    "\n",
    "    print()\n",
    "    print(100*(1-alpha),'% CI for the Mean Difference')\n",
    "    LB=meandif - MoE \n",
    "    LB=np.round(LB,2)\n",
    "    UB=meandif + MoE\n",
    "    UB=np.round(UB,2)\n",
    "\n",
    "    print(\"[\",LB,\",\", UB,\"]\")\n",
    "    print('===============================')\n",
    "    print(\"Type I Error = \",alpha)\n",
    "    #calculate beta\n",
    "    taf=(meandif)/sqrt((((std1**2)/n1)+((std2**2)/n2)))\n",
    "    beta=1-T.cdf(taf)\n",
    "    beta=np.round(beta,8)\n",
    "    print(\"Type II Error =\",beta)\n",
    "    print(\"There is a\", beta*100,\"% chance of failing to detect the difference if the real mean difference is 0\")\n",
    "    power=1-beta\n",
    "    print(\"Power =\",power)\n",
    "    print(\"The probability that the test correctly rejects the null hypothesis when the alternative hypothesis is true is\",np.round(power*100,4),\"%\")         \n"
   ]
  },
  {
   "cell_type": "code",
   "execution_count": 352,
   "id": "b3531556",
   "metadata": {},
   "outputs": [
    {
     "name": "stdout",
     "output_type": "stream",
     "text": [
      "Cohen's d = 0.903413\n",
      "Very Large Effect\n"
     ]
    }
   ],
   "source": [
    "if n1 == n2 :\n",
    "    cohensd = (np.abs(meandif)/pooled_sd)\n",
    "    cohensd = np.round(cohensd,6)\n",
    "    print(\"Cohen's d =\",cohensd)\n",
    "    if cohensd<0.2 :\n",
    "        print(\"Small Effect\")\n",
    "        pr=\"Small\"\n",
    "    elif cohensd<0.5 :\n",
    "        print(\"Medium Effect\")\n",
    "        pr=\"Medium\"\n",
    "    elif cohensd<0.8 :\n",
    "        print(\"Large Effect\")\n",
    "        pr=\"Large\"\n",
    "    else :\n",
    "        print(\"Very Large Effect\")\n",
    "        pr=\" Very Large\"\n",
    "else :\n",
    "    if n > 50 :\n",
    "        g = meandif/std_N1N2\n",
    "        g = np.round(g,6)\n",
    "        print(\"Hedge's g =\",g)\n",
    "        print(\"No bias correction\")\n",
    "        if g<0.2 :\n",
    "            print(\"Small Effect\")\n",
    "            pr=\"Small\"\n",
    "        elif g<0.5 :\n",
    "            print(\"Medium Effect\")\n",
    "            pr=\"Medium\"\n",
    "        elif g<0.8 :\n",
    "            print(\"Large Effect\")\n",
    "            pr=\"Large\"\n",
    "        else :\n",
    "            print(\"Very Large Effect\")\n",
    "            pr=\" Very Large\"\n",
    "\n",
    "    else :\n",
    "    #Bias correction\n",
    "        g1 = (meandif/std_N1N2)*((n-3)/(n-2.25))*(sqrt((n-2)/n))\n",
    "        print(\"Hedge's g =\",g1)\n",
    "        if g1<0.2 :\n",
    "            print(\"Small Effect\")\n",
    "            pr=\"Small\"          \n",
    "        elif g1<0.5 :\n",
    "            print(\"Medium Effect\")\n",
    "            pr=\"Medium\"          \n",
    "        elif g1<0.8 :\n",
    "            print(\"Large Effect\")\n",
    "            pr=\"Large\"            \n",
    "        else :\n",
    "            print(\"Very Large Effect\")\n",
    "            pr=\" Very Large\"  "
   ]
  },
  {
   "cell_type": "markdown",
   "id": "d73f4c3c",
   "metadata": {},
   "source": [
    "#### Results"
   ]
  },
  {
   "cell_type": "code",
   "execution_count": 387,
   "id": "a1bed981",
   "metadata": {},
   "outputs": [
    {
     "name": "stdout",
     "output_type": "stream",
     "text": [
      "-----------------------------------------\n",
      ": Results :\n",
      "-----------------------------------------\n",
      "\n",
      "Reject the null hypothesis\n",
      "Accept the alternative.\n",
      "The difference is statistically significant.\n",
      "The Money variable increases over time.\n",
      "If we assume this sample to represent the population, we would expect 95.0 % of sample means to fall between:\n",
      "[ 66.19 , 139.73 ]\n",
      "On average, the Days variable was  102.96 higher at After .\n",
      "The difference in Days due to Training Status was  Very Large .\n",
      "\n",
      "H0: μd ≤ 0\n",
      "-----------------------------------------\n",
      "p-Value = 0.0 < 0.05 = α\n",
      "-----------------------------------------\n"
     ]
    }
   ],
   "source": [
    "print(\"-----------------------------------------\")\n",
    "print(\": Results :\")\n",
    "if(testresult[1] < alpha ):\n",
    "    print(\"-----------------------------------------\")\n",
    "    print()\n",
    "    print(\"Reject the null hypothesis\")\n",
    "    print(\"Accept the alternative.\") \n",
    "    print(\"The difference is statistically significant.\") \n",
    "    print(\"The Money variable increases over time.\")\n",
    "    print(\"If we assume this sample to represent the population, we would expect\",100*(1-alpha),\"% of sample means to fall between:\")    \n",
    "    print(\"[\",LB,\",\",UB,\"]\")\n",
    "    print(\"On average, the Days variable was \",np.round(dmean,2),\"higher at\",dt.columns[1],\".\")\n",
    "    print(\"The difference in Days due to Training Status was\",pr,\".\")\n",
    "    print()  \n",
    "    print(\"H0: μd ≤ 0\")\n",
    "    print(\"-----------------------------------------\")\n",
    "    print(\"p-Value =\",np.round((testresult[1]),4), \"<\" , alpha , \"= α\")\n",
    "    print(\"-----------------------------------------\")\n",
    "else:\n",
    "    print(\"-----------------------------------------\")\n",
    "    print(\"Reject the null hypothesis\")\n",
    "    print(\"Remain the null.\") \n",
    "    print(\"The difference is statistically NOT significant.\") \n",
    "    \n",
    "    print(\"-----------------------------------------\")\n",
    "    print(\"p-Value =\",np.round((testresult[1]),4), \">\" , alpha , \"= α\")\n",
    "    print(\"-----------------------------------------\")"
   ]
  },
  {
   "cell_type": "code",
   "execution_count": 385,
   "id": "4dd436e9",
   "metadata": {},
   "outputs": [
    {
     "data": {
      "image/png": "[encoded data removed]",
      "text/plain": [
       "<Figure size 864x720 with 1 Axes>"
      ]
     },
     "metadata": {
      "needs_background": "light"
     },
     "output_type": "display_data"
    }
   ],
   "source": [
    "plt.figure(figsize=(12,10))\n",
    "\n",
    "\n",
    "plt.fill_between(x=np.arange(-4,-2,0.01), \n",
    "                 y1= stats.t.pdf(np.arange(-4,-2,0.01),df=df) ,\n",
    "                 facecolor='red',\n",
    "                 alpha=0.35)\n",
    "\n",
    "plt.fill_between(x=np.arange(-2,2,0.01), \n",
    "                 y1= stats.t.pdf(np.arange(-2,2,0.01),df=df) ,\n",
    "                 facecolor='grey',\n",
    "                 alpha=0.35)\n",
    "plt.fill_between(x=np.arange(2,4,0.01), \n",
    "                 y1= stats.t.pdf(np.arange(2,4,0.01),df=df) ,\n",
    "                 facecolor='red',\n",
    "                 alpha=0.5)\n",
    "\n",
    "plt.fill_between(x=np.arange(-4,-2,0.01), \n",
    "                 y1= stats.t.pdf(np.arange(-4,-2,0.01),df=df,loc=3.5, scale=1) ,\n",
    "                 facecolor='grey',\n",
    "                 alpha=0.35)\n",
    "plt.fill_between(x=np.arange(-2,2,0.01), \n",
    "                 y1= stats.t.pdf(np.arange(-2,2,0.01),df=df,loc=3.5, scale=1) ,\n",
    "                 facecolor='blue',\n",
    "                 alpha=0.35)\n",
    "\n",
    "plt.fill_between(x=np.arange(2,10,0.01), \n",
    "                 y1= stats.t.pdf(np.arange(2,10,0.01),df=df,loc=3.5\n",
    "                                 , scale=1),\n",
    "                 facecolor='grey',\n",
    "                 alpha=0.35)\n",
    "plt.title(\"Visual Representation Example of t-Test under Null Hypothesis\")\n",
    "plt.text(x=-0.8, y=0.15, s= \"Null Hypothesis\\n         H0\\n\\n    mean=0\\n       sd=1\")\n",
    "plt.text(x=2.7, y=0.15, s= \"Alternative\\n       H1\\n\\n mean=3.5\\n     sd=1\")\n",
    "plt.text(x=2.2, y=0.01, s= \"Type 1 Error\")\n",
    "plt.text(x=-3.2, y=0.01, s= \"Type 1 Error\")\n",
    "plt.text(x=0, y=0.02, s= \"Type 2 Error\");"
   ]
  }
 ],
 "metadata": {
  "kernelspec": {
   "display_name": "Python 3 (ipykernel)",
   "language": "python",
   "name": "python3"
  },
  "language_info": {
   "codemirror_mode": {
    "name": "ipython",
    "version": 3
   },
   "file_extension": ".py",
   "mimetype": "text/x-python",
   "name": "python",
   "nbconvert_exporter": "python",
   "pygments_lexer": "ipython3",
   "version": "3.9.12"
  }
 },
 "nbformat": 4,
 "nbformat_minor": 5
}
