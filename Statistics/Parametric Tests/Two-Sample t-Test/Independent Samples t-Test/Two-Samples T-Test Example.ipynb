{
 "cells": [
  {
   "cell_type": "markdown",
   "id": "d94ee080",
   "metadata": {},
   "source": [
    "# Two-Samples Independent T-Test"
   ]
  },
  {
   "cell_type": "code",
   "execution_count": 418,
   "id": "93984ed4",
   "metadata": {},
   "outputs": [],
   "source": [
    "import numpy as np\n",
    "import pandas as pd\n",
    "import scipy.stats as stats\n",
    "import matplotlib.pyplot as plt\n",
    "import math as mt\n",
    "import seaborn as sns"
   ]
  },
  {
   "cell_type": "markdown",
   "id": "66ef7f1e",
   "metadata": {},
   "source": [
    "## The Story"
   ]
  },
  {
   "cell_type": "code",
   "execution_count": 891,
   "id": "61296c75",
   "metadata": {},
   "outputs": [
    {
     "name": "stdout",
     "output_type": "stream",
     "text": [
      "You're interested in differences in Days due to Gender.\n",
      "Specifically, you want to know if male employees have different mean Days than female employees\n"
     ]
    }
   ],
   "source": [
    "print(\"You're interested in differences in Days due to Gender.\\nSpecifically, you want to know if male employees have different mean Days than female employees\")"
   ]
  },
  {
   "cell_type": "markdown",
   "id": "57b63a60",
   "metadata": {},
   "source": [
    "### Question"
   ]
  },
  {
   "cell_type": "code",
   "execution_count": 116,
   "id": "c0af8599",
   "metadata": {},
   "outputs": [
    {
     "name": "stdout",
     "output_type": "stream",
     "text": [
      "Do female employees have different mean Days than male employees?\n"
     ]
    }
   ],
   "source": [
    "print(\"Do male employees have different mean Days than female employees?\")"
   ]
  },
  {
   "cell_type": "markdown",
   "id": "5fe9d619",
   "metadata": {},
   "source": [
    "### Answer"
   ]
  },
  {
   "cell_type": "code",
   "execution_count": 856,
   "id": "b1d23f65",
   "metadata": {},
   "outputs": [],
   "source": [
    "import pandas as pd\n",
    "dt = pd.read_csv('Independent Samples t-Test.csv',dtype=float)\n",
    "male = dt['Male']\n",
    "female = dt['Female']\n",
    "#print(dt.to_string(index=False))"
   ]
  },
  {
   "cell_type": "markdown",
   "id": "663d6ab4",
   "metadata": {},
   "source": [
    "#### Descriptive Statistics"
   ]
  },
  {
   "cell_type": "code",
   "execution_count": 858,
   "id": "e6536306",
   "metadata": {},
   "outputs": [
    {
     "name": "stdout",
     "output_type": "stream",
     "text": [
      "Means per Category\n",
      "-----------------------------------------\n"
     ]
    },
    {
     "data": {
      "text/plain": [
       "Male      26.08\n",
       "Female    21.94\n",
       "dtype: float64"
      ]
     },
     "execution_count": 858,
     "metadata": {},
     "output_type": "execute_result"
    }
   ],
   "source": [
    "print(\"Means per Category\")\n",
    "print(\"-----------------------------------------\")\n",
    "dt.mean(axis=0)"
   ]
  },
  {
   "cell_type": "code",
   "execution_count": 859,
   "id": "20154f97",
   "metadata": {},
   "outputs": [
    {
     "name": "stdout",
     "output_type": "stream",
     "text": [
      "Sum per Category\n",
      "-----------------------------------------\n"
     ]
    },
    {
     "data": {
      "text/plain": [
       "Male      1304.0\n",
       "Female    1097.0\n",
       "dtype: float64"
      ]
     },
     "execution_count": 859,
     "metadata": {},
     "output_type": "execute_result"
    }
   ],
   "source": [
    "print(\"Sum per Category\")\n",
    "print(\"-----------------------------------------\")\n",
    "np.sum(dt,axis=0)"
   ]
  },
  {
   "cell_type": "code",
   "execution_count": 860,
   "id": "1e68486c",
   "metadata": {},
   "outputs": [
    {
     "name": "stdout",
     "output_type": "stream",
     "text": [
      "Median per Category\n",
      "-----------------------------------------\n"
     ]
    },
    {
     "data": {
      "text/plain": [
       "Male      26.5\n",
       "Female    21.5\n",
       "dtype: float64"
      ]
     },
     "execution_count": 860,
     "metadata": {},
     "output_type": "execute_result"
    }
   ],
   "source": [
    "print(\"Median per Category\")\n",
    "print(\"-----------------------------------------\")\n",
    "dt.median(axis=0)"
   ]
  },
  {
   "cell_type": "code",
   "execution_count": 861,
   "id": "3e6e45d0",
   "metadata": {},
   "outputs": [
    {
     "name": "stdout",
     "output_type": "stream",
     "text": [
      "Min per Category\n",
      "-----------------------------------------\n"
     ]
    },
    {
     "data": {
      "text/plain": [
       "Male      14.0\n",
       "Female    13.0\n",
       "dtype: float64"
      ]
     },
     "execution_count": 861,
     "metadata": {},
     "output_type": "execute_result"
    }
   ],
   "source": [
    "print(\"Min per Category\")\n",
    "print(\"-----------------------------------------\")\n",
    "dt.min(axis=0)"
   ]
  },
  {
   "cell_type": "code",
   "execution_count": 862,
   "id": "056f4b39",
   "metadata": {},
   "outputs": [
    {
     "name": "stdout",
     "output_type": "stream",
     "text": [
      "Max per Category\n",
      "-----------------------------------------\n"
     ]
    },
    {
     "data": {
      "text/plain": [
       "Male      35.0\n",
       "Female    32.0\n",
       "dtype: float64"
      ]
     },
     "execution_count": 862,
     "metadata": {},
     "output_type": "execute_result"
    }
   ],
   "source": [
    "print(\"Max per Category\")\n",
    "print(\"-----------------------------------------\")\n",
    "dt.max(axis=0)"
   ]
  },
  {
   "cell_type": "code",
   "execution_count": 863,
   "id": "bdab3fbe",
   "metadata": {},
   "outputs": [
    {
     "name": "stdout",
     "output_type": "stream",
     "text": [
      "Range per Category\n",
      "-----------------------------------------\n"
     ]
    },
    {
     "data": {
      "text/plain": [
       "Male      21.0\n",
       "Female    19.0\n",
       "dtype: float64"
      ]
     },
     "execution_count": 863,
     "metadata": {},
     "output_type": "execute_result"
    }
   ],
   "source": [
    "print(\"Range per Category\")\n",
    "print(\"-----------------------------------------\")\n",
    "np.ptp(dt,axis=0)"
   ]
  },
  {
   "cell_type": "code",
   "execution_count": 864,
   "id": "e055de47",
   "metadata": {},
   "outputs": [
    {
     "name": "stdout",
     "output_type": "stream",
     "text": [
      "-----------------------------------------\n",
      "|         Quantile per Category         |\n",
      "-----------------------------------------\n",
      "-----------------------------------------\n",
      "Male ||25th: 21.25 ||50th 26.5 ||75th 31.0 ||\n",
      "Female ||25th: 18.0 ||50th 21.5 ||75th 25.0 ||\n",
      "-----------------------------------------\n",
      "*Notice that 50th quantile is equal to the median*\n"
     ]
    }
   ],
   "source": [
    "print(\"-----------------------------------------\")\n",
    "print(\"|         Quantile per Category         |\")\n",
    "print(\"-----------------------------------------\")\n",
    "print(\"-----------------------------------------\")\n",
    "q25=np.quantile(dt,0.25,axis=0)\n",
    "q50=np.quantile(dt,0.5,axis=0)\n",
    "q75=np.quantile(dt,0.75,axis=0)\n",
    "\n",
    "print(dt.columns[0],\"||25th:\",q25[0],\"||50th\",q50[0],\"||75th\",q75[0],\"||\")\n",
    "print(dt.columns[1],\"||25th:\",q25[1],\"||50th\",q50[1],\"||75th\",q75[1],\"||\")\n",
    "\n",
    "print(\"-----------------------------------------\")\n",
    "print(\"*Notice that 50th quantile is equal to the median*\")"
   ]
  },
  {
   "cell_type": "code",
   "execution_count": 865,
   "id": "9a293ba6",
   "metadata": {},
   "outputs": [
    {
     "name": "stdout",
     "output_type": "stream",
     "text": [
      "-----------------------------------------\n",
      "|        Percentile per Category        |\n",
      "-----------------------------------------\n",
      "-----------------------------------------\n",
      "Male ||25th: 14.3675 ||50th 14.735 ||75th 15.1025 ||\n",
      "Female ||25th: 13.245 ||50th 13.49 ||75th 13.735 ||\n",
      "-----------------------------------------\n"
     ]
    }
   ],
   "source": [
    "print(\"-----------------------------------------\")\n",
    "print(\"|        Percentile per Category        |\")\n",
    "print(\"-----------------------------------------\")\n",
    "print(\"-----------------------------------------\")\n",
    "p25=np.percentile(dt,0.25,axis=0)\n",
    "p50=np.percentile(dt,0.5,axis=0)\n",
    "p75=np.percentile(dt,0.75,axis=0)\n",
    "\n",
    "print(dt.columns[0],\"||25th:\",p25[0],\"||50th\",p50[0],\"||75th\",p75[0],\"||\")\n",
    "print(dt.columns[1],\"||25th:\",p25[1],\"||50th\",p50[1],\"||75th\",p75[1],\"||\")\n",
    "\n",
    "print(\"-----------------------------------------\")\n"
   ]
  },
  {
   "cell_type": "code",
   "execution_count": 866,
   "id": "33c496e3",
   "metadata": {},
   "outputs": [
    {
     "name": "stdout",
     "output_type": "stream",
     "text": [
      "IQR per Category\n",
      "-----------------------------------------\n",
      "IQR- Male : 9.75\n",
      "IQR- Female : 7.0\n",
      "-----------------------------------------\n",
      "IQR = Q3-Q1 = 31.0 - 21.25 = 9.75 For the First Category\n",
      "Q3 = 75% quantile\n",
      "Q1 = 25% quantile\n"
     ]
    }
   ],
   "source": [
    "iqr1=stats.iqr(male, axis=None, rng=(25, 75), scale=1.0, nan_policy='propagate', interpolation='linear', keepdims=False)\n",
    "iqr2=stats.iqr(female, axis=None, rng=(25, 75), scale=1.0, nan_policy='propagate', interpolation='linear', keepdims=False)\n",
    "print(\"IQR per Category\")\n",
    "print(\"-----------------------------------------\")\n",
    "print(\"IQR-\",dt.columns[0],\":\",iqr1)\n",
    "print(\"IQR-\",dt.columns[1],\":\",iqr2)\n",
    "print(\"-----------------------------------------\")\n",
    "print(\"IQR = Q3-Q1 =\",q75[0],\"-\",q25[0],\"=\",q75[0]-q25[0],\"For the First Category\")\n",
    "print(\"Q3 = 75% quantile\")\n",
    "print(\"Q1 = 25% quantile\")"
   ]
  },
  {
   "cell_type": "code",
   "execution_count": 867,
   "id": "e6b11b45",
   "metadata": {},
   "outputs": [
    {
     "name": "stdout",
     "output_type": "stream",
     "text": [
      "Sum per Category\n",
      "-----------------------------------------\n"
     ]
    },
    {
     "data": {
      "text/plain": [
       "Male      35552.0\n",
       "Female    25217.0\n",
       "dtype: float64"
      ]
     },
     "execution_count": 867,
     "metadata": {},
     "output_type": "execute_result"
    }
   ],
   "source": [
    "#Sum per Category^2 \n",
    "print(\"Sum per Category\")\n",
    "print(\"-----------------------------------------\")\n",
    "np.sum(dt*dt)\n",
    "#dt*dt"
   ]
  },
  {
   "cell_type": "code",
   "execution_count": 868,
   "id": "cbce25ee",
   "metadata": {},
   "outputs": [
    {
     "name": "stdout",
     "output_type": "stream",
     "text": [
      "Sum per Category\n",
      "-----------------------------------------\n"
     ]
    },
    {
     "data": {
      "text/plain": [
       "Male      1700416.0\n",
       "Female    1203409.0\n",
       "dtype: float64"
      ]
     },
     "execution_count": 868,
     "metadata": {},
     "output_type": "execute_result"
    }
   ],
   "source": [
    "#(Sum per Category)^2 \n",
    "print(\"Sum per Category\")\n",
    "print(\"-----------------------------------------\")\n",
    "np.sum(dt,axis=0)*np.sum(dt,axis=0)\n"
   ]
  },
  {
   "cell_type": "code",
   "execution_count": 869,
   "id": "4308d315",
   "metadata": {},
   "outputs": [
    {
     "name": "stdout",
     "output_type": "stream",
     "text": [
      "Variance per Category\n",
      "-----------------------------------------\n"
     ]
    },
    {
     "data": {
      "text/plain": [
       "Male      30.8736\n",
       "Female    22.9764\n",
       "dtype: float64"
      ]
     },
     "execution_count": 869,
     "metadata": {},
     "output_type": "execute_result"
    }
   ],
   "source": [
    "#Variance per Category\n",
    "print(\"Variance per Category\")\n",
    "print(\"-----------------------------------------\")\n",
    "np.var(dt, axis=0, dtype=None, out=None, ddof=0)"
   ]
  },
  {
   "cell_type": "code",
   "execution_count": 870,
   "id": "d0325d20",
   "metadata": {},
   "outputs": [
    {
     "name": "stdout",
     "output_type": "stream",
     "text": [
      "Standard Deviation per Category\n",
      "-----------------------------------------\n"
     ]
    },
    {
     "data": {
      "text/plain": [
       "Male      4.0\n",
       "Female    4.5\n",
       "dtype: float64"
      ]
     },
     "execution_count": 870,
     "metadata": {},
     "output_type": "execute_result"
    }
   ],
   "source": [
    "#Standard Deviation per Category\n",
    "print(\"Standard Deviation per Category\")\n",
    "print(\"-----------------------------------------\")\n",
    "np.std(a, axis=None, dtype=None, out=None, ddof=0)"
   ]
  },
  {
   "cell_type": "code",
   "execution_count": 871,
   "id": "bfdc9ee1",
   "metadata": {},
   "outputs": [
    {
     "name": "stdout",
     "output_type": "stream",
     "text": [
      "Number of Data per Category\n",
      "-----------------------------------------\n",
      "Male : 50\n",
      "Female : 50\n"
     ]
    }
   ],
   "source": [
    "#Number of data per Category\n",
    "print(\"Number of Data per Category\")\n",
    "print(\"-----------------------------------------\")\n",
    "print(dt.columns[0],\":\",len(male))\n",
    "print(dt.columns[1],\":\",len(female))"
   ]
  },
  {
   "cell_type": "code",
   "execution_count": 883,
   "id": "44d0ecc6",
   "metadata": {},
   "outputs": [
    {
     "name": "stdout",
     "output_type": "stream",
     "text": [
      "===============================\n",
      "Pearson Correlation ρ: -0.1613\n",
      "===============================\n",
      "Conclusion:\n",
      "===============================\n",
      "There is a Low Negative correlation between Male and Female\n",
      "*******************************\n",
      "Spearman Correlation\n",
      "Spearmanρ: -0.1724\n",
      "p-value: 0.2312\n",
      "===============================\n",
      "Conclusion:\n",
      "===============================\n",
      "There is a Low Negative correlation between Male and Female\n",
      "===============================\n",
      "Note\n",
      "*******************************************************************************************************************************\n",
      "Pearson correlation coefficients measure the linear relationship between the variables while Spearman correlation coefficients measure only monotonic relationships, relationship in which the variables tend to move in the same(if it is possitive)/opposite (if it is negative) direction but not necessarily at a constant rate whereas the rate is constant in a linear relationship.\n",
      "*******************************************************************************************************************************\n"
     ]
    }
   ],
   "source": [
    "#Pearson Corellation\n",
    "print('===============================')\n",
    "rho=np.corrcoef(male,female)\n",
    "rho=np.round(rho.flat[1],4)\n",
    "print(\"Pearson Correlation ρ:\",r)\n",
    "print('===============================')\n",
    "#print(\"0 <= ρ <= 1 <==> ρ ∈ [0,1]\")\n",
    "print(\"Conclusion:\")\n",
    "print('===============================')\n",
    "\n",
    "if rho < 0 :\n",
    "    if (rho < -0.75) :\n",
    "        print(\"There is a Strong Negative correlation between\",dt.columns[0],\"and\",dt.columns[1])\n",
    "    elif (rho < -0.50) :\n",
    "        print(\"There is a Moderate High Negative correlation between\",dt.columns[0],\"and\",dt.columns[1])\n",
    "    elif (rho < -0.25):\n",
    "        print(\"There is a Low Moderate Negative correlation between\",dt.columns[0],\"and\",dt.columns[1])\n",
    "    elif (rho < -0.05):\n",
    "        print(\"There is a Low Negative correlation between\",dt.columns[0],\"and\",dt.columns[1])\n",
    "    else :\n",
    "        print(\"There is a Slight but not so impactful Negative correlation between\",dt.columns[0],\"and\",dt.columns[1])\n",
    "elif rho > 0 :\n",
    "    if (rho > 0.75) :\n",
    "        print(\"There is a Strong Possitive correlation between\",dt.columns[0],\"and\",dt.columns[1])\n",
    "    elif (rho > 0.50) :\n",
    "        print(\"There is a Moderate High Possitive correlation between\",dt.columns[0],\"and\",dt.columns[1])\n",
    "    elif (rho > 0.25):\n",
    "        print(\"There is a Low Moderate Possitive correlation between\",dt.columns[0],\"and\",dt.columns[1])\n",
    "    elif (rho > 0.05):\n",
    "        print(\"There is a Low  Negative Possitive between\",dt.columns[0],\"and\",dt.columns[1])\n",
    "    else :\n",
    "        print(\"There is a Slight but not so impactful Possitive correlation between\",dt.columns[0],\"and\",dt.columns[1])\n",
    "else :\n",
    "    print(\"There is no correlation between\",dt.columns[0],\"and\",dt.columns[1])\n",
    "\n",
    "#Spearman Test\n",
    "print('*******************************')\n",
    "spearman=stats.spearmanr(male, female, axis=0, nan_policy='propagate', alternative='two-sided')\n",
    "\n",
    "print(\"Spearman Correlation\") \n",
    "print(\"Spearmanρ:\",np.round(spearman[0],4))\n",
    "print(\"p-value:\",np.round(spearman[1],4))\n",
    "\n",
    "print('===============================')\n",
    "spearman=np.round(spearman[0],4)\n",
    "rho=np.round(rho,4)\n",
    "\n",
    "print(\"Conclusion:\")\n",
    "print('===============================')\n",
    "if spearman < 0 :\n",
    "    if (spearman < -0.75) :\n",
    "        print(\"There is a Strong Negative correlation between\",dt.columns[0],\"and\",dt.columns[1])\n",
    "    elif (spearman < -0.50) :\n",
    "        print(\"There is a Moderate High Negative correlation between\",dt.columns[0],\"and\",dt.columns[1])\n",
    "    elif (spearman < -0.25):\n",
    "        print(\"There is a Low Moderate Negative correlation between\",dt.columns[0],\"and\",dt.columns[1])\n",
    "    elif (spearman < -0.05):\n",
    "        print(\"There is a Low Negative correlation between\",dt.columns[0],\"and\",dt.columns[1])\n",
    "    else :\n",
    "        print(\"There is a Slight but not so impactful Negative correlation between\",dt.columns[0],\"and\",dt.columns[1])\n",
    "elif spearman > 0 :\n",
    "    if (spearman > 0.75) :\n",
    "        print(\"There is a Strong Possitive correlation between\",dt.columns[0],\"and\",dt.columns[1])\n",
    "    elif (spearman > 0.50) :\n",
    "        print(\"There is a Moderate High Possitive correlation between\",dt.columns[0],\"and\",dt.columns[1])\n",
    "    elif (spearman > 0.25):\n",
    "        print(\"There is a Low Moderate Possitive correlation between\",dt.columns[0],\"and\",dt.columns[1])\n",
    "    elif (spearman > 0.05):\n",
    "        print(\"There is a Low  Negative Possitive between\",dt.columns[0],\"and\",dt.columns[1])\n",
    "    else :\n",
    "        print(\"There is a Slight but not so impactful Possitive correlation between\",dt.columns[0],\"and\",dt.columns[1])\n",
    "else :\n",
    "    print(\"There is no correlation between\",dt.columns[0],\"and\",dt.columns[1])\n",
    "\n",
    "print('===============================')\n",
    "\n",
    "print(\"Note\")\n",
    "print(\"*******************************************************************************************************************************\")\n",
    "print(\"Pearson correlation coefficients measure the linear relationship between the variables while Spearman correlation coefficients measure only monotonic relationships, relationship in which the variables tend to move in the same(if it is possitive)/opposite (if it is negative) direction but not necessarily at a constant rate whereas the rate is constant in a linear relationship.\")\n",
    "print(\"*******************************************************************************************************************************\")"
   ]
  },
  {
   "cell_type": "markdown",
   "id": "e82ede74",
   "metadata": {},
   "source": [
    "#### Graphs"
   ]
  },
  {
   "cell_type": "code",
   "execution_count": 873,
   "id": "757ab732",
   "metadata": {},
   "outputs": [
    {
     "name": "stdout",
     "output_type": "stream",
     "text": [
      "Regression Line: y = f(x) = -0.1391 x 25.5683\n"
     ]
    },
    {
     "data": {
      "text/plain": [
       "[<matplotlib.lines.Line2D at 0x2090bffb3d0>]"
      ]
     },
     "execution_count": 873,
     "metadata": {},
     "output_type": "execute_result"
    },
    {
     "data": {
      "image/png": "[encoded data removed]",
      "text/plain": [
       "<Figure size 540x252 with 1 Axes>"
      ]
     },
     "metadata": {
      "needs_background": "light"
     },
     "output_type": "display_data"
    }
   ],
   "source": [
    "plt.scatter(male, female, \n",
    "                          s=None, c=None, marker=None, cmap=None, \n",
    "                          vmin=None, vmax=None, alpha=None, \n",
    "                          linewidths=None, edgecolors=None) \n",
    "#obtain m (slope) and b(intercept) of linear regression line\n",
    "m, b = np.polyfit(male, female, 1)\n",
    "print(\"Regression Line: y = f(x) =\",np.round(m,4),\"x\",np.round(b,4))\n",
    "\n",
    "#add linear regression line to scatterplot \n",
    "plt.plot(male, m*male+b)\n"
   ]
  },
  {
   "cell_type": "code",
   "execution_count": 874,
   "id": "be5bc960",
   "metadata": {},
   "outputs": [
    {
     "data": {
      "image/png": "[encoded data removed]",
      "text/plain": [
       "<Figure size 540x252 with 1 Axes>"
      ]
     },
     "metadata": {
      "needs_background": "light"
     },
     "output_type": "display_data"
    }
   ],
   "source": [
    "ax = sns.regplot(x=male, y=female, data=dt, color=\"g\")"
   ]
  },
  {
   "cell_type": "code",
   "execution_count": 875,
   "id": "7144d159",
   "metadata": {},
   "outputs": [
    {
     "data": {
      "text/plain": [
       "[Text(0.5, 0, 'Gender'), Text(0, 0.5, 'Values')]"
      ]
     },
     "execution_count": 875,
     "metadata": {},
     "output_type": "execute_result"
    },
    {
     "data": {
      "image/png": "[encoded data removed]",
      "text/plain": [
       "<Figure size 540x252 with 1 Axes>"
      ]
     },
     "metadata": {
      "needs_background": "light"
     },
     "output_type": "display_data"
    }
   ],
   "source": [
    "# Boxplot\n",
    "sns.boxplot(x='variable', y='value', data=pd.melt(dt)).set(\n",
    "            xlabel='Gender', #define the variable's nature\n",
    "            ylabel='Values')\n"
   ]
  },
  {
   "cell_type": "markdown",
   "id": "d1d620c7",
   "metadata": {},
   "source": [
    "#### Testing Hypothesis"
   ]
  },
  {
   "cell_type": "code",
   "execution_count": 886,
   "id": "61330508",
   "metadata": {},
   "outputs": [
    {
     "name": "stdout",
     "output_type": "stream",
     "text": [
      "===============================\n",
      "Test Hypothesis\n",
      "\n",
      "H0: 26.08 = 21.94\n",
      "H1: 26.08 =/= 21.94\n",
      "===============================\n",
      "Independent Samples Test\n",
      "Equal Variances Assumed\n",
      "===============================\n",
      "Mean Difference =  4.14\n",
      "df =  98\n",
      "t =  3.9492\n",
      "p-value =  0.0001\n",
      "\n",
      "95.0 % CI for the Mean Difference\n",
      "[ 2.06 , 6.22 ]\n"
     ]
    }
   ],
   "source": [
    "alpha =0.05\n",
    "testresult=stats.ttest_ind(male, female, axis=0, \n",
    "                      equal_var=True, nan_policy='propagate', \n",
    "                      permutations=None, random_state=None, \n",
    "                      alternative='two-sided', trim=0)\n",
    "print('===============================')\n",
    "print(\"Test Hypothesis\")\n",
    "print()\n",
    "print(\"H0:\",male.mean(),\"=\",female.mean())\n",
    "print(\"H1:\",male.mean(),\"=/=\",female.mean())\n",
    "print('===============================')\n",
    "print(\"Independent Samples Test\")\n",
    "print(\"Equal Variances Assumed\")\n",
    "print('===============================')\n",
    "\n",
    "N1=(len(male)-1)\n",
    "N2=(len(female)-1)\n",
    "df = N1+N2\n",
    "meandif=male.mean()-female.mean()\n",
    "meandif=np.round(meandif,2)\n",
    "\n",
    "print(\"Mean Difference = \",meandif)\n",
    "print(\"df = \",df)\n",
    "print(\"t = \",np.round(testresult[0],4))\n",
    "print(\"p-value = \",np.round(testresult[1],4))\n",
    "\n",
    "ind_t_test = stats.ttest_ind(male, female)\n",
    "\n",
    "std1=male.std()\n",
    "std1\n",
    "std2=female.std()\n",
    "std2\n",
    "\n",
    "from math import sqrt \n",
    "std_N1N2 = sqrt((((N1 - 1)*(std1)**2 + (N2 - 1)*(std2)**2) / df))\n",
    "std_N1N2 \n",
    "\n",
    "MoE = t.ppf(0.975, df) * std_N1N2 * sqrt(1/N1 + 1/N2)\n",
    "MoE\n",
    "\n",
    "print()\n",
    "print(100*(1-alpha),'% CI for the Mean Difference')\n",
    "LB=meandif - MoE \n",
    "LB=np.round(LB,2)\n",
    "UB=meandif + MoE\n",
    "UB=np.round(UB,2)\n",
    "\n",
    "print(\"[\",LB,\",\", UB,\"]\")"
   ]
  },
  {
   "cell_type": "markdown",
   "id": "d7d8581b",
   "metadata": {},
   "source": [
    "#### Results"
   ]
  },
  {
   "cell_type": "code",
   "execution_count": 884,
   "id": "a84c9d14",
   "metadata": {},
   "outputs": [
    {
     "name": "stdout",
     "output_type": "stream",
     "text": [
      "-----------------------------------------\n",
      ": Results :\n",
      "-----------------------------------------\n",
      "Reject the null hypothesis\n",
      "H0: 26.08 = 21.94\n",
      "-----------------------------------------\n",
      "p-Value = 0.0001 < 0.05 = α\n",
      "-----------------------------------------\n"
     ]
    }
   ],
   "source": [
    "print(\"-----------------------------------------\")\n",
    "print(\": Results :\")\n",
    "if(testresult[1] < alpha ):\n",
    "    print(\"-----------------------------------------\")\n",
    "    print(\"Reject the null hypothesis\")\n",
    "    print(\"H0:\",male.mean(),\"=\",female.mean())    \n",
    "    print(\"-----------------------------------------\")\n",
    "    print(\"p-Value =\",np.round((testresult[1]),4), \"<\" , alpha , \"= α\")\n",
    "    print(\"-----------------------------------------\")\n",
    "else:\n",
    "    print(\"-----------------------------------------\")\n",
    "    print(\"Do not reject the null hypothesis\")\n",
    "    print(\"H0:\",male.mean(),\"=/=\",female.mean())    \n",
    "    print(\"-----------------------------------------\")\n",
    "    print(\"p-Value =\",np.round((testresult[1]),4), \"<\" , alpha , \"= α\")\n",
    "    print(\"-----------------------------------------\")"
   ]
  }
 ],
 "metadata": {
  "kernelspec": {
   "display_name": "Python 3 (ipykernel)",
   "language": "python",
   "name": "python3"
  },
  "language_info": {
   "codemirror_mode": {
    "name": "ipython",
    "version": 3
   },
   "file_extension": ".py",
   "mimetype": "text/x-python",
   "name": "python",
   "nbconvert_exporter": "python",
   "pygments_lexer": "ipython3",
   "version": "3.9.12"
  }
 },
 "nbformat": 4,
 "nbformat_minor": 5
}
