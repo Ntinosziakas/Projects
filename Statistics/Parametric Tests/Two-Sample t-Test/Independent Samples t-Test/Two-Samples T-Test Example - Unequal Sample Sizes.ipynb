{
 "cells": [
  {
   "cell_type": "markdown",
   "id": "d94ee080",
   "metadata": {},
   "source": [
    "# Two-Samples Independent T-Test"
   ]
  },
  {
   "cell_type": "code",
   "execution_count": 213,
   "id": "06a02871",
   "metadata": {},
   "outputs": [],
   "source": [
    "import numpy as np\n",
    "import pandas as pd\n",
    "import scipy.stats as stats\n",
    "import matplotlib.pyplot as plt\n",
    "import math as mt\n",
    "import seaborn as sns\n",
    "import statistics as st\n",
    "from math import sqrt "
   ]
  },
  {
   "cell_type": "markdown",
   "id": "9fa0be06",
   "metadata": {},
   "source": [
    "## The Story"
   ]
  },
  {
   "cell_type": "code",
   "execution_count": 214,
   "id": "ca11ff8d",
   "metadata": {},
   "outputs": [
    {
     "name": "stdout",
     "output_type": "stream",
     "text": [
      "You're interested in differences in Days due to Training Status. Specifically, you want to know if employees that have been trained have higher mean Days than employees that have not been trained.\n"
     ]
    }
   ],
   "source": [
    "print(\"You're interested in differences in Days due to Training Status. Specifically, you want to know if employees that have been trained have higher mean Days than employees that have not been trained.\")"
   ]
  },
  {
   "cell_type": "markdown",
   "id": "7f50021c",
   "metadata": {},
   "source": [
    "### Question"
   ]
  },
  {
   "cell_type": "code",
   "execution_count": 215,
   "id": "699aeb88",
   "metadata": {},
   "outputs": [
    {
     "name": "stdout",
     "output_type": "stream",
     "text": [
      "Do employees that have been trained have higher mean Days than employees that have not been trained?\n"
     ]
    }
   ],
   "source": [
    "print(\"Do employees that have been trained have higher mean Days than employees that have not been trained?\")"
   ]
  },
  {
   "cell_type": "markdown",
   "id": "4f91c634",
   "metadata": {},
   "source": [
    "### Answer"
   ]
  },
  {
   "cell_type": "code",
   "execution_count": 216,
   "id": "b1d23f65",
   "metadata": {},
   "outputs": [],
   "source": [
    "dt = pd.read_csv('Independent Samples t-Test Unequal Size.csv',dtype=float)\n",
    "\n",
    "untr = dt['Untrained']\n",
    "tr = dt['Trained']\n",
    "tr = tr.dropna() "
   ]
  },
  {
   "cell_type": "markdown",
   "id": "f2741d1a",
   "metadata": {},
   "source": [
    "#### Descriptive Statistics"
   ]
  },
  {
   "cell_type": "code",
   "execution_count": 217,
   "id": "fbe971d3",
   "metadata": {},
   "outputs": [
    {
     "name": "stdout",
     "output_type": "stream",
     "text": [
      "Means per Category\n",
      "-----------------------------------------\n",
      "Untrained 25.12\n",
      "Trained 22.875\n"
     ]
    }
   ],
   "source": [
    "print(\"Means per Category\")\n",
    "print(\"-----------------------------------------\")\n",
    "print(dt.columns[0],untr.mean())\n",
    "print(dt.columns[1],tr.mean())"
   ]
  },
  {
   "cell_type": "code",
   "execution_count": 218,
   "id": "35c56727",
   "metadata": {},
   "outputs": [
    {
     "name": "stdout",
     "output_type": "stream",
     "text": [
      "Sample Size per Category\n",
      "-----------------------------------------\n",
      "Untrained 50\n",
      "Trained 40\n"
     ]
    }
   ],
   "source": [
    "print(\"Sample Size per Category\")\n",
    "print(\"-----------------------------------------\")\n",
    "n1=len(untr)\n",
    "n2=len(tr)\n",
    "n=n1+n2\n",
    "print(dt.columns[0],n1)\n",
    "print(dt.columns[1],n2)"
   ]
  },
  {
   "cell_type": "code",
   "execution_count": 219,
   "id": "6a946b37",
   "metadata": {},
   "outputs": [
    {
     "name": "stdout",
     "output_type": "stream",
     "text": [
      "Sum per Category\n",
      "-----------------------------------------\n",
      "Untrained 1256.0\n",
      "Trained 915.0\n"
     ]
    }
   ],
   "source": [
    "print(\"Sum per Category\")\n",
    "print(\"-----------------------------------------\")\n",
    "print(dt.columns[0],untr.sum())\n",
    "print(dt.columns[1],tr.sum())"
   ]
  },
  {
   "cell_type": "code",
   "execution_count": 220,
   "id": "fd0e2343",
   "metadata": {},
   "outputs": [
    {
     "name": "stdout",
     "output_type": "stream",
     "text": [
      "Median per Category\n",
      "-----------------------------------------\n",
      "Untrained 26.0\n",
      "Trained 23.0\n"
     ]
    }
   ],
   "source": [
    "print(\"Median per Category\")\n",
    "print(\"-----------------------------------------\")\n",
    "print(dt.columns[0],untr.median())\n",
    "print(dt.columns[1],tr.median())"
   ]
  },
  {
   "cell_type": "code",
   "execution_count": 221,
   "id": "c0cec15e",
   "metadata": {},
   "outputs": [
    {
     "name": "stdout",
     "output_type": "stream",
     "text": [
      "Min per Category\n",
      "-----------------------------------------\n",
      "Untrained 16.0\n",
      "Trained 12.0\n"
     ]
    }
   ],
   "source": [
    "print(\"Min per Category\")\n",
    "print(\"-----------------------------------------\")\n",
    "print(dt.columns[0],untr.min())\n",
    "print(dt.columns[1],tr.min())"
   ]
  },
  {
   "cell_type": "code",
   "execution_count": 222,
   "id": "9c14d801",
   "metadata": {},
   "outputs": [
    {
     "name": "stdout",
     "output_type": "stream",
     "text": [
      "Max per Category\n",
      "-----------------------------------------\n",
      "Untrained 35.0\n",
      "Trained 36.0\n"
     ]
    }
   ],
   "source": [
    "print(\"Max per Category\")\n",
    "print(\"-----------------------------------------\")\n",
    "print(dt.columns[0],untr.max())\n",
    "print(dt.columns[1],tr.max())"
   ]
  },
  {
   "cell_type": "code",
   "execution_count": 223,
   "id": "fd5827da",
   "metadata": {},
   "outputs": [
    {
     "name": "stdout",
     "output_type": "stream",
     "text": [
      "Range per Category\n",
      "-----------------------------------------\n",
      "Untrained 19.0\n",
      "Trained 24.0\n"
     ]
    }
   ],
   "source": [
    "print(\"Range per Category\")\n",
    "print(\"-----------------------------------------\")\n",
    "np.ptp(untr)\n",
    "\n",
    "print(dt.columns[0],np.ptp(untr))\n",
    "print(dt.columns[1],np.ptp(tr))"
   ]
  },
  {
   "cell_type": "code",
   "execution_count": 224,
   "id": "3ef8ca3d",
   "metadata": {},
   "outputs": [
    {
     "name": "stdout",
     "output_type": "stream",
     "text": [
      "-----------------------------------------\n",
      "|         Quantile per Category         |\n",
      "-----------------------------------------\n",
      "-----------------------------------------\n",
      "Untrained ||25th: 21.0 ||50th 26.0 ||75th 28.0 ||\n",
      "Trained   ||25th: 19.0 ||50th 23.0 ||75th 27.0 ||\n",
      "-----------------------------------------\n",
      "*Notice that 50th quantile is equal to the median*\n"
     ]
    }
   ],
   "source": [
    "print(\"-----------------------------------------\")\n",
    "print(\"|         Quantile per Category         |\")\n",
    "print(\"-----------------------------------------\")\n",
    "print(\"-----------------------------------------\")\n",
    "qa25=np.quantile(untr,0.25)\n",
    "qa50=np.quantile(untr,0.5)\n",
    "qa75=np.quantile(untr,0.75)\n",
    "\n",
    "qb25=np.quantile(tr,0.25)\n",
    "qb50=np.quantile(tr,0.5)\n",
    "qb75=np.quantile(tr,0.75)\n",
    "\n",
    "print(dt.columns[0],\"||25th:\",qa25,\"||50th\",qa50,\"||75th\",qa75,\"||\")\n",
    "print(dt.columns[1],\"  ||25th:\",qb25,\"||50th\",qb50,\"||75th\",qb75,\"||\")\n",
    "\n",
    "print(\"-----------------------------------------\")\n",
    "print(\"*Notice that 50th quantile is equal to the median*\")"
   ]
  },
  {
   "cell_type": "code",
   "execution_count": 225,
   "id": "cca43cef",
   "metadata": {},
   "outputs": [
    {
     "name": "stdout",
     "output_type": "stream",
     "text": [
      "-----------------------------------------\n",
      "|        Percentile per Category        |\n",
      "-----------------------------------------\n",
      "-----------------------------------------\n",
      "Untrained ||25th: 16.1225 ||50th 16.245 ||75th 16.3675 ||\n",
      "Trained   ||25th: 12.195  ||50th 12.39  ||75th 12.585  ||\n",
      "-----------------------------------------\n"
     ]
    }
   ],
   "source": [
    "print(\"-----------------------------------------\")\n",
    "print(\"|        Percentile per Category        |\")\n",
    "print(\"-----------------------------------------\")\n",
    "print(\"-----------------------------------------\")\n",
    "pa25=np.percentile(untr,0.25)\n",
    "pa50=np.percentile(untr,0.5)\n",
    "pa75=np.percentile(untr,0.75)\n",
    "\n",
    "pb25=np.percentile(tr,0.25)\n",
    "pb50=np.percentile(tr,0.5)\n",
    "pb75=np.percentile(tr,0.75)\n",
    "\n",
    "print(dt.columns[0],\"||25th:\",pa25,\"||50th\",pa50,\"||75th\",pa75,\"||\")\n",
    "print(dt.columns[1],\"  ||25th:\",pb25,\" ||50th\",pb50,\" ||75th\",pb75,\" ||\")\n",
    "\n",
    "print(\"-----------------------------------------\")"
   ]
  },
  {
   "cell_type": "code",
   "execution_count": 226,
   "id": "092c6887",
   "metadata": {},
   "outputs": [
    {
     "name": "stdout",
     "output_type": "stream",
     "text": [
      "IQR per Category\n",
      "-----------------------------------------\n",
      "IQR - Untrained : 7.0\n",
      "IQR - Trained : 8.0\n",
      "-----------------------------------------\n",
      "IQR = Q3-Q1 = 28.0 - 21.0 = 7.0 For the Untrained\n",
      "Q3 = 75% quantile\n",
      "Q1 = 25% quantile\n"
     ]
    }
   ],
   "source": [
    "iqr1=stats.iqr(untr, axis=None, rng=(25, 75), scale=1.0, nan_policy='propagate', interpolation='linear', keepdims=False)\n",
    "iqr2=stats.iqr(tr, axis=None, rng=(25, 75), scale=1.0, nan_policy='propagate', interpolation='linear', keepdims=False)\n",
    "print(\"IQR per Category\")\n",
    "print(\"-----------------------------------------\")\n",
    "print(\"IQR -\",dt.columns[0],\":\",iqr1)\n",
    "print(\"IQR -\",dt.columns[1],\":\",iqr2)\n",
    "print(\"-----------------------------------------\")\n",
    "print(\"IQR = Q3-Q1 =\",qa75,\"-\",qa25,\"=\",qa75-qa25,\"For the\",dt.columns[0])\n",
    "print(\"Q3 = 75% quantile\")\n",
    "print(\"Q1 = 25% quantile\")"
   ]
  },
  {
   "cell_type": "code",
   "execution_count": 227,
   "id": "72a3fa26",
   "metadata": {},
   "outputs": [
    {
     "name": "stdout",
     "output_type": "stream",
     "text": [
      "Sum per Category\n",
      "-----------------------------------------\n",
      "Untrained 32680.0\n",
      "Trained 22117.0\n"
     ]
    }
   ],
   "source": [
    "#Sum per Category^2 \n",
    "print(\"Sum per Category\")\n",
    "print(\"-----------------------------------------\")\n",
    "sum1=sum(untr**2)\n",
    "sum2=sum(tr**2)\n",
    "#dt*dt\n",
    "print(dt.columns[0],sum1)\n",
    "print(dt.columns[1],sum2)"
   ]
  },
  {
   "cell_type": "code",
   "execution_count": 228,
   "id": "0e6545e8",
   "metadata": {},
   "outputs": [
    {
     "name": "stdout",
     "output_type": "stream",
     "text": [
      "Sum per Category\n",
      "-----------------------------------------\n",
      "Untrained 1577536.0\n",
      "Trained 837225.0\n"
     ]
    }
   ],
   "source": [
    "#(Sum per Category)^2 \n",
    "print(\"Sum per Category\")\n",
    "print(\"-----------------------------------------\")\n",
    "sum11=sum(untr)**2\n",
    "sum22=sum(tr)**2\n",
    "print(dt.columns[0],sum11)\n",
    "print(dt.columns[1],sum22)"
   ]
  },
  {
   "cell_type": "code",
   "execution_count": 229,
   "id": "63564184",
   "metadata": {},
   "outputs": [
    {
     "name": "stdout",
     "output_type": "stream",
     "text": [
      "Variance per Category\n",
      "-----------------------------------------\n",
      "Untrained 22.59\n",
      "Trained 29.66\n"
     ]
    }
   ],
   "source": [
    "#Variance per Category\n",
    "print(\"Variance per Category\")\n",
    "print(\"-----------------------------------------\")\n",
    "var1=np.var(untr)\n",
    "var2=np.var(tr)\n",
    "print(dt.columns[0],np.round(var1,2))\n",
    "print(dt.columns[1],np.round(var2,2))"
   ]
  },
  {
   "cell_type": "code",
   "execution_count": 230,
   "id": "304393c1",
   "metadata": {},
   "outputs": [
    {
     "name": "stdout",
     "output_type": "stream",
     "text": [
      "Standard Deviation per Category\n",
      "-----------------------------------------\n",
      "Untrained 4.75\n",
      "Trained 5.45\n"
     ]
    }
   ],
   "source": [
    "#Standard Deviation per Category\n",
    "\n",
    "print(\"Standard Deviation per Category\")\n",
    "print(\"-----------------------------------------\")\n",
    "\n",
    "sd1=np.sqrt(var1)\n",
    "sd2=np.sqrt(var2)\n",
    "print(dt.columns[0],np.round(sd1,2))\n",
    "print(dt.columns[1],np.round(sd2,2))\n"
   ]
  },
  {
   "cell_type": "markdown",
   "id": "d6439222",
   "metadata": {},
   "source": [
    "#### Graphs"
   ]
  },
  {
   "cell_type": "code",
   "execution_count": 231,
   "id": "a7522328",
   "metadata": {},
   "outputs": [
    {
     "data": {
      "text/plain": [
       "[Text(0.5, 0, 'Gender'), Text(0, 0.5, 'Values')]"
      ]
     },
     "execution_count": 231,
     "metadata": {},
     "output_type": "execute_result"
    },
    {
     "data": {
      "image/png": "[encoded data removed]",
      "text/plain": [
       "<Figure size 432x288 with 1 Axes>"
      ]
     },
     "metadata": {
      "needs_background": "light"
     },
     "output_type": "display_data"
    }
   ],
   "source": [
    "# Boxplot\n",
    "sns.boxplot(x='variable', y='value', data=pd.melt(dt)).set(\n",
    "            xlabel='Gender', #define the variable's nature\n",
    "            ylabel='Values')\n"
   ]
  },
  {
   "cell_type": "markdown",
   "id": "4b9defae",
   "metadata": {},
   "source": [
    "#### Testing Hypothesis"
   ]
  },
  {
   "cell_type": "code",
   "execution_count": 258,
   "id": "61330508",
   "metadata": {},
   "outputs": [
    {
     "name": "stdout",
     "output_type": "stream",
     "text": [
      "===============================\n",
      "Test Hypothesis\n",
      "\n",
      "H0: 25.12 = 22.875\n",
      "H1: 25.12 =/= 22.875\n",
      "===============================\n",
      "Independent Samples Test\n",
      "Equal Variances Assumed\n",
      "===============================\n",
      "Mean Difference =  2.25\n",
      "df =  88\n",
      "Pooled Standard Deviation =  5.2108\n",
      "Pooled Standard Error =  1.1054\n",
      "===============================\n",
      "t-Critical Value\n",
      "\n",
      "Left-Tailed Test =  -1.6624\n",
      "Right-Tailed Test =  1.6624\n",
      "2-Tailed Test =  ± 1.9873\n",
      "===============================\n",
      "t( 88 ) =  2.0631\n",
      "p-value =  0.0421\n",
      "\n",
      "95.0 % CI for the Mean Difference\n",
      "[ 0.09 , 4.41 ]\n",
      "\n",
      "Type I Error =  0.05\n",
      "Type II Error = 0.021\n",
      "There is a 2.1 % chance of failing to detect the difference if the real mean difference is 0\n",
      "Power = 0.979\n",
      "The probability that the test correctly rejects the null hypothesis when the alternative hypothesis is true is 97.9 %\n"
     ]
    }
   ],
   "source": [
    "alpha =0.05\n",
    "testresult=stats.ttest_ind(untr, tr, axis=0, \n",
    "                      equal_var=True, nan_policy='propagate', \n",
    "                      permutations=None, random_state=None, \n",
    "                      alternative='two-sided', trim=0)\n",
    "print('===============================')\n",
    "print(\"Test Hypothesis\")\n",
    "print()\n",
    "print(\"H0:\",untr.mean(),\"=\",tr.mean())\n",
    "print(\"H1:\",untr.mean(),\"=/=\",tr.mean())\n",
    "print('===============================')\n",
    "print(\"Independent Samples Test\")\n",
    "print(\"Equal Variances Assumed\")\n",
    "print('===============================')\n",
    "N1=(len(tr)-1)\n",
    "N2=(len(untr)-1)\n",
    "df = N1+N2\n",
    "meandif=untr.mean()-tr.mean()\n",
    "meandif=np.round(meandif,2)\n",
    "\n",
    "pooled_standard_deviation = sqrt(((n1 - 1)*std1 * std1 +(n2-1)*std2 * std2) /(n1 + n2-2))\n",
    "SE = pooled_standard_deviation*sqrt((1/n1)+(1/n2))\n",
    "\n",
    "#find t critical value\n",
    "tctiticall=stats.t.ppf(q=alpha,df=df)\n",
    "tctiticalr=stats.t.ppf(q=1-alpha,df=df)\n",
    "tctitical2=stats.t.ppf(q=1-(alpha/2),df=df)\n",
    "\n",
    "\n",
    "print(\"Mean Difference = \",meandif)\n",
    "print(\"df = \",df)\n",
    "print(\"Pooled Standard Deviation = \", np.round(pooled_standard_deviation,4))\n",
    "print(\"Pooled Standard Error = \", np.round(SE,4))\n",
    "print('===============================')\n",
    "print(\"t-Critical Value\")\n",
    "print()\n",
    "print(\"Left-Tailed Test = \", np.round(tctiticall,4))\n",
    "print(\"Right-Tailed Test = \", np.round(tctiticalr,4))\n",
    "print(\"2-Tailed Test = \", \"±\",np.round(tctitical2,4))\n",
    "print('===============================')\n",
    "print(\"t(\",df,\") = \",np.round(testresult[0],4))\n",
    "print(\"p-value = \",np.round(testresult[1],4))\n",
    "\n",
    "ind_t_test = stats.ttest_ind(tr, untr)\n",
    "\n",
    "std1=tr.std()\n",
    "std1\n",
    "std2=untr.std()\n",
    "std2\n",
    "\n",
    "\n",
    "std_N1N2 = sqrt((((N1 - 1)*(std1)**2 + (N2 - 1)*(std2)**2) / df))\n",
    "std_N1N2 \n",
    "\n",
    "\n",
    "\n",
    "from scipy.stats import t\n",
    "MoE = t.ppf(0.975, df) * std_N1N2 * sqrt(1/N1 + 1/N2)\n",
    "MoE\n",
    "\n",
    "print()\n",
    "print(100*(1-alpha),'% CI for the Mean Difference')\n",
    "LB=meandif - MoE \n",
    "LB=np.round(LB,2)\n",
    "UB=meandif + MoE\n",
    "UB=np.round(UB,2)\n",
    "\n",
    "print(\"[\",LB,\",\", UB,\"]\")\n",
    "\n",
    "print()\n",
    "print(\"Type I Error = \",alpha)\n",
    "\n",
    "#calculate beta\n",
    "taf=(untr.mean()-tr.mean())/sqrt((((std1**2)/n1)+((std2**2)/n2)))\n",
    "beta=1-t.cdf(taf, df=df)\n",
    "beta=np.round(beta,4)\n",
    "print(\"Type II Error =\",beta)\n",
    "print(\"There is a\", beta*100,\"% chance of failing to detect the difference if the real mean difference is 0\")\n",
    "power=1-beta\n",
    "print(\"Power =\",power)\n",
    "print(\"The probability that the test correctly rejects the null hypothesis when the alternative hypothesis is true is\",np.round(power*100,4),\"%\")"
   ]
  },
  {
   "cell_type": "code",
   "execution_count": 260,
   "id": "af6e5df5",
   "metadata": {},
   "outputs": [
    {
     "name": "stdout",
     "output_type": "stream",
     "text": [
      "Hedge's g = 0.443772\n",
      "No bias correction\n",
      "Medium Effect\n"
     ]
    }
   ],
   "source": [
    "if n1 == n2 :\n",
    "    cohensd = (meandif/pooled_standard_deviation)\n",
    "    cohensd = np.round(cohensd,6)\n",
    "    print(\"Cohen's d =\",cohensd)\n",
    "else :\n",
    "    if n > 50 :\n",
    "        g = meandif/std_N1N2\n",
    "        g = np.round(g,6)\n",
    "        print(\"Hedge's g =\",g)\n",
    "        print(\"No bias correction\")\n",
    "        if g<0.2 :\n",
    "            print(\"Small Effect\")\n",
    "            pr=\"Small\"\n",
    "        elif g<0.5 :\n",
    "            print(\"Medium Effect\")\n",
    "            pr=\"Medium\"\n",
    "        elif g<0.8 :\n",
    "            print(\"Large Effect\")\n",
    "            pr=\"Large\"\n",
    "        else :\n",
    "            print(\"Very Large Effect\")\n",
    "            pr=\" Very Large\"\n",
    "\n",
    "    else :\n",
    "    #Bias correction\n",
    "        g1 = (meandif/std_N1N2)*((n-3)/(n-2.25))*(sqrt((n-2)/n))\n",
    "        print(\"Hedge's g =\",g1)\n",
    "        if g1<0.2 :\n",
    "            print(\"Small Effect\")\n",
    "            pr=\"Small\"          \n",
    "        elif g1<0.5 :\n",
    "            print(\"Medium Effect\")\n",
    "            pr=\"Medium\"          \n",
    "        elif g1<0.8 :\n",
    "            print(\"Large Effect\")\n",
    "            pr=\"Large\"            \n",
    "        else :\n",
    "            print(\"Very Large Effect\")\n",
    "            pr=\" Very Large\"            "
   ]
  },
  {
   "cell_type": "markdown",
   "id": "d73f4c3c",
   "metadata": {},
   "source": [
    "#### Results"
   ]
  },
  {
   "cell_type": "code",
   "execution_count": 259,
   "id": "a1bed981",
   "metadata": {},
   "outputs": [
    {
     "name": "stdout",
     "output_type": "stream",
     "text": [
      "-----------------------------------------\n",
      ": Results :\n",
      "-----------------------------------------\n",
      "Reject the null hypothesis\n",
      "Accept the alternative.\n",
      "The difference is statistically significant.\n",
      "The mean Days from employees that have been trained is lower than or equal to \n",
      "the mean Days from employees that have not been trained.\n",
      "On average, the Days variable was  0.43 higher for employees that have been trained.\n",
      "The difference in Days due to Training Status was Medium .\n",
      "H0: 22.875 = 25.12\n",
      "-----------------------------------------\n",
      "p-Value = 0.0421 < 0.05 = α\n",
      "-----------------------------------------\n"
     ]
    }
   ],
   "source": [
    "print(\"-----------------------------------------\")\n",
    "print(\": Results :\")\n",
    "if(testresult[1] < alpha ):\n",
    "    print(\"-----------------------------------------\")\n",
    "    print(\"Reject the null hypothesis\")\n",
    "    print(\"Accept the alternative.\") \n",
    "    print(\"The difference is statistically significant.\") \n",
    "    print(\"The mean Days from employees that have been trained is lower than or equal to \\nthe mean Days from employees that have not been trained.\")\n",
    "    print(\"On average, the Days variable was \",np.round(cohensd,2),\"higher for employees that have been trained.\")\n",
    "    print(\"The difference in Days due to Training Status was\",pr,\".\")\n",
    "    print(\"H0:\",tr.mean(),\"=\",untr.mean())    \n",
    "    print(\"-----------------------------------------\")\n",
    "    print(\"p-Value =\",np.round((testresult[1]),4), \"<\" , alpha , \"= α\")\n",
    "    print(\"-----------------------------------------\")\n",
    "else:\n",
    "    print(\"-----------------------------------------\")\n",
    "    print(\"Reject the null hypothesis\")\n",
    "    print(\"Remain the null.\") \n",
    "    print(\"The difference is statistically NOT significant.\") \n",
    "    print(\"The mean Days from employees that have been trained is hight than or equal to the mean Days from employees that have not been trained.\")\n",
    "    print(\"On average, the Days variable was \",np.round(cohensd,2),\"higher for employees that have been trained.\")\n",
    "    print(\"The difference in Days due to Training Status was\",pr,\".\")\n",
    "    print(\"H0:\",tr.mean(),\"=\",untr.mean())    \n",
    "    print(\"-----------------------------------------\")\n",
    "    print(\"p-Value =\",np.round((testresult[1]),4), \"<\" , alpha , \"= α\")\n",
    "    print(\"-----------------------------------------\")"
   ]
  },
  {
   "cell_type": "code",
   "execution_count": null,
   "id": "20cbcdb1",
   "metadata": {},
   "outputs": [],
   "source": []
  }
 ],
 "metadata": {
  "kernelspec": {
   "display_name": "Python 3 (ipykernel)",
   "language": "python",
   "name": "python3"
  },
  "language_info": {
   "codemirror_mode": {
    "name": "ipython",
    "version": 3
   },
   "file_extension": ".py",
   "mimetype": "text/x-python",
   "name": "python",
   "nbconvert_exporter": "python",
   "pygments_lexer": "ipython3",
   "version": "3.9.12"
  }
 },
 "nbformat": 4,
 "nbformat_minor": 5
}
