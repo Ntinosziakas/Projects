{
 "cells": [
  {
   "cell_type": "markdown",
   "id": "2124cf03",
   "metadata": {},
   "source": [
    "# ANalysis Of VAriance (One-Way ANOVA)"
   ]
  },
  {
   "cell_type": "code",
   "execution_count": 54,
   "id": "09dd264d",
   "metadata": {},
   "outputs": [],
   "source": [
    "import numpy as np\n",
    "import pandas as pd\n",
    "import scipy.stats as stats\n",
    "import matplotlib.pyplot as plt\n",
    "import math as mt\n",
    "import seaborn as sns\n",
    "import statistics as st\n",
    "import pylab\n",
    "import sklearn as sk\n",
    "import matplotlib as mpl\n",
    "import statsmodels.stats.weightstats as wstats\n",
    "from scipy.stats import sem\n",
    "from math import sqrt \n",
    "from scipy.stats import norm\n",
    "from sklearn import preprocessing\n",
    "from statsmodels.stats.weightstats import ztest"
   ]
  },
  {
   "cell_type": "code",
   "execution_count": 67,
   "id": "f52b37c6",
   "metadata": {},
   "outputs": [
    {
     "name": "stdout",
     "output_type": "stream",
     "text": [
      "You have randomly assigned employees to one of four experimental conditions:\n",
      "(Condition A, Condition B, Condition C, and Condition D) to see if they produce different effects.\n",
      "\n",
      "Specifically, you want to know if Days is different due to Experimental Condition.\n"
     ]
    }
   ],
   "source": [
    "print('You have randomly assigned employees to one of four experimental conditions:\\n(Condition A, Condition B, Condition C, and Condition D) to see if they produce different effects.\\n\\nSpecifically, you want to know if Days is different due to Experimental Condition.') "
   ]
  },
  {
   "cell_type": "code",
   "execution_count": 56,
   "id": "f7a6ee91",
   "metadata": {},
   "outputs": [],
   "source": [
    "# load data file\n",
    "df = pd.read_csv(\"anova1.txt\", sep=\"\\t\")\n",
    "\n",
    "# reshape the d dataframe suitable for statsmodels package \n",
    "df_melt = pd.melt(df.reset_index(), id_vars=['index'], value_vars=['A', 'B', 'C', 'D'])\n",
    "\n",
    "# replace column names\n",
    "df_melt.columns = ['Index', 'Conditions', 'Value']\n"
   ]
  },
  {
   "cell_type": "code",
   "execution_count": 85,
   "id": "892cdab0",
   "metadata": {},
   "outputs": [],
   "source": [
    "alpha=0.05"
   ]
  },
  {
   "cell_type": "code",
   "execution_count": 86,
   "id": "39efba2a",
   "metadata": {},
   "outputs": [
    {
     "data": {
      "text/html": [
       "<div>\n",
       "<style scoped>\n",
       "    .dataframe tbody tr th:only-of-type {\n",
       "        vertical-align: middle;\n",
       "    }\n",
       "\n",
       "    .dataframe tbody tr th {\n",
       "        vertical-align: top;\n",
       "    }\n",
       "\n",
       "    .dataframe thead th {\n",
       "        text-align: right;\n",
       "    }\n",
       "</style>\n",
       "<table border=\"1\" class=\"dataframe\">\n",
       "  <thead>\n",
       "    <tr style=\"text-align: right;\">\n",
       "      <th></th>\n",
       "      <th>df</th>\n",
       "      <th>sum_sq</th>\n",
       "      <th>mean_sq</th>\n",
       "      <th>F</th>\n",
       "      <th>PR(&gt;F)</th>\n",
       "    </tr>\n",
       "  </thead>\n",
       "  <tbody>\n",
       "    <tr>\n",
       "      <th>Conditions</th>\n",
       "      <td>3.0</td>\n",
       "      <td>757.6375</td>\n",
       "      <td>252.545833</td>\n",
       "      <td>9.653456</td>\n",
       "      <td>0.000018</td>\n",
       "    </tr>\n",
       "    <tr>\n",
       "      <th>Residual</th>\n",
       "      <td>76.0</td>\n",
       "      <td>1988.2500</td>\n",
       "      <td>26.161184</td>\n",
       "      <td>NaN</td>\n",
       "      <td>NaN</td>\n",
       "    </tr>\n",
       "  </tbody>\n",
       "</table>\n",
       "</div>"
      ],
      "text/plain": [
       "              df     sum_sq     mean_sq         F    PR(>F)\n",
       "Conditions   3.0   757.6375  252.545833  9.653456  0.000018\n",
       "Residual    76.0  1988.2500   26.161184       NaN       NaN"
      ]
     },
     "execution_count": 86,
     "metadata": {},
     "output_type": "execute_result"
    }
   ],
   "source": [
    "import scipy.stats as stats\n",
    "\n",
    "\n",
    "# get ANOVA table\n",
    "import statsmodels.api as sm\n",
    "from statsmodels.formula.api import ols\n",
    "\n",
    "# Ordinary Least Squares (OLS) model\n",
    "model = ols('Value ~ Conditions', data=df_melt).fit()\n",
    "\n",
    "anova_table = sm.stats.anova_lm(model, typ=2)\n",
    "anova_table\n",
    "# output (ANOVA F and p value)\n",
    "\n",
    "# ANOVA table \n",
    "from bioinfokit.analys import stat\n",
    "res = stat()\n",
    "res.anova_stat(df=df_melt, res_var='Value', anova_model='Value ~ Conditions')\n",
    "res.anova_summary"
   ]
  },
  {
   "cell_type": "markdown",
   "id": "624b55ad",
   "metadata": {},
   "source": [
    "## Test Hypothesis"
   ]
  },
  {
   "cell_type": "code",
   "execution_count": 87,
   "id": "165bf972",
   "metadata": {},
   "outputs": [
    {
     "name": "stdout",
     "output_type": "stream",
     "text": [
      "Test Hypothesis\n",
      "===============================================================================================================================\n",
      "Q: Are there differences in Days by Experimental Condition?\n",
      "H0: μ1 = μ2 = μ3 = μ4\n",
      "H1: At least two means differ\n",
      "===============================================================================================================================\n",
      "F-Statistic = 9.653 \n",
      "p-value = 0.000018\n",
      "===============================================================================================================================\n",
      "-----------------------------------------\n",
      ": Results :\n",
      "-----------------------------------------\n",
      "\n",
      "Reject the null hypothesis\n",
      "Accept the alternative.\n",
      "The ratio is statistically significant\n",
      "At least two Experimental Conditions differ\n",
      "\n",
      "-----------------------------------------\n"
     ]
    }
   ],
   "source": [
    "print(\"Test Hypothesis\")\n",
    "print('===============================================================================================================================')\n",
    "print(\"Q: Are there differences in Days by Experimental Condition?\")\n",
    "print('H0: μ1 = μ2 = μ3 = μ4')\n",
    "print(\"H1: At least two means differ\")\n",
    "print('===============================================================================================================================')\n",
    "\n",
    "# output (ANOVA F and p value)\n",
    "# stats f_oneway functions takes the groups as input and returns ANOVA F and p value\n",
    "fvalue, pvalue = stats.f_oneway(df['A'], df['B'], df['C'], df['D'])\n",
    "print(\"F-Statistic = \"\"%.3f\" %  fvalue,\"\\np-value = \"\"%.6f\" % pvalue)\n",
    "print('===============================================================================================================================')\n",
    "print(\"-----------------------------------------\")\n",
    "print(\": Results :\")\n",
    "if(pvalue < alpha ):\n",
    "    print(\"-----------------------------------------\")\n",
    "    print()\n",
    "    print(\"Reject the null hypothesis\")\n",
    "    print(\"Accept the alternative.\") \n",
    "    print(\"The ratio is statistically significant\") \n",
    "    print(\"At least two Experimental Conditions differ\")\n",
    "    print()  \n",
    "    print(\"-----------------------------------------\")\n",
    "else:\n",
    "    print(\"-----------------------------------------\")\n",
    "    print(\"Retmain the null.\") \n",
    "    print(\"The difference is not statistically significant.\") \n",
    "    print(\"There is no difference on Days by Experimental Condition.\") \n",
    "    print(\"-----------------------------------------\")\n",
    "    print(\"-----------------------------------------\")"
   ]
  },
  {
   "cell_type": "code",
   "execution_count": 88,
   "id": "4ad0dbc9",
   "metadata": {},
   "outputs": [
    {
     "data": {
      "image/png": "[encoded data removed]",
      "text/plain": [
       "<Figure size 1080x720 with 1 Axes>"
      ]
     },
     "metadata": {},
     "output_type": "display_data"
    }
   ],
   "source": [
    "# generate a boxplot to see the data distribution by treatments. \n",
    "#Using boxplot, we can easily detect the differences between different treatments\n",
    "\n",
    "import seaborn as sns\n",
    "fig, ax = plt.subplots(figsize=(15,10)) #Setting size of the canvas\n",
    "\n",
    "sns.set_style(\"whitegrid\")\n",
    "box_plot = sns.boxplot(x=\"Conditions\",y=\"Value\",data=df_melt,medianprops=dict(color=\"k\", alpha=0.7))\n",
    "ax = sns.swarmplot(x=\"Conditions\", y=\"Value\", data=df_melt, color='k')\n",
    "\n",
    "#printing the median value at the center of every category\n",
    "medians = df_melt.groupby(['Conditions'])['Value'].median()\n",
    "vertical_offset = df_melt['Value'].median() * 0.005 # offset from median for display\n",
    "\n",
    "for xtick in box_plot.get_xticks():\n",
    "    box_plot.text(xtick,medians[xtick] + vertical_offset,medians[xtick], \n",
    "            horizontalalignment='center',size='large',color='w',weight='semibold')\n",
    "\n",
    "plt.show()"
   ]
  }
 ],
 "metadata": {
  "kernelspec": {
   "display_name": "Python 3 (ipykernel)",
   "language": "python",
   "name": "python3"
  },
  "language_info": {
   "codemirror_mode": {
    "name": "ipython",
    "version": 3
   },
   "file_extension": ".py",
   "mimetype": "text/x-python",
   "name": "python",
   "nbconvert_exporter": "python",
   "pygments_lexer": "ipython3",
   "version": "3.9.12"
  }
 },
 "nbformat": 4,
 "nbformat_minor": 5
}
