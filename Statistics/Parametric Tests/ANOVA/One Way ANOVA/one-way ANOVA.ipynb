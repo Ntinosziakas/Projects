{
 "cells": [
  {
   "cell_type": "markdown",
   "id": "2124cf03",
   "metadata": {},
   "source": [
    "# ANalysis Of VAriance (One-Way ANOVA)"
   ]
  },
  {
   "cell_type": "code",
   "execution_count": 1,
   "id": "09dd264d",
   "metadata": {},
   "outputs": [],
   "source": [
    "import numpy as np\n",
    "import pandas as pd\n",
    "import scipy.stats as stats\n",
    "import matplotlib.pyplot as plt\n",
    "import math as mt\n",
    "import seaborn as sns\n",
    "import statistics as st\n",
    "import pylab\n",
    "import sklearn as sk\n",
    "import matplotlib as mpl\n",
    "import statsmodels.stats.weightstats as wstats\n",
    "from scipy.stats import sem\n",
    "from math import sqrt \n",
    "from scipy.stats import norm\n",
    "from sklearn import preprocessing\n",
    "from statsmodels.stats.weightstats import ztest"
   ]
  },
  {
   "cell_type": "code",
   "execution_count": 2,
   "id": "f52b37c6",
   "metadata": {},
   "outputs": [
    {
     "name": "stdout",
     "output_type": "stream",
     "text": [
      "You have randomly assigned employees to one of four experimental conditions:\n",
      "(Condition A, Condition B, Condition C, and Condition D) to see if they produce different effects.\n",
      "\n",
      "Specifically, you want to know if Days is different due to Experimental Condition.\n"
     ]
    }
   ],
   "source": [
    "print('You have randomly assigned employees to one of four experimental conditions:\\n(Condition A, Condition B, Condition C, and Condition D) to see if they produce different effects.\\n\\nSpecifically, you want to know if Days is different due to Experimental Condition.') "
   ]
  },
  {
   "cell_type": "code",
   "execution_count": 3,
   "id": "f7a6ee91",
   "metadata": {},
   "outputs": [
    {
     "data": {
      "text/html": [
       "<div>\n",
       "<style scoped>\n",
       "    .dataframe tbody tr th:only-of-type {\n",
       "        vertical-align: middle;\n",
       "    }\n",
       "\n",
       "    .dataframe tbody tr th {\n",
       "        vertical-align: top;\n",
       "    }\n",
       "\n",
       "    .dataframe thead th {\n",
       "        text-align: right;\n",
       "    }\n",
       "</style>\n",
       "<table border=\"1\" class=\"dataframe\">\n",
       "  <thead>\n",
       "    <tr style=\"text-align: right;\">\n",
       "      <th></th>\n",
       "      <th>A</th>\n",
       "      <th>B</th>\n",
       "      <th>C</th>\n",
       "      <th>D</th>\n",
       "    </tr>\n",
       "  </thead>\n",
       "  <tbody>\n",
       "    <tr>\n",
       "      <th>count</th>\n",
       "      <td>50.00</td>\n",
       "      <td>50.00</td>\n",
       "      <td>50.00</td>\n",
       "      <td>50.00</td>\n",
       "    </tr>\n",
       "    <tr>\n",
       "      <th>mean</th>\n",
       "      <td>25.36</td>\n",
       "      <td>25.64</td>\n",
       "      <td>26.12</td>\n",
       "      <td>27.74</td>\n",
       "    </tr>\n",
       "    <tr>\n",
       "      <th>std</th>\n",
       "      <td>4.94</td>\n",
       "      <td>4.33</td>\n",
       "      <td>5.24</td>\n",
       "      <td>5.63</td>\n",
       "    </tr>\n",
       "    <tr>\n",
       "      <th>min</th>\n",
       "      <td>17.00</td>\n",
       "      <td>14.00</td>\n",
       "      <td>14.00</td>\n",
       "      <td>16.00</td>\n",
       "    </tr>\n",
       "    <tr>\n",
       "      <th>25%</th>\n",
       "      <td>21.00</td>\n",
       "      <td>23.00</td>\n",
       "      <td>23.00</td>\n",
       "      <td>24.00</td>\n",
       "    </tr>\n",
       "    <tr>\n",
       "      <th>50%</th>\n",
       "      <td>26.00</td>\n",
       "      <td>26.00</td>\n",
       "      <td>25.50</td>\n",
       "      <td>28.00</td>\n",
       "    </tr>\n",
       "    <tr>\n",
       "      <th>75%</th>\n",
       "      <td>28.75</td>\n",
       "      <td>28.75</td>\n",
       "      <td>30.00</td>\n",
       "      <td>32.00</td>\n",
       "    </tr>\n",
       "    <tr>\n",
       "      <th>max</th>\n",
       "      <td>38.00</td>\n",
       "      <td>34.00</td>\n",
       "      <td>36.00</td>\n",
       "      <td>40.00</td>\n",
       "    </tr>\n",
       "  </tbody>\n",
       "</table>\n",
       "</div>"
      ],
      "text/plain": [
       "           A      B      C      D\n",
       "count  50.00  50.00  50.00  50.00\n",
       "mean   25.36  25.64  26.12  27.74\n",
       "std     4.94   4.33   5.24   5.63\n",
       "min    17.00  14.00  14.00  16.00\n",
       "25%    21.00  23.00  23.00  24.00\n",
       "50%    26.00  26.00  25.50  28.00\n",
       "75%    28.75  28.75  30.00  32.00\n",
       "max    38.00  34.00  36.00  40.00"
      ]
     },
     "execution_count": 3,
     "metadata": {},
     "output_type": "execute_result"
    }
   ],
   "source": [
    "# load data file\n",
    "df = pd.read_csv(\"ANOVA.txt\", sep=\"\\t\")\n",
    "\n",
    "# reshape the d dataframe suitable for statsmodels package \n",
    "df_melt = pd.melt(df.reset_index(), id_vars=['index'], value_vars=['A', 'B', 'C', 'D'])\n",
    "\n",
    "# replace column names\n",
    "df_melt.columns = ['Index', 'Conditions', 'Value']\n",
    "np.round(df.describe(),2)"
   ]
  },
  {
   "cell_type": "code",
   "execution_count": 4,
   "id": "892cdab0",
   "metadata": {},
   "outputs": [],
   "source": [
    "alpha=0.05\n",
    "list1=np.array(df['A'])\n",
    "list2=np.array(df['B'])\n",
    "list3=np.array(df['C'])\n",
    "list4=np.array(df['D'])\n",
    "\n",
    "list=[*list1,*list2,*list3,*list4]\n",
    "list=np.array(list)\n",
    "n1=len(list1)\n",
    "\n",
    "ser1 = pd.Series(list1)\n",
    "list1 = ser1.tolist()\n",
    "ser2 = pd.Series(list2)\n",
    "list2 = ser2.tolist()\n",
    "ser3 = pd.Series(list3)\n",
    "list3 = ser3.tolist()\n",
    "ser4 = pd.Series(list4)\n",
    "list4 = ser4.tolist()\n"
   ]
  },
  {
   "cell_type": "code",
   "execution_count": 5,
   "id": "39efba2a",
   "metadata": {},
   "outputs": [
    {
     "data": {
      "text/html": [
       "<div>\n",
       "<style scoped>\n",
       "    .dataframe tbody tr th:only-of-type {\n",
       "        vertical-align: middle;\n",
       "    }\n",
       "\n",
       "    .dataframe tbody tr th {\n",
       "        vertical-align: top;\n",
       "    }\n",
       "\n",
       "    .dataframe thead th {\n",
       "        text-align: right;\n",
       "    }\n",
       "</style>\n",
       "<table border=\"1\" class=\"dataframe\">\n",
       "  <thead>\n",
       "    <tr style=\"text-align: right;\">\n",
       "      <th></th>\n",
       "      <th>df</th>\n",
       "      <th>sum_sq</th>\n",
       "      <th>mean_sq</th>\n",
       "      <th>F</th>\n",
       "      <th>PR(&gt;F)</th>\n",
       "    </tr>\n",
       "  </thead>\n",
       "  <tbody>\n",
       "    <tr>\n",
       "      <th>Conditions</th>\n",
       "      <td>3.0</td>\n",
       "      <td>169.815</td>\n",
       "      <td>56.605000</td>\n",
       "      <td>2.214514</td>\n",
       "      <td>0.087711</td>\n",
       "    </tr>\n",
       "    <tr>\n",
       "      <th>Residual</th>\n",
       "      <td>196.0</td>\n",
       "      <td>5009.940</td>\n",
       "      <td>25.560918</td>\n",
       "      <td>NaN</td>\n",
       "      <td>NaN</td>\n",
       "    </tr>\n",
       "  </tbody>\n",
       "</table>\n",
       "</div>"
      ],
      "text/plain": [
       "               df    sum_sq    mean_sq         F    PR(>F)\n",
       "Conditions    3.0   169.815  56.605000  2.214514  0.087711\n",
       "Residual    196.0  5009.940  25.560918       NaN       NaN"
      ]
     },
     "execution_count": 5,
     "metadata": {},
     "output_type": "execute_result"
    }
   ],
   "source": [
    "import scipy.stats as stats\n",
    "\n",
    "\n",
    "# get ANOVA table\n",
    "import statsmodels.api as sm\n",
    "from statsmodels.formula.api import ols\n",
    "\n",
    "# Ordinary Least Squares (OLS) model\n",
    "model = ols('Value ~ Conditions', data=df_melt).fit()\n",
    "\n",
    "anova_table = sm.stats.anova_lm(model, typ=2)\n",
    "anova_table\n",
    "# output (ANOVA F and p value)\n",
    "\n",
    "# ANOVA table \n",
    "from bioinfokit.analys import stat\n",
    "res = stat()\n",
    "res.anova_stat(df=df_melt, res_var='Value', anova_model='Value ~ Conditions')\n",
    "res.anova_summary"
   ]
  },
  {
   "cell_type": "markdown",
   "id": "624b55ad",
   "metadata": {},
   "source": [
    "## Test Hypothesis"
   ]
  },
  {
   "cell_type": "code",
   "execution_count": 6,
   "id": "165bf972",
   "metadata": {},
   "outputs": [
    {
     "name": "stdout",
     "output_type": "stream",
     "text": [
      "Test Hypothesis\n",
      "===============================================================================================================================\n",
      "Q: Are there differences in Days by Experimental Condition?\n",
      "H0: μ1 = μ2 = μ3 = μ4\n",
      "H1: At least two means differ\n",
      "===============================================================================================================================\n",
      "F-Statistic = 2.215 \n",
      "p-value = 0.087711\n",
      "===============================================================================================================================\n",
      "-----------------------------------------\n",
      ": Results :\n",
      "-----------------------------------------\n",
      "Retmain the null.\n",
      "The difference is not statistically significant.\n",
      "There is no difference on Days by Experimental Condition.\n",
      "-----------------------------------------\n",
      "-----------------------------------------\n"
     ]
    }
   ],
   "source": [
    "print(\"Test Hypothesis\")\n",
    "print('===============================================================================================================================')\n",
    "print(\"Q: Are there differences in Days by Experimental Condition?\")\n",
    "print('H0: μ1 = μ2 = μ3 = μ4')\n",
    "print(\"H1: At least two means differ\")\n",
    "print('===============================================================================================================================')\n",
    "\n",
    "# output (ANOVA F and p value)\n",
    "# stats f_oneway functions takes the groups as input and returns ANOVA F and p value\n",
    "fvalue, pvalue = stats.f_oneway(df['A'], df['B'], df['C'], df['D'])\n",
    "print(\"F-Statistic = \"\"%.3f\" %  fvalue,\"\\np-value = \"\"%.6f\" % pvalue)\n",
    "print('===============================================================================================================================')\n",
    "print(\"-----------------------------------------\")\n",
    "print(\": Results :\")\n",
    "if(pvalue < alpha ):\n",
    "    print(\"-----------------------------------------\")\n",
    "    print()\n",
    "    print(\"Reject the null hypothesis\")\n",
    "    print(\"Accept the alternative.\") \n",
    "    print(\"The ratio is statistically significant\") \n",
    "    print(\"At least two Experimental Conditions differ\")\n",
    "    print()  \n",
    "    print(\"-----------------------------------------\")\n",
    "else:\n",
    "    print(\"-----------------------------------------\")\n",
    "    print(\"Retmain the null.\") \n",
    "    print(\"The difference is not statistically significant.\") \n",
    "    print(\"There is no difference on Days by Experimental Condition.\") \n",
    "    print(\"-----------------------------------------\")\n",
    "    print(\"-----------------------------------------\")"
   ]
  },
  {
   "cell_type": "code",
   "execution_count": 7,
   "id": "4ad0dbc9",
   "metadata": {},
   "outputs": [
    {
     "data": {
      "image/png": "[encoded data removed]",
      "text/plain": [
       "<Figure size 1080x720 with 1 Axes>"
      ]
     },
     "metadata": {
      "needs_background": "light"
     },
     "output_type": "display_data"
    }
   ],
   "source": [
    "# generate a boxplot to see the data distribution by treatments. \n",
    "#Using boxplot, we can easily detect the differences between different treatments\n",
    "\n",
    "import seaborn as sns\n",
    "fig, ax = plt.subplots(figsize=(15,10)) #Setting size of the canvas\n",
    "\n",
    "sns.set_style(\"whitegrid\")\n",
    "box_plot = sns.boxplot(x=\"Conditions\",y=\"Value\",data=df_melt,medianprops=dict(color=\"k\", alpha=0.7))\n",
    "ax = sns.swarmplot(x=\"Conditions\", y=\"Value\", data=df_melt, color='k')\n",
    "\n",
    "#printing the median value at the center of every category\n",
    "means = df_melt.groupby(['Conditions'])['Value'].mean()\n",
    "vertical_offset = df_melt['Value'].median() * 0.005 # offset from median for display\n",
    "\n",
    "for xtick in box_plot.get_xticks():\n",
    "    box_plot.text(xtick,means[xtick] + vertical_offset,means[xtick], \n",
    "            horizontalalignment='center',size='large',color='w',weight='semibold')\n",
    "\n",
    "plt.show()"
   ]
  },
  {
   "cell_type": "code",
   "execution_count": 8,
   "id": "8dc786b5",
   "metadata": {},
   "outputs": [
    {
     "name": "stdout",
     "output_type": "stream",
     "text": [
      "Multiple Comparison of Means - Tukey HSD, FWER=0.05\n",
      "===================================================\n",
      "group1 group2 meandiff p-adj   lower  upper  reject\n",
      "---------------------------------------------------\n",
      "     A      B     0.28 0.9926 -2.3401 2.9001  False\n",
      "     A      C     0.76 0.8759 -1.8601 3.3801  False\n",
      "     A      D     2.38 0.0897 -0.2401 5.0001  False\n",
      "     B      C     0.48 0.9646 -2.1401 3.1001  False\n",
      "     B      D      2.1 0.1643 -0.5201 4.7201  False\n",
      "     C      D     1.62 0.3798 -1.0001 4.2401  False\n",
      "---------------------------------------------------\n"
     ]
    }
   ],
   "source": [
    "from statsmodels.stats.multicomp import pairwise_tukeyhsd\n",
    "\n",
    "#create DataFrame to hold data\n",
    "dr = pd.DataFrame({'score': list,\n",
    "                   'group': np.repeat(['A','B','C','D'], repeats=n1)}) \n",
    "\n",
    "# perform Tukey's test\n",
    "tukey = pairwise_tukeyhsd(endog=dr['score'],\n",
    "                          groups=dr['group'],\n",
    "                          alpha=alpha)\n",
    "print(tukey)"
   ]
  },
  {
   "cell_type": "code",
   "execution_count": 37,
   "id": "a57e6a81",
   "metadata": {},
   "outputs": [
    {
     "data": {
      "image/png": "[encoded data removed]",
      "text/plain": [
       "<Figure size 432x288 with 1 Axes>"
      ]
     },
     "metadata": {},
     "output_type": "display_data"
    },
    {
     "data": {
      "image/png": "[encoded data removed]",
      "text/plain": [
       "<Figure size 432x288 with 1 Axes>"
      ]
     },
     "metadata": {},
     "output_type": "display_data"
    }
   ],
   "source": [
    "# QQ-plot\n",
    "import statsmodels.api as sm\n",
    "import matplotlib.pyplot as plt\n",
    "\n",
    "# res.anova_std_residuals are standardized residuals obtained from ANOVA (check above)\n",
    "sm.qqplot(res.anova_std_residuals, line='45')\n",
    "plt.title(\"Residuals QQ-plot\")\n",
    "plt.xlabel(\"Theoretical Quantiles\")\n",
    "plt.ylabel(\"Standardized Residuals\")\n",
    "plt.show()\n",
    "\n",
    "\n",
    "# histogram\n",
    "#fig, ax = plt.subplots(figsize=(15,10)) #Setting size of the canvas\n",
    "plt.hist(res.anova_model_out.resid, bins='auto', histtype='bar', ec='k')\n",
    "plt.title(\"Residuals Histogram\")\n",
    "plt.xlabel(\"Residuals\")\n",
    "plt.ylabel('Frequency')\n",
    "plt.show()"
   ]
  },
  {
   "cell_type": "code",
   "execution_count": 10,
   "id": "b5afa22e",
   "metadata": {},
   "outputs": [
    {
     "name": "stdout",
     "output_type": "stream",
     "text": [
      "===============================================================================================================================\n",
      "Shapiro-Wilk test\n",
      "\n",
      "H0: The data is drawn from normal distribution.\n",
      "H1: The data is NOT drawn from normal distribution.\n",
      "\n",
      "===============================================================================================================================\n",
      "W-Statistic = 0.993 \n",
      "p-value = 0.4339\n",
      "===============================================================================================================================\n",
      "-----------------------------------------\n",
      ": Results :\n",
      "-----------------------------------------\n",
      "Retain the null.\n",
      "The data is drawn from normal distribution.\n",
      "-----------------------------------------\n",
      "-----------------------------------------\n",
      "\n",
      "===============================================================================================================================\n",
      "\n",
      "Homogeneity of Variances\n",
      "\n",
      "===============================================================================================================================\n",
      "Bartlett’s test test\n",
      "\n",
      "H0: The samples from populations have equal variances.\n",
      "H1: The samples from populations have NOT equal variances.\n",
      "\n",
      "===============================================================================================================================\n",
      "B-Statistic = 3.523 \n",
      "p-value = 0.3178\n",
      "===============================================================================================================================\n",
      "-----------------------------------------\n",
      ": Results :\n",
      "-----------------------------------------\n",
      "Retain the null.\n",
      "The samples from populations have equal variances.\n",
      "-----------------------------------------\n",
      "-----------------------------------------\n"
     ]
    }
   ],
   "source": [
    "#Shapiro-Wilk test\n",
    "import scipy.stats as stats\n",
    "w, pvalue = stats.shapiro(model.resid)\n",
    "print('===============================================================================================================================')\n",
    "print(\"Shapiro-Wilk test\\n\\nH0: The data is drawn from normal distribution.\")\n",
    "print(\"H1: The data is NOT drawn from normal distribution.\\n\")\n",
    "\n",
    "print('===============================================================================================================================')\n",
    "print(\"W-Statistic = \"\"%.3f\" % w,\"\\np-value = \"\"%.4f\" % pvalue)\n",
    "print('===============================================================================================================================')\n",
    "print(\"-----------------------------------------\")\n",
    "print(\": Results :\")\n",
    "if(pvalue < alpha ):\n",
    "    print(\"-----------------------------------------\")\n",
    "    print()\n",
    "    print(\"Reject the null hypothesis\")\n",
    "    print(\"Accept the alternative.\") \n",
    "    print(\"The data is drawn from normal distribution.\") \n",
    "    print()  \n",
    "    print(\"-----------------------------------------\")\n",
    "    print(\"|\\n|\\n|\\n|\\n|\\n|\\n|\\nv\\n\")\n",
    "    #Levene’s test \n",
    "    \n",
    "    from bioinfokit.analys import stat \n",
    "    res = stat()\n",
    "    res.levene(df=df_melt, res_var='Value', xfac_var='Conditions')\n",
    "    print('===============================================================================================================================')\n",
    "    print(\"Levene’s test \\n\\nH0: The samples from populations have equal variances.\")\n",
    "    print(\"H1: The samples from populations have NOT equal variances.\")\n",
    "    print('===============================================================================================================================')\n",
    "    res.levene_summary\n",
    "    \n",
    "else:\n",
    "    print(\"-----------------------------------------\")\n",
    "    print(\"Retain the null.\") \n",
    "    print(\"The data is drawn from normal distribution.\") \n",
    "    print(\"-----------------------------------------\")\n",
    "    print(\"-----------------------------------------\\n\")\n",
    "    print('===============================================================================================================================')\n",
    "\n",
    "    print(\"\\nHomogeneity of Variances\\n\")\n",
    "\n",
    "    #Homogeneity of Variances\n",
    "\n",
    "    import scipy.stats as stats\n",
    "    w, pvalue = stats.bartlett(df['A'], df['B'], df['C'], df['D'])\n",
    "\n",
    "    print('===============================================================================================================================')\n",
    "    print(\"Bartlett’s test test\\n\\nH0: The samples from populations have equal variances.\")\n",
    "    print(\"H1: The samples from populations have NOT equal variances.\\n\")\n",
    "\n",
    "    print('===============================================================================================================================')\n",
    "    print(\"B-Statistic = \"\"%.3f\" % w,\"\\np-value = \"\"%.4f\" % pvalue)\n",
    "    print('===============================================================================================================================')\n",
    "    print(\"-----------------------------------------\")\n",
    "    print(\": Results :\")\n",
    "    if(pvalue < alpha ):\n",
    "        print(\"-----------------------------------------\")\n",
    "        print()\n",
    "        print(\"Reject the null hypothesis\")\n",
    "        print(\"Accept the alternative.\") \n",
    "        print(\"The samples from populations have NOT equal variances.\") \n",
    "        print()  \n",
    "        print(\"-----------------------------------------\")\n",
    "    else:\n",
    "        print(\"-----------------------------------------\")\n",
    "        print(\"Retain the null.\") \n",
    "        print(\"The samples from populations have equal variances.\") \n",
    "        print(\"-----------------------------------------\")\n",
    "        print(\"-----------------------------------------\")\n",
    "\n",
    "    from bioinfokit.analys import stat \n",
    "    res = stat()\n",
    "    res.bartlett(df=df_melt, res_var='Value', xfac_var='Conditions')\n",
    "    res.bartlett_summary"
   ]
  },
  {
   "cell_type": "code",
   "execution_count": null,
   "id": "a19e03ac",
   "metadata": {},
   "outputs": [],
   "source": []
  }
 ],
 "metadata": {
  "kernelspec": {
   "display_name": "Python 3 (ipykernel)",
   "language": "python",
   "name": "python3"
  },
  "language_info": {
   "codemirror_mode": {
    "name": "ipython",
    "version": 3
   },
   "file_extension": ".py",
   "mimetype": "text/x-python",
   "name": "python",
   "nbconvert_exporter": "python",
   "pygments_lexer": "ipython3",
   "version": "3.9.12"
  }
 },
 "nbformat": 4,
 "nbformat_minor": 5
}
