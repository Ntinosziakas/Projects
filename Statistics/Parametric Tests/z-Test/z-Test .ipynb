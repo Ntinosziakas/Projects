{
 "cells": [
  {
   "cell_type": "markdown",
   "id": "d94ee080",
   "metadata": {},
   "source": [
    "# z-Test"
   ]
  },
  {
   "cell_type": "code",
   "execution_count": 1,
   "id": "06a02871",
   "metadata": {},
   "outputs": [],
   "source": [
    "import numpy as np\n",
    "import pandas as pd\n",
    "import scipy.stats as stats\n",
    "import matplotlib.pyplot as plt\n",
    "import math as mt\n",
    "import seaborn as sns\n",
    "import statistics as st\n",
    "import pylab\n",
    "import sklearn as sk\n",
    "import matplotlib as mpl\n",
    "import statsmodels.stats.weightstats as wstats\n",
    "from scipy.stats import sem\n",
    "from math import sqrt \n",
    "from scipy.stats import norm\n",
    "from sklearn import preprocessing\n",
    "from statsmodels.stats.weightstats import ztest"
   ]
  },
  {
   "cell_type": "markdown",
   "id": "9fa0be06",
   "metadata": {},
   "source": [
    "## The Story"
   ]
  },
  {
   "cell_type": "code",
   "execution_count": 2,
   "id": "ca11ff8d",
   "metadata": {},
   "outputs": [
    {
     "name": "stdout",
     "output_type": "stream",
     "text": [
      "In the population, we'd expect Days to have a mean of 23 and standard deviation of 5, but you want to know if your sample comes from a different population.\n"
     ]
    }
   ],
   "source": [
    "print(\"In the population, we'd expect Days to have a mean of 23 and standard deviation of 5, but you want to know if your sample comes from a different population.\")"
   ]
  },
  {
   "cell_type": "markdown",
   "id": "7f50021c",
   "metadata": {},
   "source": [
    "### Question"
   ]
  },
  {
   "cell_type": "code",
   "execution_count": 3,
   "id": "699aeb88",
   "metadata": {},
   "outputs": [
    {
     "name": "stdout",
     "output_type": "stream",
     "text": [
      "Does our sample come from a population with a mean equal to 23, assuming a population standard deviation of 5?\n"
     ]
    }
   ],
   "source": [
    "print(\"Does our sample come from a population with a mean equal to 23, assuming a population standard deviation of 5?\")"
   ]
  },
  {
   "cell_type": "markdown",
   "id": "4f91c634",
   "metadata": {},
   "source": [
    "### Answer"
   ]
  },
  {
   "cell_type": "code",
   "execution_count": 4,
   "id": "653c9fdc",
   "metadata": {},
   "outputs": [
    {
     "name": "stdout",
     "output_type": "stream",
     "text": [
      "Enter sample size :\n",
      "Type a number between 1 and 6\n",
      "1.\tn=10\n",
      "2.\tn=20\n",
      "3.\tn=30\n",
      "4.\tn=50\n",
      "5.\tn=100\n",
      "6.\tn=200\n",
      "6\n",
      "Sample size = 200\n",
      "Enter Statistical Significance :\n",
      "Type a number between 0 and 1, but not 0 nor 1\n",
      "0.01\n",
      "α =  0.01\n",
      "Sample Size : 200 \n",
      "Statistical Significance: 0.01\n"
     ]
    }
   ],
   "source": [
    "#Sample Size\n",
    "n=1\n",
    "while (n <= 6 and n > 0) :\n",
    "    n = int(input (\"Enter sample size :\\nType a number between 1 and 6\\n1.\\tn=10\\n2.\\tn=20\\n3.\\tn=30\\n4.\\tn=50\\n5.\\tn=100\\n6.\\tn=200\\n\"))\n",
    "    if n <= 6 and n > 0 :\n",
    "        if n==1 :\n",
    "            print(\"Sample size = 10\")\n",
    "            n=10\n",
    "        elif n==2:\n",
    "            print(\"Sample size = 20\")\n",
    "            n=20\n",
    "        elif n==3:\n",
    "            print(\"Sample size = 30\")\n",
    "            n=30\n",
    "        elif n==4:\n",
    "            print(\"Sample size = 50\")\n",
    "            n=50\n",
    "        elif n==5:\n",
    "            print(\"Sample size = 100\")\n",
    "            n=100\n",
    "        elif n==6:\n",
    "            print(\"Sample size = 200\")\n",
    "            n=200\n",
    "        exitn=1\n",
    "        break\n",
    "    else :\n",
    "        n==-1\n",
    "        print(\"Wrong Number, re-run the code again and type a number between 1 and 6 and re-run the code again by clicking:\\nKernel>Restart\\nNo sample size chosen\")\n",
    "#Statistical Significance\n",
    "alpha=0.05\n",
    "while (alpha <  1 and alpha > 0) :\n",
    "    alpha = float(input (\"Enter Statistical Significance :\\nType a number between 0 and 1, but not 0 nor 1\\n\"))\n",
    "    if alpha <  1 and alpha > 0 :\n",
    "        print(\"α = \",alpha)\n",
    "        exita=1\n",
    "        break\n",
    "    else :\n",
    "        alpha==-1\n",
    "        print(\"Wrong Number, re-run the code again and type a number between 0 and 0 and re-run the code again by clicking:\\nKernel>Restart\\nNo Level of Statistical Significance chosen\")\n",
    "if exitn==1 and exita==1:\n",
    "    print(\"Sample Size :\",n,\"\\nStatistical Significance:\",alpha)"
   ]
  },
  {
   "cell_type": "code",
   "execution_count": 5,
   "id": "af857ebe",
   "metadata": {},
   "outputs": [],
   "source": [
    "if n==10 :\n",
    "    dt = pd.read_csv('z_test n=10.csv',dtype=int)\n",
    "elif n==20:\n",
    "    dt = pd.read_csv('z_test n=20.csv',dtype=int)\n",
    "elif n==30:\n",
    "    dt = pd.read_csv('z_test n=30.csv',dtype=int)\n",
    "elif n==50:\n",
    "    dt = pd.read_csv('z_test n=50.csv',dtype=int)\n",
    "elif n==100:\n",
    "    dt = pd.read_csv('z_test n=100.csv',dtype=int)\n",
    "else:\n",
    "    dt = pd.read_csv('z_test n=200.csv',dtype=int)"
   ]
  },
  {
   "cell_type": "markdown",
   "id": "f2741d1a",
   "metadata": {},
   "source": [
    "#### Descriptive Statistics"
   ]
  },
  {
   "cell_type": "code",
   "execution_count": 19,
   "id": "fbe971d3",
   "metadata": {},
   "outputs": [
    {
     "name": "stdout",
     "output_type": "stream",
     "text": [
      "Central Tendency Calculations \n",
      "===============================\n",
      "===============================\n",
      "n: 200\n",
      "Sum: 4955 \n",
      "===============================\n",
      "2 nd - Moment Sum: 128061\n",
      "3 rd - Moment: Sum 3435101\n",
      "4 th - Moment: Sum 95256105 \n",
      "===============================\n",
      "Mean: 24.775\n",
      "Median: 25.0 \n",
      "===============================\n",
      "Mode:\n",
      "===============================\n",
      "Max: 39\n",
      "Min: 11\n",
      "Range: 28 \n",
      "===============================\n",
      "Variance: 26.64\n",
      "Standard Deviation: 5.16 \n",
      "===============================\n",
      "Quantiles:\n",
      "       Days\n",
      "0.25  21.0\n",
      "0.50  25.0\n",
      "0.75  28.0 \n",
      "===============================\n",
      "IQR: 7.0 \n",
      "===============================\n",
      "*******************************************************************************************************************************\n",
      "Note:\n",
      "-----\n",
      "The 2nd Moment Sum is the Σ(x^2),etc...\n",
      "*******************************************************************************************************************************\n"
     ]
    }
   ],
   "source": [
    "n=len(dt)\n",
    "sum=dt.sum()\n",
    "\n",
    "mlst=np.arange(0, 5, 1)\n",
    "dt2=dt**2 #2nd Moment of X\n",
    "sum2=dt2.sum()\n",
    "dt3=dt**3 #3rd Moment of X\n",
    "sum3=dt3.sum()\n",
    "dt4=dt**4 #4th Moment of X\n",
    "sum4=dt4.sum()\n",
    "\n",
    "mean=dt.mean()\n",
    "median=dt.median()\n",
    "mode=dt.mode()\n",
    "iqr=dt.quantile(0.75)-dt.quantile(0.25)\n",
    "max=dt.max()\n",
    "min=dt.min()\n",
    "range=max-min\n",
    "var=round(dt.var(),2)\n",
    "sd=round(dt.std(),2)\n",
    "\n",
    "print(\"Central Tendency Calculations \\n===============================\\n===============================\")\n",
    "\n",
    "print(\"n:\",n)\n",
    "print(\"Sum:\",sum[0],\"\\n===============================\")\n",
    "print(mlst[2],\"nd - Moment Sum:\",sum2[0])\n",
    "print(mlst[3],\"rd - Moment: Sum\",sum3[0])\n",
    "print(mlst[4],\"th - Moment: Sum\",sum4[0],\"\\n===============================\")\n",
    "\n",
    "\n",
    "print(\"Mean:\",mean[0])\n",
    "print(\"Median:\",median[0],\"\\n===============================\")\n",
    "print(\"Mode:\\n===============================\"),mode.to_string()\n",
    "print(\"Max:\",max[0],)\n",
    "print(\"Min:\",min[0],)\n",
    "print(\"Range:\",range[0],\"\\n===============================\")\n",
    "\n",
    "\n",
    "print(\"Variance:\",var[0])\n",
    "print(\"Standard Deviation:\",sd[0],\"\\n===============================\")\n",
    "\n",
    "print(\"Quantiles:\\n\",dt.quantile(q=(0.25,0.50,0.75)),\"\\n===============================\")\n",
    "print(\"IQR:\",iqr[0],\"\\n===============================\")\n",
    "\n",
    "print(\"*******************************************************************************************************************************\\nNote:\\n-----\\nThe 2nd Moment Sum is the Σ(x^2),etc...\\n*******************************************************************************************************************************\")\n"
   ]
  },
  {
   "cell_type": "code",
   "execution_count": 14,
   "id": "e8e387e4",
   "metadata": {},
   "outputs": [
    {
     "name": "stdout",
     "output_type": "stream",
     "text": [
      "Central Tendency Calculations \n",
      "===============================\n",
      "===============================\n",
      "n: 200\n",
      "Sum: -0.0 \n",
      "===============================\n",
      "2 nd - Moment Sum: 200.0\n",
      "3 rd - Moment: Sum 1.97\n",
      "4 th - Moment: Sum 584.22 \n",
      "===============================\n",
      "Mean: -2.4424906541753446e-16\n",
      "Median: -0.0437 \n",
      "===============================\n",
      "Mode:\n",
      "===============================\n",
      "Max: 2.68\n",
      "Min: -2.76\n",
      "Range: 5.44 \n",
      "===============================\n",
      "Variance: 1.0\n",
      "Standard Deviation: 1.0 \n",
      "===============================\n",
      "Quantiles:\n",
      " [-0.62642767 -0.04370426  0.7332603 ] \n",
      "===============================\n",
      "IQR: 1.36 \n",
      "===============================\n",
      "*******************************************************************************************************************************\n",
      "Note:\n",
      "-----\n",
      "The 2nd Moment Sum is the Σ(z^2),etc...\n",
      "*******************************************************************************************************************************\n"
     ]
    }
   ],
   "source": [
    "z = np.array(dt['Days'])\n",
    "z=((np.mean(z)-z)/np.std(z))\n",
    "\n",
    "zsum=z.sum()\n",
    "mlst=np.arange(0, 5, 1)\n",
    "z2=z**2 #2nd Moment of X\n",
    "zsum2=z2.sum()\n",
    "z3=z**3 #3rd Moment of X\n",
    "zsum3=z3.sum()\n",
    "z4=z**4 #4th Moment of X\n",
    "zsum4=z4.sum()\n",
    "\n",
    "zmean=z.mean()\n",
    "zmedian=round(np.median(z),4)\n",
    "ziqr=np.quantile(z,q=0.75)-np.quantile(z,q=0.25)\n",
    "zmax=np.max(z)\n",
    "zmin=np.min(z)\n",
    "zrange=max-min\n",
    "zvar=round(np.var(z),2)\n",
    "zsd=round(np.std(z),2)\n",
    "\n",
    "print(\"Central Tendency Calculations \\n===============================\\n===============================\")\n",
    "\n",
    "print(\"n:\",n)\n",
    "print(\"Sum:\",np.round(zsum,2),\"\\n===============================\")\n",
    "print(mlst[2],\"nd - Moment Sum:\",np.round(zsum2,2))\n",
    "print(mlst[3],\"rd - Moment: Sum\",np.round(zsum3,2))\n",
    "print(mlst[4],\"th - Moment: Sum\",np.round(zsum4,2),\"\\n===============================\")\n",
    "\n",
    "\n",
    "print(\"Mean:\",zmean)\n",
    "print(\"Median:\",np.round(zmedian,4),\"\\n===============================\")\n",
    "print(\"Mode:\\n===============================\"),mode.to_string()\n",
    "print(\"Max:\",np.round(zmax,2),)\n",
    "print(\"Min:\",np.round(zmin,2),)\n",
    "print(\"Range:\",np.round(zmax-zmin,2),\"\\n===============================\")\n",
    "\n",
    "\n",
    "print(\"Variance:\",zvar)\n",
    "print(\"Standard Deviation:\",zsd,\"\\n===============================\")\n",
    "\n",
    "print(\"Quantiles:\\n\",np.quantile(z,q=(0.25,0.50,0.75)),\"\\n===============================\")\n",
    "print(\"IQR:\",np.round(ziqr,2),\"\\n===============================\")\n",
    "\n",
    "print(\"*******************************************************************************************************************************\\nNote:\\n-----\\nThe 2nd Moment Sum is the Σ(z^2),etc...\\n*******************************************************************************************************************************\")\n"
   ]
  },
  {
   "cell_type": "markdown",
   "id": "d6439222",
   "metadata": {},
   "source": [
    "#### Graphs"
   ]
  },
  {
   "cell_type": "code",
   "execution_count": 74,
   "id": "a7522328",
   "metadata": {},
   "outputs": [
    {
     "data": {
      "image/png": "[encoded data removed]",
      "text/plain": [
       "<Figure size 504x720 with 1 Axes>"
      ]
     },
     "metadata": {
      "needs_background": "light"
     },
     "output_type": "display_data"
    },
    {
     "data": {
      "image/png": "[encoded data removed]",
      "text/plain": [
       "<Figure size 504x720 with 1 Axes>"
      ]
     },
     "metadata": {
      "needs_background": "light"
     },
     "output_type": "display_data"
    }
   ],
   "source": [
    "# Boxplot X\n",
    "fig, ax = plt.subplots(figsize=(7,10)) #Setting size of the canvas\n",
    "\n",
    "sns.boxplot(x='variable', y='value', data=pd.melt(dt)).set(\n",
    "            xlabel='', #define the variable's nature\n",
    "            ylabel='Values')\n",
    "# Boxplot Z\n",
    "fig, ax1 = plt.subplots(figsize=(7,10)) #Setting size of the canvas\n",
    "\n",
    "ax1.set_title('z-values')\n",
    "ax1.boxplot(z)\n",
    "plt.show()"
   ]
  },
  {
   "cell_type": "code",
   "execution_count": 154,
   "id": "93e91171",
   "metadata": {},
   "outputs": [
    {
     "data": {
      "image/png": "[encoded data removed]",
      "text/plain": [
       "<Figure size 720x720 with 1 Axes>"
      ]
     },
     "metadata": {
      "needs_background": "light"
     },
     "output_type": "display_data"
    }
   ],
   "source": [
    "mean=dt.mean()\n",
    "median=dt.median()\n",
    "mode=dt.mode()\n",
    "\n",
    "fig, ax = plt.subplots(figsize=(10,10)) #Setting size of the canvas\n",
    "sns.histplot(dt['Days'],stat=\"density\")\n",
    "\n",
    "plt.title(\"Histogram\")\n",
    "\n",
    "\n",
    "\n",
    "plt.axvline(x=mean[0], color=\"red\", label=\"Mean\") \n",
    "plt.axvline(median[0], color=\"lime\", label=\"Median\")\n",
    "#plt.axvline(mode[0],color=\"r\",label=\"Mode1\")\n",
    "#plt.axvline(mode[1],color=\"r\",label=\"Mode2\")\n",
    "plt.legend()\n",
    "plt.show()\n"
   ]
  },
  {
   "cell_type": "code",
   "execution_count": 149,
   "id": "91ae7088",
   "metadata": {},
   "outputs": [
    {
     "data": {
      "image/png": "[encoded data removed]",
      "text/plain": [
       "<Figure size 720x720 with 1 Axes>"
      ]
     },
     "metadata": {
      "needs_background": "light"
     },
     "output_type": "display_data"
    }
   ],
   "source": [
    "\n",
    "fig, ax = plt.subplots(figsize=(10,10)) #Setting size of the canvas\n",
    "sns.histplot(z,stat=\"density\")\n",
    "\n",
    "plt.title(\"Histogram z-values\")\n",
    "\n",
    "\n",
    "\n",
    "plt.axvline(x=zmean, color=\"red\", label=\"Mean\",linewidth=2) \n",
    "plt.axvline(zmedian, color=\"lime\", label=\"Median\",linewidth=2)\n",
    "#plt.axvline(mode[0],color=\"r\",label=\"Mode1\")\n",
    "#plt.axvline(mode[1],color=\"r\",label=\"Mode2\")\n",
    "plt.legend()\n",
    "plt.show()\n"
   ]
  },
  {
   "cell_type": "markdown",
   "id": "4b9defae",
   "metadata": {},
   "source": [
    "#### Statistical Tests for Normality"
   ]
  },
  {
   "cell_type": "code",
   "execution_count": 29,
   "id": "af6e5df5",
   "metadata": {},
   "outputs": [],
   "source": [
    "from scipy.stats import kstest\n",
    "from scipy.stats import shapiro\n",
    "from scipy.stats import normaltest\n",
    "from scipy.stats import anderson\n",
    "from scipy.stats import chisquare\n",
    "from statsmodels.stats.diagnostic import lilliefors\n",
    "from scipy.stats import jarque_bera\n",
    "import statsmodels.api as sm"
   ]
  },
  {
   "cell_type": "code",
   "execution_count": 155,
   "id": "e85c75da",
   "metadata": {},
   "outputs": [
    {
     "name": "stdout",
     "output_type": "stream",
     "text": [
      "Statistical Tests for Normality\n",
      "===============================================================================================================================\n",
      "\t\tShapiro-Wilk\tKolmogorov-Smirnov\tLilliefors\tChi-Square\tD’Agostino’s K-squared\n",
      "===============================================================================================================================\n",
      "Statistic |\t0.9939 \t\t 1.0 \t\t\t 0.05 \t\t [213.96] \t [0.0035]\n",
      "df        |\t200 \t\t 200 \t\t\t 200 \t\t 200 \t\t 200\n",
      "p-value   |\t0.5794 \t\t 0.0 \t\t\t 0.1691 \t [0.2221] \t [0.9983]\n",
      "===============================================================================================================================\n",
      "Result    |\tAccept\t\tReject\t\t\tAccept\t\t Accept\t\t Accept\t\t\n",
      "===============================================================================================================================\n"
     ]
    }
   ],
   "source": [
    "print(\"Statistical Tests for Normality\")\n",
    "print(\"===============================================================================================================================\")\n",
    "print(\"\\t\\tShapiro-Wilk\\tKolmogorov-Smirnov\\tLilliefors\\tChi-Square\\tD’Agostino’s K-squared\")\n",
    "print(\"===============================================================================================================================\")\n",
    "data = dt\n",
    "statistic1,pvalue1 = shapiro(data)\n",
    "statistic2,pvalue2 = kstest(data,'norm')\n",
    "statistic3,pvalue3 = lilliefors(data)\n",
    "statistic4,pvalue4 = chisquare(data)\n",
    "statistic5,pvalue5 = normaltest(data)\n",
    "print('Statistic |\\t%.4f'% statistic1,\"\\t\\t\",statistic2,\"\\t\\t\\t\",np.round(statistic3,2),\"\\t\\t\",np.round(statistic4,2),\"\\t\",np.round(statistic5,4))\n",
    "print('df        |\\t%.1i'% (n),\"\\t\\t\",(n),\"\\t\\t\\t\",(n),\"\\t\\t\",(n),\"\\t\\t\",(n))\n",
    "print('p-value   |\\t%.4f'% (pvalue1),\"\\t\\t\",(pvalue2),\"\\t\\t\\t\",np.round(pvalue3,4),\"\\t\",np.round(pvalue4,4),\"\\t\",np.round(pvalue5,4))\n",
    "print(\"===============================================================================================================================\")\n",
    "print('Result    |\\tAccept\\t\\tReject\\t\\t\\tAccept\\t\\t Accept\\t\\t Accept\\t\\t')\n",
    "print(\"===============================================================================================================================\")\n"
   ]
  },
  {
   "cell_type": "code",
   "execution_count": 35,
   "id": "341ee5fc",
   "metadata": {},
   "outputs": [
    {
     "data": {
      "image/png": "[encoded data removed]",
      "text/plain": [
       "<Figure size 936x360 with 1 Axes>"
      ]
     },
     "metadata": {
      "needs_background": "light"
     },
     "output_type": "display_data"
    }
   ],
   "source": [
    "fig, ax = plt.subplots(figsize=(13,5)) #Setting size of the canvas\n",
    "\n",
    "stats.probplot(z, dist=\"norm\", plot= pylab)\n",
    "pylab.show()"
   ]
  },
  {
   "cell_type": "code",
   "execution_count": 36,
   "id": "6c232a2b",
   "metadata": {},
   "outputs": [
    {
     "data": {
      "image/png": "[encoded data removed]",
      "text/plain": [
       "<Figure size 936x360 with 1 Axes>"
      ]
     },
     "metadata": {
      "needs_background": "light"
     },
     "output_type": "display_data"
    }
   ],
   "source": [
    "from statsmodels.graphics.gofplots import qqplot_2samples\n",
    "mpl.rc(\"figure\", figsize=(13,5))\n",
    "\n",
    "sm.qqplot(z, line='r')\n",
    "pylab.show()"
   ]
  },
  {
   "cell_type": "markdown",
   "id": "5eecb5ce",
   "metadata": {},
   "source": [
    "### Testing Hypothesis"
   ]
  },
  {
   "cell_type": "code",
   "execution_count": 37,
   "id": "683fd65f",
   "metadata": {},
   "outputs": [
    {
     "name": "stdout",
     "output_type": "stream",
     "text": [
      "Test Hypothesis\n",
      "===============================\n",
      "H0: μ = 23\n",
      "H1: μ ≠ 23\n",
      "===============================\n",
      "Sum of X = 4955\n",
      "Mean of X = 24.775\n",
      "Population Mean (Given) =  23\n",
      "Population Standard Deviation (Given) = 5\n",
      "===============================\n",
      "Population Standard Error (using σ) = 0.3536\n",
      "Critical z-statistic = ± 2.58\n",
      "Observed z-statistic = [4.8637]\n",
      "===============================\n",
      "p-value = [0.]\n",
      "===============================\n",
      "Lower Bound =  21.86\n",
      "Upper Bound =  27.69\n",
      "===============================\n",
      "\n"
     ]
    }
   ],
   "source": [
    "mu=23\n",
    "sigma=5\n",
    "print(\"Test Hypothesis\")\n",
    "print('===============================')\n",
    "print(\"H0: μ = 23\\nH1: μ ≠ 23\")\n",
    "print('===============================')\n",
    "print(\"Sum of X =\",sum[0])\n",
    "print(\"Mean of X =\",mean[0])\n",
    "print(\"Population Mean (Given) = \",mu)\n",
    "print(\"Population Standard Deviation (Given) =\", sigma)\n",
    "\n",
    "zobs=wstats.ztest(dt, value=mu)\n",
    "obzstat=np.round(zobs[0],4)\n",
    "pv=np.round(zobs[1],4)\n",
    "print('===============================')\n",
    "print(\"Population Standard Error (using σ) =\",np.round(sigma/sqrt(n),4))\n",
    "print(\"Critical z-statistic = ±\",np.round(norm.ppf(1-(alpha/2)),2))\n",
    "print(\"Observed z-statistic =\", obzstat)\n",
    "print('===============================')\n",
    "\n",
    "LB=np.round(mean[0]-(norm.ppf(1-(alpha/2)*(sigma/sqrt(n)))),2)\n",
    "UB=np.round(mean[0]+(norm.ppf(1-(alpha/2)*(sigma/sqrt(n)))),2)\n",
    "print(\"p-value =\",np.round(zobs[1],4))\n",
    "print('===============================')\n",
    "print(\"Lower Bound = \",np.round(mean[0]-(norm.ppf(1-(alpha/2)*(sigma/sqrt(n)))),2))\n",
    "print(\"Upper Bound = \",np.round(mean[0]+(norm.ppf(1-(alpha/2)*(sigma/sqrt(n)))),2))\n",
    "print('===============================')\n",
    "print()\n",
    "\n"
   ]
  },
  {
   "cell_type": "markdown",
   "id": "d73f4c3c",
   "metadata": {},
   "source": [
    "#### Results"
   ]
  },
  {
   "cell_type": "code",
   "execution_count": 38,
   "id": "a1bed981",
   "metadata": {},
   "outputs": [
    {
     "name": "stdout",
     "output_type": "stream",
     "text": [
      "-----------------------------------------\n",
      ": Results :\n",
      "-----------------------------------------\n",
      "\n",
      "Reject the null hypothesis\n",
      "Accept the alternative.\n",
      "The difference is statistically significant.\n",
      "The sample is not drawn from a population with a mean of 23\n",
      "If we assume this sample to represent the population, we would expect 99.0 % of sample means to fall between:\n",
      "\n",
      "[ 21.86 , 27.69 ]\n",
      "\n",
      "The difference between the sample mean and population mean was small.\n",
      "\n",
      "-----------------------------------------\n",
      "p-Value = [0.] < 0.01 = α\n",
      "-----------------------------------------\n"
     ]
    }
   ],
   "source": [
    "print(\"-----------------------------------------\")\n",
    "print(\": Results :\")\n",
    "if(pv < alpha ):\n",
    "    print(\"-----------------------------------------\")\n",
    "    print()\n",
    "    print(\"Reject the null hypothesis\")\n",
    "    print(\"Accept the alternative.\") \n",
    "    print(\"The difference is statistically significant.\") \n",
    "    print(\"The sample is not drawn from a population with a mean of\",mu)\n",
    "    print(\"If we assume this sample to represent the population, we would expect\",100*(1-alpha),\"% of sample means to fall between:\\n\")    \n",
    "    print(\"[\",LB,\",\",UB,\"]\\n\")\n",
    "    print(\"The difference between the sample mean and population mean was small.\")\n",
    "    print()  \n",
    "    print(\"-----------------------------------------\")\n",
    "    print(\"p-Value =\",pv, \"<\" , alpha , \"= α\")\n",
    "    print(\"-----------------------------------------\")\n",
    "else:\n",
    "    print(\"-----------------------------------------\")\n",
    "    print(\"Reject the null hypothesis\")\n",
    "    print(\"Remain the null.\") \n",
    "    print(\"The difference is statistically NOT statistically significant.\") \n",
    "    print(\"The sample is drawn from a population with a mean higher or equal to\",mu)\n",
    "    print(\"If we assume this sample to represent the population, we would expect\",100*(1-alpha),\"% of sample means to fall between:\\n\")    \n",
    "    print(\"[\",LB,\",\",UB,\"]\\n\")\n",
    "\n",
    "    \n",
    "    print(\"-----------------------------------------\")\n",
    "    print(\"p-Value =\",pv, \">\" , alpha , \"= α\")\n",
    "    print(\"-----------------------------------------\")"
   ]
  },
  {
   "cell_type": "code",
   "execution_count": null,
   "id": "187b520e",
   "metadata": {},
   "outputs": [],
   "source": []
  }
 ],
 "metadata": {
  "kernelspec": {
   "display_name": "Python 3 (ipykernel)",
   "language": "python",
   "name": "python3"
  },
  "language_info": {
   "codemirror_mode": {
    "name": "ipython",
    "version": 3
   },
   "file_extension": ".py",
   "mimetype": "text/x-python",
   "name": "python",
   "nbconvert_exporter": "python",
   "pygments_lexer": "ipython3",
   "version": "3.9.12"
  }
 },
 "nbformat": 4,
 "nbformat_minor": 5
}
