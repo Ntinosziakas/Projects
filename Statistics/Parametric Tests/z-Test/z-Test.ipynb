{
 "cells": [
  {
   "cell_type": "markdown",
   "id": "d94ee080",
   "metadata": {},
   "source": [
    "# Two-Samples Independent T-Test"
   ]
  },
  {
   "cell_type": "code",
   "execution_count": 1116,
   "id": "06a02871",
   "metadata": {},
   "outputs": [],
   "source": [
    "import numpy as np\n",
    "import pandas as pd\n",
    "import scipy.stats as stats\n",
    "import matplotlib.pyplot as plt\n",
    "import math as mt\n",
    "import seaborn as sns\n",
    "import statistics as st\n",
    "import pylab\n",
    "import sklearn as sk\n",
    "import matplotlib as mpl\n",
    "import statsmodels.stats.weightstats as wstats\n",
    "from scipy.stats import sem\n",
    "from math import sqrt \n",
    "from scipy.stats import norm\n",
    "from sklearn import preprocessing\n",
    "from statsmodels.stats.weightstats import ztest"
   ]
  },
  {
   "cell_type": "markdown",
   "id": "9fa0be06",
   "metadata": {},
   "source": [
    "## The Story"
   ]
  },
  {
   "cell_type": "code",
   "execution_count": 1117,
   "id": "ca11ff8d",
   "metadata": {},
   "outputs": [
    {
     "name": "stdout",
     "output_type": "stream",
     "text": [
      "In the population, we'd expect Days to have a mean of 23 and standard deviation of 5, but you want to know if your sample comes from a different population.\n"
     ]
    }
   ],
   "source": [
    "print(\"In the population, we'd expect Days to have a mean of 23 and standard deviation of 5, but you want to know if your sample comes from a different population.\")"
   ]
  },
  {
   "cell_type": "markdown",
   "id": "7f50021c",
   "metadata": {},
   "source": [
    "### Question"
   ]
  },
  {
   "cell_type": "code",
   "execution_count": 1118,
   "id": "699aeb88",
   "metadata": {},
   "outputs": [
    {
     "name": "stdout",
     "output_type": "stream",
     "text": [
      "Does our sample come from a population with a mean equal to 23, assuming a population standard deviation of 5?\n"
     ]
    }
   ],
   "source": [
    "print(\"Does our sample come from a population with a mean equal to 23, assuming a population standard deviation of 5?\")"
   ]
  },
  {
   "cell_type": "markdown",
   "id": "4f91c634",
   "metadata": {},
   "source": [
    "### Answer"
   ]
  },
  {
   "cell_type": "code",
   "execution_count": 1119,
   "id": "653c9fdc",
   "metadata": {},
   "outputs": [],
   "source": [
    "dt = pd.read_csv('z_test.csv',dtype=int)"
   ]
  },
  {
   "cell_type": "markdown",
   "id": "f2741d1a",
   "metadata": {},
   "source": [
    "#### Descriptive Statistics"
   ]
  },
  {
   "cell_type": "code",
   "execution_count": 1120,
   "id": "fbe971d3",
   "metadata": {},
   "outputs": [
    {
     "name": "stdout",
     "output_type": "stream",
     "text": [
      "Central Tendency Calculations \n",
      "===============================\n",
      "===============================\n",
      "n: 50\n",
      "Sum: 1262 \n",
      "===============================\n",
      "2 nd - Moment Sum: 33136\n",
      "3 rd - Moment: Sum 900398\n",
      "4 th - Moment: Sum 25209544 \n",
      "===============================\n",
      "Mean: 25.24\n",
      "Median: 25.0 \n",
      "===============================\n",
      "Mode:\n",
      "===============================\n",
      "Max: 35\n",
      "Min: 13\n",
      "Range: 22 \n",
      "===============================\n",
      "Variance: 26.19\n",
      "Standard Deviation: 5.12 \n",
      "===============================\n",
      "Quantiles:\n",
      "       Days\n",
      "0.25  22.0\n",
      "0.50  25.0\n",
      "0.75  29.0 \n",
      "===============================\n",
      "IQR: 7.0 \n",
      "===============================\n",
      "*******************************************************************************************************************************\n",
      "Note:\n",
      "-----\n",
      "The 2nd Moment Sum is the Σ(x^2),etc...\n",
      "*******************************************************************************************************************************\n"
     ]
    }
   ],
   "source": [
    "n=len(dt)\n",
    "sum=dt.sum()\n",
    "\n",
    "mlst=np.arange(0, 5, 1)\n",
    "dt2=dt**2 #2nd Moment of X\n",
    "sum2=dt2.sum()\n",
    "dt3=dt**3 #3rd Moment of X\n",
    "sum3=dt3.sum()\n",
    "dt4=dt**4 #4th Moment of X\n",
    "sum4=dt4.sum()\n",
    "\n",
    "mean=dt.mean()\n",
    "median=dt.median()\n",
    "mode=dt.mode()\n",
    "iqr=dt.quantile(0.75)-dt.quantile(0.25)\n",
    "max=dt.max()\n",
    "min=dt.min()\n",
    "range=max-min\n",
    "var=round(dt.var(),2)\n",
    "sd=round(dt.std(),2)\n",
    "\n",
    "print(\"Central Tendency Calculations \\n===============================\\n===============================\")\n",
    "\n",
    "print(\"n:\",n)\n",
    "print(\"Sum:\",sum[0],\"\\n===============================\")\n",
    "print(mlst[2],\"nd - Moment Sum:\",sum2[0])\n",
    "print(mlst[3],\"rd - Moment: Sum\",sum3[0])\n",
    "print(mlst[4],\"th - Moment: Sum\",sum4[0],\"\\n===============================\")\n",
    "\n",
    "\n",
    "print(\"Mean:\",mean[0])\n",
    "print(\"Median:\",median[0],\"\\n===============================\")\n",
    "print(\"Mode:\\n===============================\"),mode.to_string()\n",
    "print(\"Max:\",max[0],)\n",
    "print(\"Min:\",min[0],)\n",
    "print(\"Range:\",range[0],\"\\n===============================\")\n",
    "\n",
    "\n",
    "print(\"Variance:\",var[0])\n",
    "print(\"Standard Deviation:\",sd[0],\"\\n===============================\")\n",
    "\n",
    "print(\"Quantiles:\\n\",dt.quantile(q=(0.25,0.50,0.75)),\"\\n===============================\")\n",
    "print(\"IQR:\",iqr[0],\"\\n===============================\")\n",
    "\n",
    "print(\"*******************************************************************************************************************************\\nNote:\\n-----\\nThe 2nd Moment Sum is the Σ(x^2),etc...\\n*******************************************************************************************************************************\")\n"
   ]
  },
  {
   "cell_type": "code",
   "execution_count": 1121,
   "id": "85779511",
   "metadata": {},
   "outputs": [
    {
     "name": "stdout",
     "output_type": "stream",
     "text": [
      "Central Tendency Calculations \n",
      "===============================\n",
      "===============================\n",
      "n: 50\n",
      "Sum: -0.0 \n",
      "===============================\n",
      "2 nd - Moment Sum: 50.0\n",
      "3 rd - Moment: Sum 5.59\n",
      "4 th - Moment: Sum 130.96 \n",
      "===============================\n",
      "Mean: -3.11972669919669e-16\n",
      "Median: 0.0474 \n",
      "===============================\n",
      "Mode:\n",
      "===============================\n",
      "Max: 2.42\n",
      "Min: -1.93\n",
      "Range: 4.34 \n",
      "===============================\n",
      "Variance: 1.0\n",
      "Standard Deviation: 1.0 \n",
      "===============================\n",
      "Quantiles:\n",
      " [-1.72924079 -1.72924079 -1.33443696 -0.74223121  0.04737646  0.63958221\n",
      "  1.23178796  1.73516285  1.97698019] \n",
      "===============================\n",
      "IQR: 1.38 \n",
      "===============================\n",
      "*******************************************************************************************************************************\n",
      "Note:\n",
      "-----\n",
      "The 2nd Moment Sum is the Σ(z^2),etc...\n",
      "*******************************************************************************************************************************\n"
     ]
    }
   ],
   "source": [
    "z = np.array(dt['Days'])\n",
    "z=((np.mean(z)-z)/np.std(z))\n",
    "\n",
    "zsum=z.sum()\n",
    "mlst=np.arange(0, 5, 1)\n",
    "z2=z**2 #2nd Moment of X\n",
    "zsum2=z2.sum()\n",
    "z3=z**3 #3rd Moment of X\n",
    "zsum3=z3.sum()\n",
    "z4=z**4 #4th Moment of X\n",
    "zsum4=z4.sum()\n",
    "\n",
    "zmean=z.mean()\n",
    "zmedian=round(np.median(z),4)\n",
    "ziqr=np.quantile(z,q=0.75)-np.quantile(z,q=0.25)\n",
    "zmax=np.max(z)\n",
    "zmin=np.min(z)\n",
    "zrange=max-min\n",
    "zvar=round(np.var(z),2)\n",
    "zsd=round(np.std(z),2)\n",
    "\n",
    "print(\"Central Tendency Calculations \\n===============================\\n===============================\")\n",
    "\n",
    "print(\"n:\",n)\n",
    "print(\"Sum:\",np.round(zsum,2),\"\\n===============================\")\n",
    "print(mlst[2],\"nd - Moment Sum:\",np.round(zsum2,2))\n",
    "print(mlst[3],\"rd - Moment: Sum\",np.round(zsum3,2))\n",
    "print(mlst[4],\"th - Moment: Sum\",np.round(zsum4,2),\"\\n===============================\")\n",
    "\n",
    "\n",
    "print(\"Mean:\",zmean)\n",
    "print(\"Median:\",np.round(zmedian,4),\"\\n===============================\")\n",
    "print(\"Mode:\\n===============================\"),mode.to_string()\n",
    "print(\"Max:\",np.round(zmax,2),)\n",
    "print(\"Min:\",np.round(zmin,2),)\n",
    "print(\"Range:\",np.round(zmax-zmin,2),\"\\n===============================\")\n",
    "\n",
    "\n",
    "print(\"Variance:\",zvar)\n",
    "print(\"Standard Deviation:\",zsd,\"\\n===============================\")\n",
    "\n",
    "print(\"Quantiles:\\n\",np.quantile(z,q=(0.025,0.05,0.1,0.25,0.50,0.75,0.90,0.95,0.975)),\"\\n===============================\")\n",
    "print(\"IQR:\",np.round(ziqr,2),\"\\n===============================\")\n",
    "\n",
    "print(\"*******************************************************************************************************************************\\nNote:\\n-----\\nThe 2nd Moment Sum is the Σ(z^2),etc...\\n*******************************************************************************************************************************\")\n"
   ]
  },
  {
   "cell_type": "markdown",
   "id": "d6439222",
   "metadata": {},
   "source": [
    "#### Graphs"
   ]
  },
  {
   "cell_type": "code",
   "execution_count": 1122,
   "id": "a7522328",
   "metadata": {},
   "outputs": [
    {
     "data": {
      "image/png": "[encoded data removed]",
      "text/plain": [
       "<Figure size 504x720 with 1 Axes>"
      ]
     },
     "metadata": {},
     "output_type": "display_data"
    },
    {
     "data": {
      "image/png": "[encoded data removed]",
      "text/plain": [
       "<Figure size 504x720 with 1 Axes>"
      ]
     },
     "metadata": {},
     "output_type": "display_data"
    }
   ],
   "source": [
    "# Boxplot X\n",
    "fig, ax = plt.subplots(figsize=(7,10)) #Setting size of the canvas\n",
    "\n",
    "sns.boxplot(x='variable', y='value', data=pd.melt(dt)).set(\n",
    "            xlabel='', #define the variable's nature\n",
    "            ylabel='Values')\n",
    "# Boxplot Z\n",
    "fig, ax1 = plt.subplots(figsize=(7,10)) #Setting size of the canvas\n",
    "\n",
    "ax1.set_title('z-values')\n",
    "ax1.boxplot(z)\n",
    "plt.show()"
   ]
  },
  {
   "cell_type": "code",
   "execution_count": 1123,
   "id": "dcc0b2d1",
   "metadata": {},
   "outputs": [
    {
     "data": {
      "image/png": "[encoded data removed]",
      "text/plain": [
       "<Figure size 864x576 with 1 Axes>"
      ]
     },
     "metadata": {},
     "output_type": "display_data"
    }
   ],
   "source": [
    "mean=dt.mean()\n",
    "median=dt.median()\n",
    "mode=dt.mode()\n",
    "\n",
    "fig, ax = plt.subplots(figsize=(12,8)) #Setting size of the canvas\n",
    "sns.histplot(dt)\n",
    "\n",
    "plt.title(\"Histogram\")\n",
    "\n",
    "\n",
    "\n",
    "plt.axvline(x=mean[0], color=\"red\", label=\"Mean\") \n",
    "plt.axvline(median[0], color=\"g\", label=\"Median\")\n",
    "#plt.axvline(mode[0],color=\"r\",label=\"Mode1\")\n",
    "#plt.axvline(mode[1],color=\"r\",label=\"Mode2\")\n",
    "\n",
    "plt.legend()\n",
    "plt.show()"
   ]
  },
  {
   "cell_type": "code",
   "execution_count": 1124,
   "id": "576e8b37",
   "metadata": {},
   "outputs": [
    {
     "name": "stdout",
     "output_type": "stream",
     "text": [
      "Regression Line: y = f(x) = -0.4824 x + 36.6762\n"
     ]
    },
    {
     "data": {
      "image/png": "[encoded data removed]",
      "text/plain": [
       "<Figure size 1080x360 with 1 Axes>"
      ]
     },
     "metadata": {},
     "output_type": "display_data"
    }
   ],
   "source": [
    "x=dt['Days']\n",
    "lst=np.arange(0, lst.max()+1, 1)\n",
    "fig, ax = plt.subplots(figsize=(15,5)) #Setting size of the canvas\n",
    "\n",
    "plt.scatter(x, lst, color=\"r\") \n",
    "#obtain m (slope) and b(intercept) of linear regression line\n",
    "m, b = np.polyfit(x, lst, 1)\n",
    "print(\"Regression Line: y = f(x) =\",np.round(m,4),\"x +\",np.round(b,4))\n",
    "\n",
    "#add linear regression line to scatterplot \n",
    "plt.plot(x, m*x+b)\n",
    "plt.show()"
   ]
  },
  {
   "cell_type": "code",
   "execution_count": 1125,
   "id": "4ee9113a",
   "metadata": {},
   "outputs": [
    {
     "data": {
      "image/png": "[encoded data removed]",
      "text/plain": [
       "<Figure size 1080x360 with 1 Axes>"
      ]
     },
     "metadata": {},
     "output_type": "display_data"
    }
   ],
   "source": [
    "fig, ax = plt.subplots(figsize=(15,5)) #Setting size of the canvas\n",
    "ax = sns.regplot(x=x, y=lst, data=x, color=\"g\")"
   ]
  },
  {
   "cell_type": "markdown",
   "id": "4b9defae",
   "metadata": {},
   "source": [
    "#### Statistical Tests for Normality"
   ]
  },
  {
   "cell_type": "code",
   "execution_count": 1126,
   "id": "af6e5df5",
   "metadata": {},
   "outputs": [],
   "source": [
    "from scipy.stats import kstest\n",
    "from scipy.stats import shapiro\n",
    "from scipy.stats import normaltest\n",
    "from scipy.stats import anderson\n",
    "from scipy.stats import chisquare\n",
    "from statsmodels.stats.diagnostic import lilliefors\n",
    "from scipy.stats import jarque_bera\n",
    "import statsmodels.api as sm"
   ]
  },
  {
   "cell_type": "code",
   "execution_count": 1127,
   "id": "396590d0",
   "metadata": {},
   "outputs": [
    {
     "name": "stdout",
     "output_type": "stream",
     "text": [
      "Statistical Tests for Normality\n",
      "===============================\n",
      "Shapiro-Wilk Test\n",
      "===============================\n",
      "Statistic = 0.9759\n",
      "df = 50\n",
      "p-value = 0.3956\n",
      "===============================\n",
      "Result :\n",
      "===============================\n",
      "Shapiro-Wilk Test showed that:\n",
      "The data is following the Normal distribution with 95.0 % probability\n",
      "===============================\n"
     ]
    }
   ],
   "source": [
    "print(\"Statistical Tests for Normality\")\n",
    "print(\"===============================\")\n",
    "print(\"Shapiro-Wilk Test\")\n",
    "print(\"===============================\")\n",
    "data = dt\n",
    "statistic,pvalue = shapiro(data)\n",
    "print('Statistic = %.4f'% (statistic))\n",
    "print('df = %.1i'% (n))\n",
    "print('p-value = %.4f'% (pvalue))\n",
    "print(\"===============================\")\n",
    "print('Result :')\n",
    "print(\"===============================\")\n",
    "if pvalue < alpha :\n",
    "    print(\"Shapiro-Wilk Test showed that:\\nThe data significantly deviate from a normal distribution\")\n",
    "    print(\"===============================\")\n",
    "else :\n",
    "    print(\"Shapiro-Wilk Test showed that:\\nThe data is following the Normal distribution with\",100*(1-alpha),\"% probability\")\n",
    "    print(\"===============================\")"
   ]
  },
  {
   "cell_type": "code",
   "execution_count": 1128,
   "id": "2030730c",
   "metadata": {},
   "outputs": [
    {
     "name": "stdout",
     "output_type": "stream",
     "text": [
      "Kolmogorov-Smirnov Test\n",
      "===============================\n",
      "Statistic = 1.0000\n",
      "df = 50\n",
      "p-value = 0.0000\n",
      "===============================\n",
      "Result :\n",
      "===============================\n",
      "Kolmogorov-Smirnov Test showed that:\n",
      "The data significantly deviate from a normal distribution\n",
      "===============================\n"
     ]
    }
   ],
   "source": [
    "#Kolmogorov-Smirnov Test\n",
    "print(\"Kolmogorov-Smirnov Test\")\n",
    "print(\"===============================\")\n",
    "data = dt\n",
    "statistic,pvalue = kstest(data,'norm')\n",
    "print('Statistic = %.4f'% (statistic))\n",
    "print('df = %.1i'% (n))\n",
    "print('p-value = %.4f'% (pvalue))\n",
    "print(\"===============================\")\n",
    "print('Result :')\n",
    "print(\"===============================\")\n",
    "if pvalue < alpha :\n",
    "    print(\"Kolmogorov-Smirnov Test showed that:\\nThe data significantly deviate from a normal distribution\")\n",
    "    print(\"===============================\")\n",
    "else :\n",
    "    print(\"Kolmogorov-Smirnov Test showed that:\\nThe data is following the Normal distribution with\",100*(1-alpha),\"% probability\")\n",
    "    print(\"===============================\")"
   ]
  },
  {
   "cell_type": "code",
   "execution_count": 1129,
   "id": "505b89e7",
   "metadata": {},
   "outputs": [
    {
     "name": "stdout",
     "output_type": "stream",
     "text": [
      "D’Agostino’s K-squared Test\n",
      "===============================\n",
      "Statistic = 0.2252\n",
      "df = 50\n",
      "p-value = 0.8935\n",
      "===============================\n",
      "Result :\n",
      "===============================\n",
      "D’Agostino’s K-squared Test showed that:\n",
      "The data is following the Normal distribution with 95.0 % probability\n",
      "===============================\n"
     ]
    }
   ],
   "source": [
    "#D’Agostino’s K-squared Test\n",
    "print(\"D’Agostino’s K-squared Test\")\n",
    "print(\"===============================\")\n",
    "data = dt\n",
    "statistic,pvalue = normaltest(data)\n",
    "print('Statistic = %.4f'% (statistic))\n",
    "print('df = %.1i'% (n))\n",
    "print('p-value = %.4f'% (pvalue))\n",
    "print(\"===============================\")\n",
    "print('Result :')\n",
    "print(\"===============================\")\n",
    "if pvalue < alpha :\n",
    "    print(\"D’Agostino’s K-squared Test showed that:\\nThe data significantly deviate from a normal distribution\")\n",
    "    print(\"===============================\")\n",
    "else :\n",
    "    print(\"D’Agostino’s K-squared Test showed that:\\nThe data is following the Normal distribution with\",100*(1-alpha),\"% probability\")\n",
    "    print(\"===============================\")"
   ]
  },
  {
   "cell_type": "code",
   "execution_count": 1130,
   "id": "c778437f",
   "metadata": {},
   "outputs": [
    {
     "name": "stdout",
     "output_type": "stream",
     "text": [
      "Chi-Square Test\n",
      "===============================\n",
      "Statistic = 50.8368\n",
      "df = 50\n",
      "p-value = 0.4011\n",
      "===============================\n",
      "Result :\n",
      "===============================\n",
      "Chi-Square Test showed that:\n",
      "The data is following the Normal distribution with 95.0 % probability\n",
      "===============================\n"
     ]
    }
   ],
   "source": [
    "#Chi-Square Test\n",
    "print(\"Chi-Square Test\")\n",
    "print(\"===============================\")\n",
    "data = dt\n",
    "statistic,pvalue = chisquare(data)\n",
    "print('Statistic = %.4f'% (statistic))\n",
    "print('df = %.1i'% (n))\n",
    "print('p-value = %.4f'% (pvalue))\n",
    "print(\"===============================\")\n",
    "print('Result :')\n",
    "print(\"===============================\")\n",
    "if pvalue < alpha :\n",
    "    print(\"Chi-Square Test showed that:\\nThe data significantly deviate from a normal distribution\")\n",
    "    print(\"===============================\")\n",
    "else :\n",
    "    print(\"Chi-Square Test showed that:\\nThe data is following the Normal distribution with\",100*(1-alpha),\"% probability\")\n",
    "    print(\"===============================\")"
   ]
  },
  {
   "cell_type": "code",
   "execution_count": 1131,
   "id": "4b18da25",
   "metadata": {},
   "outputs": [
    {
     "name": "stdout",
     "output_type": "stream",
     "text": [
      "Lilliefors Test\n",
      "===============================\n",
      "Statistic = 0.1292\n",
      "df = 50\n",
      "p-value = 0.0372\n",
      "===============================\n",
      "Result :\n",
      "===============================\n",
      "Lilliefors Test showed that:\n",
      "The data significantly deviate from a normal distribution\n",
      "===============================\n"
     ]
    }
   ],
   "source": [
    "#Lilliefors Test\n",
    "print(\"Lilliefors Test\")\n",
    "print(\"===============================\")\n",
    "data = dt\n",
    "statistic,pvalue = lilliefors(data)\n",
    "print('Statistic = %.4f'% (statistic))\n",
    "print('df = %.1i'% (n))\n",
    "print('p-value = %.4f'% (pvalue))\n",
    "print(\"===============================\")\n",
    "print('Result :')\n",
    "print(\"===============================\")\n",
    "if pvalue < alpha :\n",
    "    print(\"Lilliefors Test showed that:\\nThe data significantly deviate from a normal distribution\")\n",
    "    print(\"===============================\")\n",
    "else :\n",
    "    print(\"Lilliefors Test showed that:\\nThe data is following the Normal distribution with\",100*(1-alpha),\"% probability\")\n",
    "    print(\"===============================\")"
   ]
  },
  {
   "cell_type": "code",
   "execution_count": 1132,
   "id": "1a8c49aa",
   "metadata": {},
   "outputs": [
    {
     "data": {
      "image/png": "[encoded data removed]",
      "text/plain": [
       "<Figure size 936x360 with 1 Axes>"
      ]
     },
     "metadata": {},
     "output_type": "display_data"
    }
   ],
   "source": [
    "fig, ax = plt.subplots(figsize=(13,5)) #Setting size of the canvas\n",
    "\n",
    "stats.probplot(z, dist=\"norm\", plot= pylab)\n",
    "pylab.show()"
   ]
  },
  {
   "cell_type": "code",
   "execution_count": 1133,
   "id": "65f8d07e",
   "metadata": {},
   "outputs": [
    {
     "data": {
      "image/png": "[encoded data removed]",
      "text/plain": [
       "<Figure size 936x360 with 1 Axes>"
      ]
     },
     "metadata": {},
     "output_type": "display_data"
    }
   ],
   "source": [
    "from statsmodels.graphics.gofplots import qqplot_2samples\n",
    "mpl.rc(\"figure\", figsize=(13,5))\n",
    "\n",
    "sm.qqplot(z, line='r')\n",
    "pylab.show()"
   ]
  },
  {
   "cell_type": "markdown",
   "id": "6fd87ee8",
   "metadata": {},
   "source": [
    "### Testing Hypothesis"
   ]
  },
  {
   "cell_type": "code",
   "execution_count": 1134,
   "id": "e030cd86",
   "metadata": {},
   "outputs": [
    {
     "name": "stdout",
     "output_type": "stream",
     "text": [
      "Test Hypothesis\n",
      "===============================\n",
      "H0: μ = 23\n",
      "H1: μ ≠ 23\n",
      "===============================\n",
      "Sum of X = 1262\n",
      "Mean of X = 25.24\n",
      "Population Mean (Given) =  23\n",
      "Population Standard Deviation (Given) = 5\n",
      "===============================\n",
      "Population Standard Error (using σ) = 0.7071\n",
      "Critical z-statistic = ± 1.96\n",
      "Observed z-statistic = [3.0953]\n",
      "===============================\n",
      "p-value = [0.002]\n",
      "===============================\n",
      "Lower Bound =  23.14\n",
      "Upper Bound =  27.34\n",
      "===============================\n",
      "\n"
     ]
    }
   ],
   "source": [
    "mu=23\n",
    "sigma=5\n",
    "print(\"Test Hypothesis\")\n",
    "print('===============================')\n",
    "print(\"H0: μ = 23\\nH1: μ ≠ 23\")\n",
    "print('===============================')\n",
    "print(\"Sum of X =\",sum[0])\n",
    "print(\"Mean of X =\",mean[0])\n",
    "print(\"Population Mean (Given) = \",mu)\n",
    "print(\"Population Standard Deviation (Given) =\", sigma)\n",
    "\n",
    "zobs=wstats.ztest(dt, value=mu)\n",
    "obzstat=np.round(zobs[0],4)\n",
    "pv=np.round(zobs[1],4)\n",
    "print('===============================')\n",
    "print(\"Population Standard Error (using σ) =\",np.round(sigma/sqrt(n),4))\n",
    "print(\"Critical z-statistic = ±\",np.round(norm.ppf(1-(alpha/2)),2))\n",
    "print(\"Observed z-statistic =\", obzstat)\n",
    "print('===============================')\n",
    "\n",
    "LB=np.round(mean[0]-(norm.ppf(1-(alpha/2)*(sigma/sqrt(n)))),2)\n",
    "UB=np.round(mean[0]+(norm.ppf(1-(alpha/2)*(sigma/sqrt(n)))),2)\n",
    "print(\"p-value =\",np.round(zobs[1],4))\n",
    "print('===============================')\n",
    "print(\"Lower Bound = \",np.round(mean[0]-(norm.ppf(1-(alpha/2)*(sigma/sqrt(n)))),2))\n",
    "print(\"Upper Bound = \",np.round(mean[0]+(norm.ppf(1-(alpha/2)*(sigma/sqrt(n)))),2))\n",
    "print('===============================')\n",
    "print()\n",
    "\n"
   ]
  },
  {
   "cell_type": "markdown",
   "id": "d73f4c3c",
   "metadata": {},
   "source": [
    "#### Results"
   ]
  },
  {
   "cell_type": "code",
   "execution_count": 1135,
   "id": "a1bed981",
   "metadata": {},
   "outputs": [
    {
     "name": "stdout",
     "output_type": "stream",
     "text": [
      "-----------------------------------------\n",
      ": Results :\n",
      "-----------------------------------------\n",
      "\n",
      "Reject the null hypothesis\n",
      "Accept the alternative.\n",
      "The difference is statistically significant.\n",
      "The sample is not drawn from a population with a mean of 23\n",
      "If we assume this sample to represent the population, we would expect 95.0 % of sample means to fall between:\n",
      "\n",
      "[ 23.14 , 27.34 ]\n",
      "\n",
      "The difference between the sample mean and population mean was small.\n",
      "\n",
      "-----------------------------------------\n",
      "p-Value = [0.002] < 0.05 = α\n",
      "-----------------------------------------\n"
     ]
    }
   ],
   "source": [
    "print(\"-----------------------------------------\")\n",
    "print(\": Results :\")\n",
    "if(pv < alpha ):\n",
    "    print(\"-----------------------------------------\")\n",
    "    print()\n",
    "    print(\"Reject the null hypothesis\")\n",
    "    print(\"Accept the alternative.\") \n",
    "    print(\"The difference is statistically significant.\") \n",
    "    print(\"The sample is not drawn from a population with a mean of\",mu)\n",
    "    print(\"If we assume this sample to represent the population, we would expect\",100*(1-alpha),\"% of sample means to fall between:\\n\")    \n",
    "    print(\"[\",LB,\",\",UB,\"]\\n\")\n",
    "    print(\"The difference between the sample mean and population mean was small.\")\n",
    "    print()  \n",
    "    print(\"-----------------------------------------\")\n",
    "    print(\"p-Value =\",pv, \"<\" , alpha , \"= α\")\n",
    "    print(\"-----------------------------------------\")\n",
    "else:\n",
    "    print(\"-----------------------------------------\")\n",
    "    print(\"Reject the null hypothesis\")\n",
    "    print(\"Remain the null.\") \n",
    "    print(\"The difference is statistically NOT significant.\") \n",
    "    \n",
    "    print(\"-----------------------------------------\")\n",
    "    print(\"p-Value =\",pv, \">\" , alpha , \"= α\")\n",
    "    print(\"-----------------------------------------\")"
   ]
  }
 ],
 "metadata": {
  "kernelspec": {
   "display_name": "Python 3 (ipykernel)",
   "language": "python",
   "name": "python3"
  },
  "language_info": {
   "codemirror_mode": {
    "name": "ipython",
    "version": 3
   },
   "file_extension": ".py",
   "mimetype": "text/x-python",
   "name": "python",
   "nbconvert_exporter": "python",
   "pygments_lexer": "ipython3",
   "version": "3.9.12"
  }
 },
 "nbformat": 4,
 "nbformat_minor": 5
}
