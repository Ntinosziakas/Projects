{
 "cells": [
  {
   "cell_type": "markdown",
   "id": "d94ee080",
   "metadata": {},
   "source": [
    "# Chi Square"
   ]
  },
  {
   "cell_type": "code",
   "execution_count": 1,
   "id": "06a02871",
   "metadata": {},
   "outputs": [],
   "source": [
    "import numpy as np\n",
    "import pandas as pd\n",
    "import scipy.stats as stats\n",
    "import matplotlib.pyplot as plt\n",
    "import math as mt\n",
    "import statistics as st\n",
    "import matplotlib as mpl\n",
    "from scipy.stats import sem\n",
    "from math import sqrt "
   ]
  },
  {
   "cell_type": "markdown",
   "id": "9fa0be06",
   "metadata": {},
   "source": [
    "## The Story"
   ]
  },
  {
   "cell_type": "code",
   "execution_count": 2,
   "id": "ca11ff8d",
   "metadata": {},
   "outputs": [
    {
     "name": "stdout",
     "output_type": "stream",
     "text": [
      "You run a small business with four employees: Susan, Jimmy, Albert, and Camilla. Because you need three employees at work at any given time, only one employee ever has the day off. Unfortunately, everyone always wants Saturday off. One of your employees has confronted you and said that you favor some employees over others in providing Saturdays off. To investigate this, you pulled up a list of who has recently had Saturdays off each week.\n"
     ]
    }
   ],
   "source": [
    "print(\"You run a small business with four employees: Susan, Jimmy, Albert, and Camilla. Because you need three employees at work at any given time, only one employee ever has the day off. Unfortunately, everyone always wants Saturday off. One of your employees has confronted you and said that you favor some employees over others in providing Saturdays off. To investigate this, you pulled up a list of who has recently had Saturdays off each week.\")"
   ]
  },
  {
   "cell_type": "markdown",
   "id": "7f50021c",
   "metadata": {},
   "source": [
    "### Question"
   ]
  },
  {
   "cell_type": "code",
   "execution_count": 3,
   "id": "699aeb88",
   "metadata": {},
   "outputs": [
    {
     "name": "stdout",
     "output_type": "stream",
     "text": [
      "Do you favor some employees when assigning Saturdays off?\n"
     ]
    }
   ],
   "source": [
    "print(\"Do you favor some employees when assigning Saturdays off?\")"
   ]
  },
  {
   "cell_type": "markdown",
   "id": "4f91c634",
   "metadata": {},
   "source": [
    "### Answer"
   ]
  },
  {
   "cell_type": "code",
   "execution_count": 4,
   "id": "653c9fdc",
   "metadata": {},
   "outputs": [
    {
     "name": "stdout",
     "output_type": "stream",
     "text": [
      "Enter sample size :\n",
      "Type a number between 1 and 13\n",
      "1.\tn=2\n",
      "2.\tn=3\n",
      "3.\tn=4\n",
      "4.\tn=5\n",
      "5.\tn=10\n",
      "6.\tn=20\n",
      "7.\tn=30\n",
      "8.\tn=40\n",
      "9.\tn=50\n",
      "10.\tn=100\n",
      "11.\tn=150\n",
      "12.\tn=200\n",
      "13.\tn=250\n",
      "\n",
      "10\n",
      "Sample Size= 100\n",
      "\n",
      "Enter Statistical Significance :\n",
      "Type a number between 0 and 1, but not 0 nor 1\n",
      "0.1\n",
      "α =  0.1\n",
      "Statistical Significance: 0.1\n"
     ]
    }
   ],
   "source": [
    "#Sample Size\n",
    "\n",
    "n=1\n",
    "while (n <= 13 and n > 0) :\n",
    "    n = int(input (\"Enter sample size :\\nType a number between 1 and 13\\n1.\\tn=2\\n2.\\tn=3\\n3.\\tn=4\\n4.\\tn=5\\n5.\\tn=10\\n6.\\tn=20\\n7.\\tn=30\\n8.\\tn=40\\n9.\\tn=50\\n10.\\tn=100\\n11.\\tn=150\\n12.\\tn=200\\n13.\\tn=250\\n\\n\"))\n",
    "    if n <= 13 and n > 0 :\n",
    "        if n==1 :\n",
    "            dt = pd.read_csv('Chi Square n=2.csv',dtype=str, sep = \"\\t\", encoding='latin')\n",
    "            n=2\n",
    "            print(\"Sample Size=\",n)\n",
    "        elif n==2:\n",
    "            dt = pd.read_csv('Chi Square n=3.csv',dtype=str, sep = \"\\t\", encoding='latin')\n",
    "            n=3\n",
    "            print(\"Sample Size=\",n)\n",
    "        elif n==3:\n",
    "            dt = pd.read_csv('Chi Square n=4.csv',dtype=str, sep = \"\\t\", encoding='latin')\n",
    "            n=4\n",
    "            print(\"Sample Size=\",n)\n",
    "        elif n==4:\n",
    "            dt = pd.read_csv('Chi Square n=5.csv',dtype=str, sep = \"\\t\", encoding='latin')\n",
    "            n=5 \n",
    "            print(\"Sample Size=\",n)                       \n",
    "        elif n==5:\n",
    "            dt = pd.read_csv('Chi Square n=10.csv',dtype=str, sep = \"\\t\", encoding='latin')\n",
    "            n=10\n",
    "            print(\"Sample Size=\",n)            \n",
    "        elif n==6:\n",
    "            dt = pd.read_csv('Chi Square n=20.csv',dtype=str, sep = \"\\t\", encoding='latin')\n",
    "            n=20\n",
    "            print(\"Sample Size=\",n)            \n",
    "        elif n==7:\n",
    "            dt = pd.read_csv('Chi Square n=30.csv',dtype=str, sep = \"\\t\", encoding='latin')\n",
    "            n=30\n",
    "            print(\"Sample Size=\",n)            \n",
    "        elif n==8:\n",
    "            dt = pd.read_csv('Chi Square n=40.csv',dtype=str, sep = \"\\t\", encoding='latin')\n",
    "            n=40\n",
    "            print(\"Sample Size=\",n)            \n",
    "        elif n==9:\n",
    "            dt = pd.read_csv('Chi Square n=50.csv',dtype=str, sep = \"\\t\", encoding='latin')\n",
    "            n=50\n",
    "            print(\"Sample Size=\",n)            \n",
    "        elif n==10:\n",
    "            dt = pd.read_csv('Chi Square n=100.csv',dtype=str, sep = \"\\t\", encoding='latin')\n",
    "            n=100\n",
    "            print(\"Sample Size=\",n)            \n",
    "        elif n==11:\n",
    "            dt = pd.read_csv('Chi Square n=150.csv',dtype=str, sep = \"\\t\", encoding='latin')\n",
    "            n=150\n",
    "            print(\"Sample Size=\",n)            \n",
    "        elif n==12:\n",
    "            dt = pd.read_csv('Chi Square n=200.csv',dtype=str, sep = \"\\t\", encoding='latin')\n",
    "            n=200\n",
    "            print(\"Sample Size=\",n)            \n",
    "        else:\n",
    "            dt = pd.read_csv('Chi Square n=250.csv',dtype=str, sep = \"\\t\", encoding='latin')\n",
    "            n=250\n",
    "            print(\"Sample Size=\",n)            \n",
    "        exitn=1\n",
    "        break\n",
    "    else :\n",
    "        n==-1\n",
    "        print(\"Wrong Number, re-run the code again and type a number between 1 and 13 and re-run the code again by clicking:\\nKernel>Restart\\nNo sample size chosen\")\n",
    "\n",
    "print()\n",
    "\n",
    "\n",
    "#Statistical Significance\n",
    "alpha=0.05\n",
    "while (alpha <  1 and alpha > 0) :\n",
    "    alpha = float(input (\"Enter Statistical Significance :\\nType a number between 0 and 1, but not 0 nor 1\\n\"))\n",
    "    if alpha <  1 and alpha > 0 :\n",
    "        print(\"α = \",alpha)\n",
    "        exita=1\n",
    "        break\n",
    "    else :\n",
    "        alpha==0.05\n",
    "        print(\"Wrong Number, \\n\\nLevel of Statistical Significance\\nα = 0.05\\n if you want different alpha, re-run the code again and type a number between 0 and 1 by clicking:\\nKernel>Restart\")\n",
    "if exitn==1 and exita==1:\n",
    "    print(\"Statistical Significance:\",alpha)\n"
   ]
  },
  {
   "cell_type": "code",
   "execution_count": 5,
   "id": "eec65585",
   "metadata": {},
   "outputs": [],
   "source": [
    "#Create a function to recode variables\n",
    "def my_recode(Employee_Name):\n",
    "    if Employee_Name == \"Susan\":\n",
    "        return 1\n",
    "    elif Employee_Name == \"Camilla\":\n",
    "        return 2\n",
    "    elif Employee_Name == \"Albert\":\n",
    "        return 3\n",
    "    else:\n",
    "        return 4\n",
    "dt['Recode'] = dt['Employee Name'].apply(my_recode)\n"
   ]
  },
  {
   "cell_type": "code",
   "execution_count": 6,
   "id": "73f951e7",
   "metadata": {},
   "outputs": [
    {
     "data": {
      "text/html": [
       "<div>\n",
       "<style scoped>\n",
       "    .dataframe tbody tr th:only-of-type {\n",
       "        vertical-align: middle;\n",
       "    }\n",
       "\n",
       "    .dataframe tbody tr th {\n",
       "        vertical-align: top;\n",
       "    }\n",
       "\n",
       "    .dataframe thead th {\n",
       "        text-align: right;\n",
       "    }\n",
       "</style>\n",
       "<table border=\"1\" class=\"dataframe\">\n",
       "  <thead>\n",
       "    <tr style=\"text-align: right;\">\n",
       "      <th></th>\n",
       "      <th>Employee Name</th>\n",
       "      <th>Recode</th>\n",
       "    </tr>\n",
       "  </thead>\n",
       "  <tbody>\n",
       "    <tr>\n",
       "      <th>0</th>\n",
       "      <td>Camilla</td>\n",
       "      <td>2</td>\n",
       "    </tr>\n",
       "    <tr>\n",
       "      <th>1</th>\n",
       "      <td>Susan</td>\n",
       "      <td>1</td>\n",
       "    </tr>\n",
       "    <tr>\n",
       "      <th>2</th>\n",
       "      <td>Susan</td>\n",
       "      <td>1</td>\n",
       "    </tr>\n",
       "    <tr>\n",
       "      <th>3</th>\n",
       "      <td>Susan</td>\n",
       "      <td>1</td>\n",
       "    </tr>\n",
       "    <tr>\n",
       "      <th>4</th>\n",
       "      <td>Susan</td>\n",
       "      <td>1</td>\n",
       "    </tr>\n",
       "    <tr>\n",
       "      <th>...</th>\n",
       "      <td>...</td>\n",
       "      <td>...</td>\n",
       "    </tr>\n",
       "    <tr>\n",
       "      <th>395</th>\n",
       "      <td>Jimmy</td>\n",
       "      <td>4</td>\n",
       "    </tr>\n",
       "    <tr>\n",
       "      <th>396</th>\n",
       "      <td>Susan</td>\n",
       "      <td>1</td>\n",
       "    </tr>\n",
       "    <tr>\n",
       "      <th>397</th>\n",
       "      <td>Camilla</td>\n",
       "      <td>2</td>\n",
       "    </tr>\n",
       "    <tr>\n",
       "      <th>398</th>\n",
       "      <td>Camilla</td>\n",
       "      <td>2</td>\n",
       "    </tr>\n",
       "    <tr>\n",
       "      <th>399</th>\n",
       "      <td>Camilla</td>\n",
       "      <td>2</td>\n",
       "    </tr>\n",
       "  </tbody>\n",
       "</table>\n",
       "<p>400 rows × 2 columns</p>\n",
       "</div>"
      ],
      "text/plain": [
       "    Employee Name  Recode\n",
       "0         Camilla       2\n",
       "1           Susan       1\n",
       "2           Susan       1\n",
       "3           Susan       1\n",
       "4           Susan       1\n",
       "..            ...     ...\n",
       "395         Jimmy       4\n",
       "396         Susan       1\n",
       "397       Camilla       2\n",
       "398       Camilla       2\n",
       "399       Camilla       2\n",
       "\n",
       "[400 rows x 2 columns]"
      ]
     },
     "execution_count": 6,
     "metadata": {},
     "output_type": "execute_result"
    }
   ],
   "source": [
    "dt"
   ]
  },
  {
   "cell_type": "markdown",
   "id": "f2741d1a",
   "metadata": {},
   "source": [
    "## Analysis"
   ]
  },
  {
   "cell_type": "code",
   "execution_count": 7,
   "id": "fef4b524",
   "metadata": {},
   "outputs": [],
   "source": [
    "observed = dt['Employee Name'].value_counts()"
   ]
  },
  {
   "cell_type": "code",
   "execution_count": 8,
   "id": "bc4f5552",
   "metadata": {},
   "outputs": [],
   "source": [
    "d1 = observed[0:1].to_string(index=True)\n",
    "d2 = observed[1:2].to_string(index=True)\n",
    "d3 = observed[2:3].to_string(index=True)\n",
    "d4 = observed[3:4].to_string(index=True)\n",
    "category1=d1.split(\" \", 1)\n",
    "category2=d2.split(\" \", 1)\n",
    "category3=d3.split(\" \", 1)\n",
    "category4=d4.split(\" \", 1)\n",
    "category1=category1[0]\n",
    "category2=category2[0]\n",
    "category3=category3[0]\n",
    "category4=category4[0]"
   ]
  },
  {
   "cell_type": "code",
   "execution_count": 17,
   "id": "b30d644f",
   "metadata": {},
   "outputs": [
    {
     "name": "stdout",
     "output_type": "stream",
     "text": [
      "Employee Name      Observed N    Expected N    (O - E)    (O - E)^2    ((O - E)^2) / E\n",
      "---------------  ------------  ------------  ---------  -----------  -----------------\n",
      "Camilla                   240           100        140        19600                196\n",
      "Jimmy                      80           100        -20          400                  4\n",
      "Susan                      60           100        -40         1600                 16\n",
      "Albert                     20           100        -80         6400                 64\n"
     ]
    }
   ],
   "source": [
    "import tabulate\n",
    "from tabulate import tabulate\n",
    "\n",
    "col_names = [\"Employee Name\", \"Observed N\", \"Expected N\", \"(O - E)\", \"(O - E)^2\", \"((O - E)^2) / E\"]\n",
    "\n",
    "data =  [   \n",
    "            [category1,observed[0],n,(observed[0]-n),((observed[0]-n)**2),((observed[0]-n)**2)/n], \n",
    "            [category2,observed[1],n,(observed[1]-n),((observed[1]-n)**2),((observed[1]-n)**2)/n], \n",
    "            [category3,observed[2],n,(observed[2]-n),((observed[2]-n)**2),((observed[2]-n)**2)/n], \n",
    "            [category4,observed[3],n,(observed[3]-n),((observed[3]-n)**2),((observed[3]-n)**2)/n]\n",
    "        ]\n",
    "\n",
    "print(tabulate(data, col_names))"
   ]
  },
  {
   "cell_type": "markdown",
   "id": "d6439222",
   "metadata": {},
   "source": [
    "## Graphs"
   ]
  },
  {
   "cell_type": "code",
   "execution_count": 10,
   "id": "93e91171",
   "metadata": {},
   "outputs": [
    {
     "data": {
      "image/png": "[encoded data removed]",
      "text/plain": [
       "<Figure size 1080x720 with 1 Axes>"
      ]
     },
     "metadata": {
      "needs_background": "light"
     },
     "output_type": "display_data"
    }
   ],
   "source": [
    "#Bar Chart Observed vs Expected\n",
    "fig, ax = plt.subplots(figsize=(15,10)) #Setting size of the canvas\n",
    "\n",
    "X = [category1,category2,category3,category4]\n",
    "Yobserved = [observed[0],observed[1],observed[2],observed[3]]\n",
    "Zexpected = [n,n,n,n]\n",
    "  \n",
    "X_axis = np.arange(len(X))\n",
    "  \n",
    "plt.bar(X_axis - 0.2, Yobserved, 0.4, label = 'Observed',color=\"r\")\n",
    "plt.bar(X_axis + 0.2, Zexpected, 0.4, label = 'Expected',color=\"g\")\n",
    "  \n",
    "plt.xticks(X_axis, X)\n",
    "plt.xlabel(\"Employes\")\n",
    "plt.ylabel(\"Counts\")\n",
    "plt.title(\"Observed vs Expected\")\n",
    "plt.legend()\n",
    "plt.show()"
   ]
  },
  {
   "cell_type": "markdown",
   "id": "5eecb5ce",
   "metadata": {},
   "source": [
    "### Testing Hypothesis"
   ]
  },
  {
   "cell_type": "code",
   "execution_count": 11,
   "id": "683fd65f",
   "metadata": {},
   "outputs": [],
   "source": [
    "#perform Chi-Square Goodness of Fit Test\n",
    "\n",
    "obs = [observed[0],observed[1],observed[2],observed[3]]\n",
    "\n",
    "#find Chi-Square critical value\n",
    "stats.chi2.ppf(1-alpha, df=n-1)\n",
    "\n",
    "chisquaretest=stats.chisquare(f_obs=obs, f_exp=None)\n",
    "chi2statistic=np.round(chisquaretest[0],3)\n",
    "sig=np.round(chisquaretest[1],4)"
   ]
  },
  {
   "cell_type": "code",
   "execution_count": 12,
   "id": "1ac8e588",
   "metadata": {},
   "outputs": [
    {
     "name": "stdout",
     "output_type": "stream",
     "text": [
      "Test Hypothesis\n",
      "===============================================================================================================================\n",
      "Q: Do you favor some employees when assigning Saturdays off?\n",
      "H0: There is NO difference between observed and expected frequencies between Employees.\n",
      "\t(You do NOT favor some employees when assigning Saturdays off).\n",
      "H1: There is a difference between observed and expected frequencies between Employees.\n",
      "\t(You DO favor some employees when assigning Saturdays off)\n",
      "===============================================================================================================================\n",
      "Critical chi-square-statistic =  117.407\n",
      "Observed chi-square-statistic =  280.0\n",
      "df = 99\n",
      "p-value = 0.0\n"
     ]
    }
   ],
   "source": [
    "print(\"Test Hypothesis\")\n",
    "print('===============================================================================================================================')\n",
    "print(\"Q: Do you favor some employees when assigning Saturdays off?\")\n",
    "print(\"H0: There is NO difference between observed and expected frequencies between Employees.\\n\\t(You do NOT favor some employees when assigning Saturdays off).\")\n",
    "print(\"H1: There is a difference between observed and expected frequencies between Employees.\\n\\t(You DO favor some employees when assigning Saturdays off)\")\n",
    "print('===============================================================================================================================')\n",
    "\n",
    "\n",
    "print(\"Critical chi-square-statistic = \",np.round(stats.chi2.ppf(1-alpha, df=n-1),3))\n",
    "print(\"Observed chi-square-statistic = \",np.round(chi2statistic,3))\n",
    "print(\"df =\",n-1)\n",
    "print(\"p-value =\",sig)"
   ]
  },
  {
   "cell_type": "code",
   "execution_count": 13,
   "id": "9fc02b13",
   "metadata": {},
   "outputs": [],
   "source": [
    "#Cramer's V\n",
    "minDim = min(dt.shape)-1 #min((c-1,(r-1)))\n",
    "crv = np.round(sqrt(((chi2statistic/(4*n))/(minDim))),4)"
   ]
  },
  {
   "cell_type": "markdown",
   "id": "d73f4c3c",
   "metadata": {},
   "source": [
    "#### Results"
   ]
  },
  {
   "cell_type": "code",
   "execution_count": 14,
   "id": "a1bed981",
   "metadata": {},
   "outputs": [
    {
     "name": "stdout",
     "output_type": "stream",
     "text": [
      "-----------------------------------------\n",
      ": Results :\n",
      "-----------------------------------------\n",
      "\n",
      "Reject the null hypothesis\n",
      "Accept the alternative.\n",
      "The chi-squared is statistically significant\n",
      "You DO favor one or more employees when assigning Saturdays off!\n",
      "Cramer's V =  0.8367\n",
      "\n",
      "-----------------------------------------\n",
      "p-Value = 0.0 < 0.1 = α\n",
      "-----------------------------------------\n"
     ]
    }
   ],
   "source": [
    "print(\"-----------------------------------------\")\n",
    "print(\": Results :\")\n",
    "if(sig < alpha ):\n",
    "    print(\"-----------------------------------------\")\n",
    "    print()\n",
    "    print(\"Reject the null hypothesis\")\n",
    "    print(\"Accept the alternative.\") \n",
    "    print(\"The chi-squared is statistically significant\") \n",
    "    print(\"You DO favor one or more employees when assigning Saturdays off!\")\n",
    "    print(\"Cramer's V = \",crv)\n",
    "    print()  \n",
    "    print(\"-----------------------------------------\")\n",
    "    print(\"p-Value =\",sig, \"<\" , alpha , \"= α\")\n",
    "    print(\"-----------------------------------------\")\n",
    "else:\n",
    "    print(\"-----------------------------------------\")\n",
    "    print(\"Retmain the null.\") \n",
    "    print(\"The chi-squared is not statistically significant.\") \n",
    "    print(\"You do NOT favor one or more employees when assigning Saturdays off!\")\n",
    "    print(\"Cramer's V = \",crv)\n",
    "   \n",
    "    print(\"-----------------------------------------\")\n",
    "    print(\"p-Value =\",sig, \">\" , alpha , \"= α\")\n",
    "    print(\"-----------------------------------------\")"
   ]
  }
 ],
 "metadata": {
  "kernelspec": {
   "display_name": "Python 3 (ipykernel)",
   "language": "python",
   "name": "python3"
  },
  "language_info": {
   "codemirror_mode": {
    "name": "ipython",
    "version": 3
   },
   "file_extension": ".py",
   "mimetype": "text/x-python",
   "name": "python",
   "nbconvert_exporter": "python",
   "pygments_lexer": "ipython3",
   "version": "3.9.12"
  }
 },
 "nbformat": 4,
 "nbformat_minor": 5
}
